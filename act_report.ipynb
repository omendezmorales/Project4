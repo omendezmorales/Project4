{
 "cells": [
  {
   "cell_type": "markdown",
   "metadata": {},
   "source": [
    "# Reporting on dog ratings on Twitter#"
   ]
  },
  {
   "cell_type": "markdown",
   "metadata": {},
   "source": [
    "## Intro\n",
    "\n",
    "For an interesting project I got assigned in my [Udacity's Nanodegree on Data Analytics](https://www.udacity.com/course/data-analyst-nanodegree--nd002), I have wrangled twitter data from   @dog_rates Twitter account, a \"Source For Professional Dog Ratings\".\n",
    "I cleaned, put together and analyze information from over 2000+ tweets, from November 2015 to August 2017 inclusive. @dog_rates users use a numerator and denominator for giving their rating, and usually the former is higher than the latter.\n"
   ]
  },
  {
   "cell_type": "markdown",
   "metadata": {},
   "source": [
    "## My findings\n",
    "\n",
    "1. This is ![Atticus] (https://pbs.twimg.com/media/CmgBZ7kWcAAlzFD.jpg), the highest rated dog in the above mentioned account. He got a 1776 / 10 rating, on the (American) Independence day 2016.\n",
    "2. \n",
    "3. "
   ]
  },
  {
   "cell_type": "code",
   "execution_count": null,
   "metadata": {},
   "outputs": [],
   "source": []
  }
 ],
 "metadata": {
  "kernelspec": {
   "display_name": "Python 3",
   "language": "python",
   "name": "python3"
  },
  "language_info": {
   "codemirror_mode": {
    "name": "ipython",
    "version": 3
   },
   "file_extension": ".py",
   "mimetype": "text/x-python",
   "name": "python",
   "nbconvert_exporter": "python",
   "pygments_lexer": "ipython3",
   "version": "3.8.5"
  }
 },
 "nbformat": 4,
 "nbformat_minor": 4
}
