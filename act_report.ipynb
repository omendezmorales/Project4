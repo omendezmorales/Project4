{
 "cells": [
  {
   "cell_type": "markdown",
   "metadata": {},
   "source": [
    "# Reporting on dog ratings on Twitter#"
   ]
  },
  {
   "cell_type": "markdown",
   "metadata": {},
   "source": [
    "## Intro\n",
    "\n",
    "For an interesting project I got assigned in my [Udacity's Nanodegree on Data Analytics](https://www.udacity.com/course/data-analyst-nanodegree--nd002), I have wrangled twitter data from   @dog_rates Twitter account, a \"Source For Professional Dog Ratings\".\n",
    "I put together, cleaned and analyzed information from over 2000+ tweets, dated from November 2015 to August 2017 inclusive. For giving their rating, @dog_rates users use a numerator and denominator, where usually the former is higher than the latter."
   ]
  },
  {
   "cell_type": "markdown",
   "metadata": {},
   "source": [
    "## My findings\n",
    "\n",
    "So after exercising my *data wrangling* skills learnt in the nano degree lessons, here is a short list of insights I gained from the data gathered:\n",
    "\n",
    "1. This is *Atticus* ![Atticus](https://pbs.twimg.com/media/CmgBZ7kWcAAlzFD.jpg), the highest rated dog in the above mentioned account. He got a 1776 / 10 rating, on the [American Independence day](https://en.wikipedia.org/wiki/Independence_Day_(United_States)) 2016.\n",
    "2. There were two tweets with 0 rating: one [plagiarized](https://t.co/YbEJPkg4Ag) from @dog_rates, and another where no [dog appeared whatsoever](https://t.co/c7WXaB2nqX) in the tweet's image(s)\n",
    "3. I wondered: \"*Which doggie has the highest favorite counts?* (i.e. the ❤️s in each tweet)\". Well, a retriever (apparently a labrador one) got the most favorite counts in the dataset used for my project; look at the [video](https://twitter.com/i/status/744234799360020481), and you'll discover why 🐕\n",
    "4. Finally, the tools I used for this project allow me to do some really useful stuff, like charting the data available. So to give you an idea, here's a pie chart of the top-10 most popular dog breeds included in the examined data:"
   ]
  },
  {
   "cell_type": "markdown",
   "metadata": {},
   "source": [
    "![top10](Images/top_10_breeds.png)"
   ]
  },
  {
   "cell_type": "markdown",
   "metadata": {},
   "source": [
    "## Concluding remarks"
   ]
  },
  {
   "cell_type": "markdown",
   "metadata": {},
   "source": [
    "This is the first exercise I do in gathering, assesing, and cleaning data, in such a methodic way. The results shown above may look simple, but the work behind is enormous! But once you have data with certain quality, the possibilities are many: you can consume the information in dashboards, interactive visualizations, as input for Machine Learning models, etc. So, what do you think of *data wrangling?*"
   ]
  }
 ],
 "metadata": {
  "kernelspec": {
   "display_name": "Python 3",
   "language": "python",
   "name": "python3"
  },
  "language_info": {
   "codemirror_mode": {
    "name": "ipython",
    "version": 3
   },
   "file_extension": ".py",
   "mimetype": "text/x-python",
   "name": "python",
   "nbconvert_exporter": "python",
   "pygments_lexer": "ipython3",
   "version": "3.8.5"
  }
 },
 "nbformat": 4,
 "nbformat_minor": 4
}
