{
 "cells": [
  {
   "cell_type": "code",
   "execution_count": 148,
   "metadata": {},
   "outputs": [],
   "source": [
    "import requests as rq\n",
    "import pandas as pd\n",
    "import linecache \n",
    "\n"
   ]
  },
  {
   "cell_type": "markdown",
   "metadata": {},
   "source": [
    "## Gathering ##\n",
    "\n",
    "As requested in the project details, I get the data from the following sources:"
   ]
  },
  {
   "cell_type": "markdown",
   "metadata": {},
   "source": [
    "### csv source: WeRateDogs Twitter archive  ### "
   ]
  },
  {
   "cell_type": "code",
   "execution_count": 149,
   "metadata": {},
   "outputs": [],
   "source": [
    "archive_df = pd.read_csv('twitter-archive-enhanced.csv')"
   ]
  },
  {
   "cell_type": "markdown",
   "metadata": {},
   "source": [
    "### tsv source: image predictions ###"
   ]
  },
  {
   "cell_type": "code",
   "execution_count": 150,
   "metadata": {},
   "outputs": [],
   "source": [
    "img_predictions = 'https://d17h27t6h515a5.cloudfront.net/topher/2017/August/599fd2ad_image-predictions/image-predictions.tsv'\n",
    "r = rq.get(img_predictions)"
   ]
  },
  {
   "cell_type": "code",
   "execution_count": 151,
   "metadata": {},
   "outputs": [
    {
     "data": {
      "text/plain": [
       "200"
      ]
     },
     "execution_count": 151,
     "metadata": {},
     "output_type": "execute_result"
    }
   ],
   "source": [
    "r.status_code"
   ]
  },
  {
   "cell_type": "code",
   "execution_count": 152,
   "metadata": {},
   "outputs": [],
   "source": [
    "with open('image-predictions.tsv', 'wb') as f:\n",
    "        f.write(r.content)"
   ]
  },
  {
   "cell_type": "code",
   "execution_count": 153,
   "metadata": {},
   "outputs": [],
   "source": [
    "img_predictions_df  = pd.read_csv('image-predictions.tsv', sep= '\\t')"
   ]
  },
  {
   "cell_type": "markdown",
   "metadata": {},
   "source": [
    "### json source: querying the Twitter API ###\n",
    "\n",
    "Using the code facilitated for this project (`twitter_api.py`), I downloaded json data for the tweet IDs contained in source one above. Once in the text file, I used the read_json function of Pandas:"
   ]
  },
  {
   "cell_type": "code",
   "execution_count": 154,
   "metadata": {},
   "outputs": [],
   "source": [
    "json_df = pd.read_json('tweet_json.txt', lines = True )"
   ]
  },
  {
   "cell_type": "markdown",
   "metadata": {},
   "source": [
    "## Assesing ##\n",
    "> Detect and document at least eight (8) quality issues \n",
    " and two (2) tidiness issues in your wrangle_act.ipynb Jupyter Notebook.\n",
    " To meet specifications, the issues that satisfy the Project Motivation (see the Key Points header on the previous page) must be assessed.\n",
    "\n",
    "First, I proceed to look at the essential information concerning the three dataframes I just created. I do this, by invoking `info()` and `shape` for each df."
   ]
  },
  {
   "cell_type": "code",
   "execution_count": 155,
   "metadata": {},
   "outputs": [
    {
     "name": "stdout",
     "output_type": "stream",
     "text": [
      "<class 'pandas.core.frame.DataFrame'>\n",
      "RangeIndex: 2356 entries, 0 to 2355\n",
      "Data columns (total 17 columns):\n",
      " #   Column                      Non-Null Count  Dtype  \n",
      "---  ------                      --------------  -----  \n",
      " 0   tweet_id                    2356 non-null   int64  \n",
      " 1   in_reply_to_status_id       78 non-null     float64\n",
      " 2   in_reply_to_user_id         78 non-null     float64\n",
      " 3   timestamp                   2356 non-null   object \n",
      " 4   source                      2356 non-null   object \n",
      " 5   text                        2356 non-null   object \n",
      " 6   retweeted_status_id         181 non-null    float64\n",
      " 7   retweeted_status_user_id    181 non-null    float64\n",
      " 8   retweeted_status_timestamp  181 non-null    object \n",
      " 9   expanded_urls               2297 non-null   object \n",
      " 10  rating_numerator            2356 non-null   int64  \n",
      " 11  rating_denominator          2356 non-null   int64  \n",
      " 12  name                        2356 non-null   object \n",
      " 13  doggo                       2356 non-null   object \n",
      " 14  floofer                     2356 non-null   object \n",
      " 15  pupper                      2356 non-null   object \n",
      " 16  puppo                       2356 non-null   object \n",
      "dtypes: float64(4), int64(3), object(10)\n",
      "memory usage: 313.0+ KB\n"
     ]
    }
   ],
   "source": [
    "archive_df.info()"
   ]
  },
  {
   "cell_type": "code",
   "execution_count": 156,
   "metadata": {},
   "outputs": [
    {
     "data": {
      "text/plain": [
       "0    This is Phineas. He's a mystical boy. Only eve...\n",
       "1    This is Tilly. She's just checking pup on you....\n",
       "2    This is Archie. He is a rare Norwegian Pouncin...\n",
       "3    This is Darla. She commenced a snooze mid meal...\n",
       "4    This is Franklin. He would like you to stop ca...\n",
       "Name: text, dtype: object"
      ]
     },
     "execution_count": 156,
     "metadata": {},
     "output_type": "execute_result"
    }
   ],
   "source": [
    "archive_df.text.head()"
   ]
  },
  {
   "cell_type": "code",
   "execution_count": 157,
   "metadata": {},
   "outputs": [
    {
     "data": {
      "text/plain": [
       "(2356, 17)"
      ]
     },
     "execution_count": 157,
     "metadata": {},
     "output_type": "execute_result"
    }
   ],
   "source": [
    "archive_df.shape"
   ]
  },
  {
   "cell_type": "code",
   "execution_count": 158,
   "metadata": {},
   "outputs": [
    {
     "name": "stdout",
     "output_type": "stream",
     "text": [
      "<class 'pandas.core.frame.DataFrame'>\n",
      "RangeIndex: 2075 entries, 0 to 2074\n",
      "Data columns (total 12 columns):\n",
      " #   Column    Non-Null Count  Dtype  \n",
      "---  ------    --------------  -----  \n",
      " 0   tweet_id  2075 non-null   int64  \n",
      " 1   jpg_url   2075 non-null   object \n",
      " 2   img_num   2075 non-null   int64  \n",
      " 3   p1        2075 non-null   object \n",
      " 4   p1_conf   2075 non-null   float64\n",
      " 5   p1_dog    2075 non-null   bool   \n",
      " 6   p2        2075 non-null   object \n",
      " 7   p2_conf   2075 non-null   float64\n",
      " 8   p2_dog    2075 non-null   bool   \n",
      " 9   p3        2075 non-null   object \n",
      " 10  p3_conf   2075 non-null   float64\n",
      " 11  p3_dog    2075 non-null   bool   \n",
      "dtypes: bool(3), float64(3), int64(2), object(4)\n",
      "memory usage: 152.1+ KB\n"
     ]
    }
   ],
   "source": [
    "img_predictions_df.info()"
   ]
  },
  {
   "cell_type": "code",
   "execution_count": 159,
   "metadata": {},
   "outputs": [
    {
     "data": {
      "text/plain": [
       "(2075, 12)"
      ]
     },
     "execution_count": 159,
     "metadata": {},
     "output_type": "execute_result"
    }
   ],
   "source": [
    "img_predictions_df.shape"
   ]
  },
  {
   "cell_type": "markdown",
   "metadata": {},
   "source": [
    "We see all entries in the predicitions data frame has a valid URL \n",
    "#TODO find a proper URL regex and pass it to count()"
   ]
  },
  {
   "cell_type": "code",
   "execution_count": 160,
   "metadata": {},
   "outputs": [
    {
     "data": {
      "text/plain": [
       "2075"
      ]
     },
     "execution_count": 160,
     "metadata": {},
     "output_type": "execute_result"
    }
   ],
   "source": [
    "img_predictions_df.jpg_url.str.count('http').size"
   ]
  },
  {
   "cell_type": "code",
   "execution_count": 161,
   "metadata": {},
   "outputs": [
    {
     "name": "stdout",
     "output_type": "stream",
     "text": [
      "<class 'pandas.core.frame.DataFrame'>\n",
      "RangeIndex: 2331 entries, 0 to 2330\n",
      "Data columns (total 32 columns):\n",
      " #   Column                         Non-Null Count  Dtype              \n",
      "---  ------                         --------------  -----              \n",
      " 0   created_at                     2331 non-null   datetime64[ns, UTC]\n",
      " 1   id                             2331 non-null   int64              \n",
      " 2   id_str                         2331 non-null   int64              \n",
      " 3   full_text                      2331 non-null   object             \n",
      " 4   truncated                      2331 non-null   bool               \n",
      " 5   display_text_range             2331 non-null   object             \n",
      " 6   entities                       2331 non-null   object             \n",
      " 7   extended_entities              2059 non-null   object             \n",
      " 8   source                         2331 non-null   object             \n",
      " 9   in_reply_to_status_id          77 non-null     float64            \n",
      " 10  in_reply_to_status_id_str      77 non-null     float64            \n",
      " 11  in_reply_to_user_id            77 non-null     float64            \n",
      " 12  in_reply_to_user_id_str        77 non-null     float64            \n",
      " 13  in_reply_to_screen_name        77 non-null     object             \n",
      " 14  user                           2331 non-null   object             \n",
      " 15  geo                            0 non-null      float64            \n",
      " 16  coordinates                    0 non-null      float64            \n",
      " 17  place                          1 non-null      object             \n",
      " 18  contributors                   0 non-null      float64            \n",
      " 19  is_quote_status                2331 non-null   bool               \n",
      " 20  retweet_count                  2331 non-null   int64              \n",
      " 21  favorite_count                 2331 non-null   int64              \n",
      " 22  favorited                      2331 non-null   bool               \n",
      " 23  retweeted                      2331 non-null   bool               \n",
      " 24  possibly_sensitive             2197 non-null   float64            \n",
      " 25  possibly_sensitive_appealable  2197 non-null   float64            \n",
      " 26  lang                           2331 non-null   object             \n",
      " 27  retweeted_status               163 non-null    object             \n",
      " 28  quoted_status_id               26 non-null     float64            \n",
      " 29  quoted_status_id_str           26 non-null     float64            \n",
      " 30  quoted_status_permalink        26 non-null     object             \n",
      " 31  quoted_status                  24 non-null     object             \n",
      "dtypes: bool(4), datetime64[ns, UTC](1), float64(11), int64(4), object(12)\n",
      "memory usage: 519.1+ KB\n"
     ]
    }
   ],
   "source": [
    "json_df.info()"
   ]
  },
  {
   "cell_type": "code",
   "execution_count": 162,
   "metadata": {},
   "outputs": [
    {
     "data": {
      "text/plain": [
       "(2331, 32)"
      ]
     },
     "execution_count": 162,
     "metadata": {},
     "output_type": "execute_result"
    }
   ],
   "source": [
    "json_df.shape"
   ]
  },
  {
   "cell_type": "markdown",
   "metadata": {},
   "source": [
    "The information above leaves us that the image predictions data frame has the least information with 2075 rows, next we have the json one with 2351, and finally the archive with 2356."
   ]
  },
  {
   "cell_type": "markdown",
   "metadata": {},
   "source": [
    "### Visual assessment ####\n",
    "With our dataframes loaded, we can do a visual assessment, to get familiar with the data:"
   ]
  },
  {
   "cell_type": "code",
   "execution_count": 163,
   "metadata": {},
   "outputs": [
    {
     "data": {
      "text/html": [
       "<div>\n",
       "<style scoped>\n",
       "    .dataframe tbody tr th:only-of-type {\n",
       "        vertical-align: middle;\n",
       "    }\n",
       "\n",
       "    .dataframe tbody tr th {\n",
       "        vertical-align: top;\n",
       "    }\n",
       "\n",
       "    .dataframe thead th {\n",
       "        text-align: right;\n",
       "    }\n",
       "</style>\n",
       "<table border=\"1\" class=\"dataframe\">\n",
       "  <thead>\n",
       "    <tr style=\"text-align: right;\">\n",
       "      <th></th>\n",
       "      <th>tweet_id</th>\n",
       "      <th>in_reply_to_status_id</th>\n",
       "      <th>in_reply_to_user_id</th>\n",
       "      <th>timestamp</th>\n",
       "      <th>source</th>\n",
       "      <th>text</th>\n",
       "      <th>retweeted_status_id</th>\n",
       "      <th>retweeted_status_user_id</th>\n",
       "      <th>retweeted_status_timestamp</th>\n",
       "      <th>expanded_urls</th>\n",
       "      <th>rating_numerator</th>\n",
       "      <th>rating_denominator</th>\n",
       "      <th>name</th>\n",
       "      <th>doggo</th>\n",
       "      <th>floofer</th>\n",
       "      <th>pupper</th>\n",
       "      <th>puppo</th>\n",
       "    </tr>\n",
       "  </thead>\n",
       "  <tbody>\n",
       "    <tr>\n",
       "      <th>250</th>\n",
       "      <td>845098359547420673</td>\n",
       "      <td>NaN</td>\n",
       "      <td>NaN</td>\n",
       "      <td>2017-03-24 02:22:04 +0000</td>\n",
       "      <td>&lt;a href=\"http://twitter.com/download/iphone\" r...</td>\n",
       "      <td>RT @dog_rates: This is Bungalo. She uses that ...</td>\n",
       "      <td>7.733088e+17</td>\n",
       "      <td>4.196984e+09</td>\n",
       "      <td>2016-09-06 23:56:05 +0000</td>\n",
       "      <td>https://twitter.com/dog_rates/status/773308824...</td>\n",
       "      <td>12</td>\n",
       "      <td>10</td>\n",
       "      <td>Bungalo</td>\n",
       "      <td>None</td>\n",
       "      <td>None</td>\n",
       "      <td>None</td>\n",
       "      <td>None</td>\n",
       "    </tr>\n",
       "    <tr>\n",
       "      <th>1899</th>\n",
       "      <td>674670581682434048</td>\n",
       "      <td>NaN</td>\n",
       "      <td>NaN</td>\n",
       "      <td>2015-12-09 19:22:56 +0000</td>\n",
       "      <td>&lt;a href=\"http://twitter.com/download/iphone\" r...</td>\n",
       "      <td>Meet Jeb &amp;amp; Bush. Jeb is somehow stuck in t...</td>\n",
       "      <td>NaN</td>\n",
       "      <td>NaN</td>\n",
       "      <td>NaN</td>\n",
       "      <td>https://twitter.com/dog_rates/status/674670581...</td>\n",
       "      <td>9</td>\n",
       "      <td>10</td>\n",
       "      <td>Jeb</td>\n",
       "      <td>None</td>\n",
       "      <td>None</td>\n",
       "      <td>None</td>\n",
       "      <td>None</td>\n",
       "    </tr>\n",
       "    <tr>\n",
       "      <th>1068</th>\n",
       "      <td>740373189193256964</td>\n",
       "      <td>NaN</td>\n",
       "      <td>NaN</td>\n",
       "      <td>2016-06-08 02:41:38 +0000</td>\n",
       "      <td>&lt;a href=\"http://twitter.com/download/iphone\" r...</td>\n",
       "      <td>After so many requests, this is Bretagne. She ...</td>\n",
       "      <td>NaN</td>\n",
       "      <td>NaN</td>\n",
       "      <td>NaN</td>\n",
       "      <td>https://twitter.com/dog_rates/status/740373189...</td>\n",
       "      <td>9</td>\n",
       "      <td>11</td>\n",
       "      <td>None</td>\n",
       "      <td>None</td>\n",
       "      <td>None</td>\n",
       "      <td>None</td>\n",
       "      <td>None</td>\n",
       "    </tr>\n",
       "    <tr>\n",
       "      <th>153</th>\n",
       "      <td>862457590147678208</td>\n",
       "      <td>NaN</td>\n",
       "      <td>NaN</td>\n",
       "      <td>2017-05-11 00:01:27 +0000</td>\n",
       "      <td>&lt;a href=\"http://twitter.com/download/iphone\" r...</td>\n",
       "      <td>This is Jersey. He likes to watch movies, but ...</td>\n",
       "      <td>NaN</td>\n",
       "      <td>NaN</td>\n",
       "      <td>NaN</td>\n",
       "      <td>https://twitter.com/dog_rates/status/862457590...</td>\n",
       "      <td>13</td>\n",
       "      <td>10</td>\n",
       "      <td>Jersey</td>\n",
       "      <td>None</td>\n",
       "      <td>None</td>\n",
       "      <td>None</td>\n",
       "      <td>None</td>\n",
       "    </tr>\n",
       "    <tr>\n",
       "      <th>449</th>\n",
       "      <td>819004803107983360</td>\n",
       "      <td>NaN</td>\n",
       "      <td>NaN</td>\n",
       "      <td>2017-01-11 02:15:36 +0000</td>\n",
       "      <td>&lt;a href=\"http://twitter.com/download/iphone\" r...</td>\n",
       "      <td>This is Bo. He was a very good First Doggo. 14...</td>\n",
       "      <td>NaN</td>\n",
       "      <td>NaN</td>\n",
       "      <td>NaN</td>\n",
       "      <td>https://twitter.com/dog_rates/status/819004803...</td>\n",
       "      <td>14</td>\n",
       "      <td>10</td>\n",
       "      <td>Bo</td>\n",
       "      <td>doggo</td>\n",
       "      <td>None</td>\n",
       "      <td>None</td>\n",
       "      <td>None</td>\n",
       "    </tr>\n",
       "  </tbody>\n",
       "</table>\n",
       "</div>"
      ],
      "text/plain": [
       "                tweet_id  in_reply_to_status_id  in_reply_to_user_id  \\\n",
       "250   845098359547420673                    NaN                  NaN   \n",
       "1899  674670581682434048                    NaN                  NaN   \n",
       "1068  740373189193256964                    NaN                  NaN   \n",
       "153   862457590147678208                    NaN                  NaN   \n",
       "449   819004803107983360                    NaN                  NaN   \n",
       "\n",
       "                      timestamp  \\\n",
       "250   2017-03-24 02:22:04 +0000   \n",
       "1899  2015-12-09 19:22:56 +0000   \n",
       "1068  2016-06-08 02:41:38 +0000   \n",
       "153   2017-05-11 00:01:27 +0000   \n",
       "449   2017-01-11 02:15:36 +0000   \n",
       "\n",
       "                                                 source  \\\n",
       "250   <a href=\"http://twitter.com/download/iphone\" r...   \n",
       "1899  <a href=\"http://twitter.com/download/iphone\" r...   \n",
       "1068  <a href=\"http://twitter.com/download/iphone\" r...   \n",
       "153   <a href=\"http://twitter.com/download/iphone\" r...   \n",
       "449   <a href=\"http://twitter.com/download/iphone\" r...   \n",
       "\n",
       "                                                   text  retweeted_status_id  \\\n",
       "250   RT @dog_rates: This is Bungalo. She uses that ...         7.733088e+17   \n",
       "1899  Meet Jeb &amp; Bush. Jeb is somehow stuck in t...                  NaN   \n",
       "1068  After so many requests, this is Bretagne. She ...                  NaN   \n",
       "153   This is Jersey. He likes to watch movies, but ...                  NaN   \n",
       "449   This is Bo. He was a very good First Doggo. 14...                  NaN   \n",
       "\n",
       "      retweeted_status_user_id retweeted_status_timestamp  \\\n",
       "250               4.196984e+09  2016-09-06 23:56:05 +0000   \n",
       "1899                       NaN                        NaN   \n",
       "1068                       NaN                        NaN   \n",
       "153                        NaN                        NaN   \n",
       "449                        NaN                        NaN   \n",
       "\n",
       "                                          expanded_urls  rating_numerator  \\\n",
       "250   https://twitter.com/dog_rates/status/773308824...                12   \n",
       "1899  https://twitter.com/dog_rates/status/674670581...                 9   \n",
       "1068  https://twitter.com/dog_rates/status/740373189...                 9   \n",
       "153   https://twitter.com/dog_rates/status/862457590...                13   \n",
       "449   https://twitter.com/dog_rates/status/819004803...                14   \n",
       "\n",
       "      rating_denominator     name  doggo floofer pupper puppo  \n",
       "250                   10  Bungalo   None    None   None  None  \n",
       "1899                  10      Jeb   None    None   None  None  \n",
       "1068                  11     None   None    None   None  None  \n",
       "153                   10   Jersey   None    None   None  None  \n",
       "449                   10       Bo  doggo    None   None  None  "
      ]
     },
     "execution_count": 163,
     "metadata": {},
     "output_type": "execute_result"
    }
   ],
   "source": [
    "archive_df.sample(5)"
   ]
  },
  {
   "cell_type": "code",
   "execution_count": 164,
   "metadata": {},
   "outputs": [
    {
     "data": {
      "text/plain": [
       "12      558\n",
       "11      464\n",
       "10      461\n",
       "13      351\n",
       "9       158\n",
       "8       102\n",
       "7        55\n",
       "14       54\n",
       "5        37\n",
       "6        32\n",
       "3        19\n",
       "4        17\n",
       "1         9\n",
       "2         9\n",
       "0         2\n",
       "15        2\n",
       "75        2\n",
       "420       2\n",
       "182       1\n",
       "204       1\n",
       "143       1\n",
       "121       1\n",
       "99        1\n",
       "20        1\n",
       "45        1\n",
       "27        1\n",
       "17        1\n",
       "24        1\n",
       "26        1\n",
       "44        1\n",
       "50        1\n",
       "60        1\n",
       "80        1\n",
       "84        1\n",
       "88        1\n",
       "1776      1\n",
       "960       1\n",
       "666       1\n",
       "144       1\n",
       "165       1\n",
       "Name: rating_numerator, dtype: int64"
      ]
     },
     "metadata": {},
     "output_type": "display_data"
    },
    {
     "data": {
      "text/plain": [
       "10     2333\n",
       "11        3\n",
       "50        3\n",
       "20        2\n",
       "80        2\n",
       "0         1\n",
       "120       1\n",
       "7         1\n",
       "170       1\n",
       "150       1\n",
       "130       1\n",
       "90        1\n",
       "110       1\n",
       "2         1\n",
       "70        1\n",
       "40        1\n",
       "16        1\n",
       "15        1\n",
       "Name: rating_denominator, dtype: int64"
      ]
     },
     "metadata": {},
     "output_type": "display_data"
    }
   ],
   "source": [
    "display(archive_df.rating_numerator.value_counts(ascending=False))\n",
    "display(archive_df.rating_denominator.value_counts(ascending=False))"
   ]
  },
  {
   "cell_type": "code",
   "execution_count": 165,
   "metadata": {},
   "outputs": [
    {
     "data": {
      "text/plain": [
       "None     2259\n",
       "doggo      97\n",
       "Name: doggo, dtype: int64"
      ]
     },
     "metadata": {},
     "output_type": "display_data"
    },
    {
     "data": {
      "text/plain": [
       "None       2346\n",
       "floofer      10\n",
       "Name: floofer, dtype: int64"
      ]
     },
     "metadata": {},
     "output_type": "display_data"
    }
   ],
   "source": [
    "display(archive_df.doggo.value_counts(),  archive_df.floofer.value_counts())"
   ]
  },
  {
   "cell_type": "code",
   "execution_count": 166,
   "metadata": {},
   "outputs": [
    {
     "data": {
      "text/plain": [
       "None      2099\n",
       "pupper     257\n",
       "Name: pupper, dtype: int64"
      ]
     },
     "metadata": {},
     "output_type": "display_data"
    },
    {
     "data": {
      "text/plain": [
       "None     2326\n",
       "puppo      30\n",
       "Name: puppo, dtype: int64"
      ]
     },
     "metadata": {},
     "output_type": "display_data"
    }
   ],
   "source": [
    "display(archive_df.pupper.value_counts(), archive_df.puppo.value_counts())"
   ]
  },
  {
   "cell_type": "code",
   "execution_count": 167,
   "metadata": {},
   "outputs": [
    {
     "data": {
      "text/html": [
       "<div>\n",
       "<style scoped>\n",
       "    .dataframe tbody tr th:only-of-type {\n",
       "        vertical-align: middle;\n",
       "    }\n",
       "\n",
       "    .dataframe tbody tr th {\n",
       "        vertical-align: top;\n",
       "    }\n",
       "\n",
       "    .dataframe thead th {\n",
       "        text-align: right;\n",
       "    }\n",
       "</style>\n",
       "<table border=\"1\" class=\"dataframe\">\n",
       "  <thead>\n",
       "    <tr style=\"text-align: right;\">\n",
       "      <th></th>\n",
       "      <th>retweeted_status_id</th>\n",
       "      <th>retweeted_status_user_id</th>\n",
       "      <th>timestamp</th>\n",
       "      <th>retweeted_status_timestamp</th>\n",
       "    </tr>\n",
       "  </thead>\n",
       "  <tbody>\n",
       "    <tr>\n",
       "      <th>19</th>\n",
       "      <td>8.874740e+17</td>\n",
       "      <td>4.196984e+09</td>\n",
       "      <td>2017-07-21 01:02:36 +0000</td>\n",
       "      <td>2017-07-19 00:47:34 +0000</td>\n",
       "    </tr>\n",
       "    <tr>\n",
       "      <th>32</th>\n",
       "      <td>8.860537e+17</td>\n",
       "      <td>1.960740e+07</td>\n",
       "      <td>2017-07-15 02:45:48 +0000</td>\n",
       "      <td>2017-07-15 02:44:07 +0000</td>\n",
       "    </tr>\n",
       "    <tr>\n",
       "      <th>36</th>\n",
       "      <td>8.305833e+17</td>\n",
       "      <td>4.196984e+09</td>\n",
       "      <td>2017-07-13 01:35:06 +0000</td>\n",
       "      <td>2017-02-12 01:04:29 +0000</td>\n",
       "    </tr>\n",
       "    <tr>\n",
       "      <th>68</th>\n",
       "      <td>8.780576e+17</td>\n",
       "      <td>4.196984e+09</td>\n",
       "      <td>2017-06-26 00:13:58 +0000</td>\n",
       "      <td>2017-06-23 01:10:23 +0000</td>\n",
       "    </tr>\n",
       "    <tr>\n",
       "      <th>73</th>\n",
       "      <td>8.782815e+17</td>\n",
       "      <td>4.196984e+09</td>\n",
       "      <td>2017-06-24 00:09:53 +0000</td>\n",
       "      <td>2017-06-23 16:00:04 +0000</td>\n",
       "    </tr>\n",
       "    <tr>\n",
       "      <th>...</th>\n",
       "      <td>...</td>\n",
       "      <td>...</td>\n",
       "      <td>...</td>\n",
       "      <td>...</td>\n",
       "    </tr>\n",
       "    <tr>\n",
       "      <th>1023</th>\n",
       "      <td>6.678667e+17</td>\n",
       "      <td>4.196984e+09</td>\n",
       "      <td>2016-06-25 01:52:36 +0000</td>\n",
       "      <td>2015-11-21 00:46:50 +0000</td>\n",
       "    </tr>\n",
       "    <tr>\n",
       "      <th>1043</th>\n",
       "      <td>6.671383e+17</td>\n",
       "      <td>4.196984e+09</td>\n",
       "      <td>2016-06-17 16:01:16 +0000</td>\n",
       "      <td>2015-11-19 00:32:12 +0000</td>\n",
       "    </tr>\n",
       "    <tr>\n",
       "      <th>1242</th>\n",
       "      <td>7.119983e+17</td>\n",
       "      <td>7.832140e+05</td>\n",
       "      <td>2016-03-21 19:31:59 +0000</td>\n",
       "      <td>2016-03-21 19:29:52 +0000</td>\n",
       "    </tr>\n",
       "    <tr>\n",
       "      <th>2259</th>\n",
       "      <td>6.675487e+17</td>\n",
       "      <td>4.296832e+09</td>\n",
       "      <td>2015-11-20 03:51:52 +0000</td>\n",
       "      <td>2015-11-20 03:43:06 +0000</td>\n",
       "    </tr>\n",
       "    <tr>\n",
       "      <th>2260</th>\n",
       "      <td>6.675484e+17</td>\n",
       "      <td>4.296832e+09</td>\n",
       "      <td>2015-11-20 03:51:47 +0000</td>\n",
       "      <td>2015-11-20 03:41:59 +0000</td>\n",
       "    </tr>\n",
       "  </tbody>\n",
       "</table>\n",
       "<p>181 rows × 4 columns</p>\n",
       "</div>"
      ],
      "text/plain": [
       "      retweeted_status_id  retweeted_status_user_id  \\\n",
       "19           8.874740e+17              4.196984e+09   \n",
       "32           8.860537e+17              1.960740e+07   \n",
       "36           8.305833e+17              4.196984e+09   \n",
       "68           8.780576e+17              4.196984e+09   \n",
       "73           8.782815e+17              4.196984e+09   \n",
       "...                   ...                       ...   \n",
       "1023         6.678667e+17              4.196984e+09   \n",
       "1043         6.671383e+17              4.196984e+09   \n",
       "1242         7.119983e+17              7.832140e+05   \n",
       "2259         6.675487e+17              4.296832e+09   \n",
       "2260         6.675484e+17              4.296832e+09   \n",
       "\n",
       "                      timestamp retweeted_status_timestamp  \n",
       "19    2017-07-21 01:02:36 +0000  2017-07-19 00:47:34 +0000  \n",
       "32    2017-07-15 02:45:48 +0000  2017-07-15 02:44:07 +0000  \n",
       "36    2017-07-13 01:35:06 +0000  2017-02-12 01:04:29 +0000  \n",
       "68    2017-06-26 00:13:58 +0000  2017-06-23 01:10:23 +0000  \n",
       "73    2017-06-24 00:09:53 +0000  2017-06-23 16:00:04 +0000  \n",
       "...                         ...                        ...  \n",
       "1023  2016-06-25 01:52:36 +0000  2015-11-21 00:46:50 +0000  \n",
       "1043  2016-06-17 16:01:16 +0000  2015-11-19 00:32:12 +0000  \n",
       "1242  2016-03-21 19:31:59 +0000  2016-03-21 19:29:52 +0000  \n",
       "2259  2015-11-20 03:51:52 +0000  2015-11-20 03:43:06 +0000  \n",
       "2260  2015-11-20 03:51:47 +0000  2015-11-20 03:41:59 +0000  \n",
       "\n",
       "[181 rows x 4 columns]"
      ]
     },
     "execution_count": 167,
     "metadata": {},
     "output_type": "execute_result"
    }
   ],
   "source": [
    "predicate = archive_df.retweeted_status_id.isnull() == False\n",
    "archive_df[predicate][['retweeted_status_id','retweeted_status_user_id','timestamp','retweeted_status_timestamp']]"
   ]
  },
  {
   "cell_type": "code",
   "execution_count": 168,
   "metadata": {},
   "outputs": [
    {
     "data": {
      "text/html": [
       "<div>\n",
       "<style scoped>\n",
       "    .dataframe tbody tr th:only-of-type {\n",
       "        vertical-align: middle;\n",
       "    }\n",
       "\n",
       "    .dataframe tbody tr th {\n",
       "        vertical-align: top;\n",
       "    }\n",
       "\n",
       "    .dataframe thead th {\n",
       "        text-align: right;\n",
       "    }\n",
       "</style>\n",
       "<table border=\"1\" class=\"dataframe\">\n",
       "  <thead>\n",
       "    <tr style=\"text-align: right;\">\n",
       "      <th></th>\n",
       "      <th>tweet_id</th>\n",
       "      <th>jpg_url</th>\n",
       "      <th>img_num</th>\n",
       "      <th>p1</th>\n",
       "      <th>p1_conf</th>\n",
       "      <th>p1_dog</th>\n",
       "      <th>p2</th>\n",
       "      <th>p2_conf</th>\n",
       "      <th>p2_dog</th>\n",
       "      <th>p3</th>\n",
       "      <th>p3_conf</th>\n",
       "      <th>p3_dog</th>\n",
       "    </tr>\n",
       "  </thead>\n",
       "  <tbody>\n",
       "    <tr>\n",
       "      <th>1423</th>\n",
       "      <td>772117678702071809</td>\n",
       "      <td>https://pbs.twimg.com/media/Crcc7pqXEAAM5O2.jpg</td>\n",
       "      <td>1</td>\n",
       "      <td>Labrador_retriever</td>\n",
       "      <td>0.217821</td>\n",
       "      <td>True</td>\n",
       "      <td>beagle</td>\n",
       "      <td>0.157677</td>\n",
       "      <td>True</td>\n",
       "      <td>golden_retriever</td>\n",
       "      <td>0.127726</td>\n",
       "      <td>True</td>\n",
       "    </tr>\n",
       "    <tr>\n",
       "      <th>672</th>\n",
       "      <td>683142553609318400</td>\n",
       "      <td>https://pbs.twimg.com/media/CXsChyjW8AQJ16C.jpg</td>\n",
       "      <td>1</td>\n",
       "      <td>Leonberg</td>\n",
       "      <td>0.605851</td>\n",
       "      <td>True</td>\n",
       "      <td>chow</td>\n",
       "      <td>0.183470</td>\n",
       "      <td>True</td>\n",
       "      <td>German_shepherd</td>\n",
       "      <td>0.079662</td>\n",
       "      <td>True</td>\n",
       "    </tr>\n",
       "    <tr>\n",
       "      <th>1618</th>\n",
       "      <td>802572683846291456</td>\n",
       "      <td>https://pbs.twimg.com/media/CyNPmJgXcAECPuB.jpg</td>\n",
       "      <td>1</td>\n",
       "      <td>golden_retriever</td>\n",
       "      <td>0.610171</td>\n",
       "      <td>True</td>\n",
       "      <td>Labrador_retriever</td>\n",
       "      <td>0.173252</td>\n",
       "      <td>True</td>\n",
       "      <td>cocker_spaniel</td>\n",
       "      <td>0.163257</td>\n",
       "      <td>True</td>\n",
       "    </tr>\n",
       "    <tr>\n",
       "      <th>357</th>\n",
       "      <td>672609152938721280</td>\n",
       "      <td>https://pbs.twimg.com/media/CVWWdKLWEAEnSk7.jpg</td>\n",
       "      <td>1</td>\n",
       "      <td>microwave</td>\n",
       "      <td>0.981946</td>\n",
       "      <td>False</td>\n",
       "      <td>rotisserie</td>\n",
       "      <td>0.007472</td>\n",
       "      <td>False</td>\n",
       "      <td>television</td>\n",
       "      <td>0.005881</td>\n",
       "      <td>False</td>\n",
       "    </tr>\n",
       "    <tr>\n",
       "      <th>1801</th>\n",
       "      <td>831939777352105988</td>\n",
       "      <td>https://pbs.twimg.com/media/C4uk0EWWQAAaZm1.jpg</td>\n",
       "      <td>1</td>\n",
       "      <td>Pomeranian</td>\n",
       "      <td>0.153862</td>\n",
       "      <td>True</td>\n",
       "      <td>marmot</td>\n",
       "      <td>0.091234</td>\n",
       "      <td>False</td>\n",
       "      <td>grey_fox</td>\n",
       "      <td>0.090644</td>\n",
       "      <td>False</td>\n",
       "    </tr>\n",
       "  </tbody>\n",
       "</table>\n",
       "</div>"
      ],
      "text/plain": [
       "                tweet_id                                          jpg_url  \\\n",
       "1423  772117678702071809  https://pbs.twimg.com/media/Crcc7pqXEAAM5O2.jpg   \n",
       "672   683142553609318400  https://pbs.twimg.com/media/CXsChyjW8AQJ16C.jpg   \n",
       "1618  802572683846291456  https://pbs.twimg.com/media/CyNPmJgXcAECPuB.jpg   \n",
       "357   672609152938721280  https://pbs.twimg.com/media/CVWWdKLWEAEnSk7.jpg   \n",
       "1801  831939777352105988  https://pbs.twimg.com/media/C4uk0EWWQAAaZm1.jpg   \n",
       "\n",
       "      img_num                  p1   p1_conf  p1_dog                  p2  \\\n",
       "1423        1  Labrador_retriever  0.217821    True              beagle   \n",
       "672         1            Leonberg  0.605851    True                chow   \n",
       "1618        1    golden_retriever  0.610171    True  Labrador_retriever   \n",
       "357         1           microwave  0.981946   False          rotisserie   \n",
       "1801        1          Pomeranian  0.153862    True              marmot   \n",
       "\n",
       "       p2_conf  p2_dog                p3   p3_conf  p3_dog  \n",
       "1423  0.157677    True  golden_retriever  0.127726    True  \n",
       "672   0.183470    True   German_shepherd  0.079662    True  \n",
       "1618  0.173252    True    cocker_spaniel  0.163257    True  \n",
       "357   0.007472   False        television  0.005881   False  \n",
       "1801  0.091234   False          grey_fox  0.090644   False  "
      ]
     },
     "execution_count": 168,
     "metadata": {},
     "output_type": "execute_result"
    }
   ],
   "source": [
    "img_predictions_df.sample(5)"
   ]
  },
  {
   "cell_type": "code",
   "execution_count": 169,
   "metadata": {},
   "outputs": [
    {
     "data": {
      "text/html": [
       "<div>\n",
       "<style scoped>\n",
       "    .dataframe tbody tr th:only-of-type {\n",
       "        vertical-align: middle;\n",
       "    }\n",
       "\n",
       "    .dataframe tbody tr th {\n",
       "        vertical-align: top;\n",
       "    }\n",
       "\n",
       "    .dataframe thead th {\n",
       "        text-align: right;\n",
       "    }\n",
       "</style>\n",
       "<table border=\"1\" class=\"dataframe\">\n",
       "  <thead>\n",
       "    <tr style=\"text-align: right;\">\n",
       "      <th></th>\n",
       "      <th>tweet_id</th>\n",
       "      <th>jpg_url</th>\n",
       "      <th>img_num</th>\n",
       "      <th>p1</th>\n",
       "      <th>p1_conf</th>\n",
       "      <th>p1_dog</th>\n",
       "      <th>p2</th>\n",
       "      <th>p2_conf</th>\n",
       "      <th>p2_dog</th>\n",
       "      <th>p3</th>\n",
       "      <th>p3_conf</th>\n",
       "      <th>p3_dog</th>\n",
       "    </tr>\n",
       "  </thead>\n",
       "  <tbody>\n",
       "    <tr>\n",
       "      <th>843</th>\n",
       "      <td>695064344191721472</td>\n",
       "      <td>https://pbs.twimg.com/ext_tw_video_thumb/69506...</td>\n",
       "      <td>1</td>\n",
       "      <td>seat_belt</td>\n",
       "      <td>0.522211</td>\n",
       "      <td>False</td>\n",
       "      <td>sunglasses</td>\n",
       "      <td>0.077552</td>\n",
       "      <td>False</td>\n",
       "      <td>ice_lolly</td>\n",
       "      <td>0.051774</td>\n",
       "      <td>False</td>\n",
       "    </tr>\n",
       "    <tr>\n",
       "      <th>1416</th>\n",
       "      <td>771136648247640064</td>\n",
       "      <td>https://pbs.twimg.com/media/CrOgsIBWYAA8Dtb.jpg</td>\n",
       "      <td>1</td>\n",
       "      <td>bathtub</td>\n",
       "      <td>0.368660</td>\n",
       "      <td>False</td>\n",
       "      <td>golden_retriever</td>\n",
       "      <td>0.297402</td>\n",
       "      <td>True</td>\n",
       "      <td>tub</td>\n",
       "      <td>0.201711</td>\n",
       "      <td>False</td>\n",
       "    </tr>\n",
       "    <tr>\n",
       "      <th>761</th>\n",
       "      <td>688894073864884227</td>\n",
       "      <td>https://pbs.twimg.com/media/CY9xf1dUAAE4XLc.jpg</td>\n",
       "      <td>1</td>\n",
       "      <td>hog</td>\n",
       "      <td>0.669996</td>\n",
       "      <td>False</td>\n",
       "      <td>guinea_pig</td>\n",
       "      <td>0.077347</td>\n",
       "      <td>False</td>\n",
       "      <td>hamster</td>\n",
       "      <td>0.062398</td>\n",
       "      <td>False</td>\n",
       "    </tr>\n",
       "    <tr>\n",
       "      <th>253</th>\n",
       "      <td>670727704916926465</td>\n",
       "      <td>https://pbs.twimg.com/media/CU7nSZEW4AA6r5u.jpg</td>\n",
       "      <td>1</td>\n",
       "      <td>wood_rabbit</td>\n",
       "      <td>0.368562</td>\n",
       "      <td>False</td>\n",
       "      <td>tabby</td>\n",
       "      <td>0.309675</td>\n",
       "      <td>False</td>\n",
       "      <td>Egyptian_cat</td>\n",
       "      <td>0.154914</td>\n",
       "      <td>False</td>\n",
       "    </tr>\n",
       "    <tr>\n",
       "      <th>835</th>\n",
       "      <td>694183373896572928</td>\n",
       "      <td>https://pbs.twimg.com/media/CaI8Fn0WAAIrFJN.jpg</td>\n",
       "      <td>1</td>\n",
       "      <td>teddy</td>\n",
       "      <td>0.441499</td>\n",
       "      <td>False</td>\n",
       "      <td>Pekinese</td>\n",
       "      <td>0.080870</td>\n",
       "      <td>True</td>\n",
       "      <td>Shih-Tzu</td>\n",
       "      <td>0.072099</td>\n",
       "      <td>True</td>\n",
       "    </tr>\n",
       "  </tbody>\n",
       "</table>\n",
       "</div>"
      ],
      "text/plain": [
       "                tweet_id                                            jpg_url  \\\n",
       "843   695064344191721472  https://pbs.twimg.com/ext_tw_video_thumb/69506...   \n",
       "1416  771136648247640064    https://pbs.twimg.com/media/CrOgsIBWYAA8Dtb.jpg   \n",
       "761   688894073864884227    https://pbs.twimg.com/media/CY9xf1dUAAE4XLc.jpg   \n",
       "253   670727704916926465    https://pbs.twimg.com/media/CU7nSZEW4AA6r5u.jpg   \n",
       "835   694183373896572928    https://pbs.twimg.com/media/CaI8Fn0WAAIrFJN.jpg   \n",
       "\n",
       "      img_num           p1   p1_conf  p1_dog                p2   p2_conf  \\\n",
       "843         1    seat_belt  0.522211   False        sunglasses  0.077552   \n",
       "1416        1      bathtub  0.368660   False  golden_retriever  0.297402   \n",
       "761         1          hog  0.669996   False        guinea_pig  0.077347   \n",
       "253         1  wood_rabbit  0.368562   False             tabby  0.309675   \n",
       "835         1        teddy  0.441499   False          Pekinese  0.080870   \n",
       "\n",
       "      p2_dog            p3   p3_conf  p3_dog  \n",
       "843    False     ice_lolly  0.051774   False  \n",
       "1416    True           tub  0.201711   False  \n",
       "761    False       hamster  0.062398   False  \n",
       "253    False  Egyptian_cat  0.154914   False  \n",
       "835     True      Shih-Tzu  0.072099    True  "
      ]
     },
     "execution_count": 169,
     "metadata": {},
     "output_type": "execute_result"
    }
   ],
   "source": [
    "img_predictions_df[img_predictions_df['p1_dog'] == False].sample(5)"
   ]
  },
  {
   "cell_type": "code",
   "execution_count": 170,
   "metadata": {},
   "outputs": [
    {
     "data": {
      "text/plain": [
       "1    1780\n",
       "2     198\n",
       "3      66\n",
       "4      31\n",
       "Name: img_num, dtype: int64"
      ]
     },
     "execution_count": 170,
     "metadata": {},
     "output_type": "execute_result"
    }
   ],
   "source": [
    "img_predictions_df.img_num.value_counts()"
   ]
  },
  {
   "cell_type": "code",
   "execution_count": 171,
   "metadata": {},
   "outputs": [
    {
     "data": {
      "text/html": [
       "<div>\n",
       "<style scoped>\n",
       "    .dataframe tbody tr th:only-of-type {\n",
       "        vertical-align: middle;\n",
       "    }\n",
       "\n",
       "    .dataframe tbody tr th {\n",
       "        vertical-align: top;\n",
       "    }\n",
       "\n",
       "    .dataframe thead th {\n",
       "        text-align: right;\n",
       "    }\n",
       "</style>\n",
       "<table border=\"1\" class=\"dataframe\">\n",
       "  <thead>\n",
       "    <tr style=\"text-align: right;\">\n",
       "      <th></th>\n",
       "      <th>created_at</th>\n",
       "      <th>id</th>\n",
       "      <th>id_str</th>\n",
       "      <th>full_text</th>\n",
       "      <th>truncated</th>\n",
       "      <th>display_text_range</th>\n",
       "      <th>entities</th>\n",
       "      <th>extended_entities</th>\n",
       "      <th>source</th>\n",
       "      <th>in_reply_to_status_id</th>\n",
       "      <th>...</th>\n",
       "      <th>favorited</th>\n",
       "      <th>retweeted</th>\n",
       "      <th>possibly_sensitive</th>\n",
       "      <th>possibly_sensitive_appealable</th>\n",
       "      <th>lang</th>\n",
       "      <th>retweeted_status</th>\n",
       "      <th>quoted_status_id</th>\n",
       "      <th>quoted_status_id_str</th>\n",
       "      <th>quoted_status_permalink</th>\n",
       "      <th>quoted_status</th>\n",
       "    </tr>\n",
       "  </thead>\n",
       "  <tbody>\n",
       "    <tr>\n",
       "      <th>430</th>\n",
       "      <td>2017-01-11 02:57:27+00:00</td>\n",
       "      <td>819015337530290176</td>\n",
       "      <td>819015337530290176</td>\n",
       "      <td>RT @dog_rates: This is Bo. He was a very good ...</td>\n",
       "      <td>False</td>\n",
       "      <td>[0, 122]</td>\n",
       "      <td>{'hashtags': [], 'symbols': [], 'user_mentions...</td>\n",
       "      <td>{'media': [{'id': 819004789207928832, 'id_str'...</td>\n",
       "      <td>&lt;a href=\"http://twitter.com/download/iphone\" r...</td>\n",
       "      <td>NaN</td>\n",
       "      <td>...</td>\n",
       "      <td>False</td>\n",
       "      <td>False</td>\n",
       "      <td>0.0</td>\n",
       "      <td>0.0</td>\n",
       "      <td>en</td>\n",
       "      <td>{'created_at': 'Wed Jan 11 02:15:36 +0000 2017...</td>\n",
       "      <td>NaN</td>\n",
       "      <td>NaN</td>\n",
       "      <td>NaN</td>\n",
       "      <td>NaN</td>\n",
       "    </tr>\n",
       "    <tr>\n",
       "      <th>858</th>\n",
       "      <td>2016-08-02 18:14:06+00:00</td>\n",
       "      <td>760539183865880579</td>\n",
       "      <td>760539183865880576</td>\n",
       "      <td>This is Atlas. Swinging is his passion. 12/10 ...</td>\n",
       "      <td>False</td>\n",
       "      <td>[0, 64]</td>\n",
       "      <td>{'hashtags': [], 'symbols': [], 'user_mentions...</td>\n",
       "      <td>{'media': [{'id': 760539157622059009, 'id_str'...</td>\n",
       "      <td>&lt;a href=\"http://twitter.com/download/iphone\" r...</td>\n",
       "      <td>NaN</td>\n",
       "      <td>...</td>\n",
       "      <td>False</td>\n",
       "      <td>False</td>\n",
       "      <td>0.0</td>\n",
       "      <td>0.0</td>\n",
       "      <td>en</td>\n",
       "      <td>NaN</td>\n",
       "      <td>NaN</td>\n",
       "      <td>NaN</td>\n",
       "      <td>NaN</td>\n",
       "      <td>NaN</td>\n",
       "    </tr>\n",
       "    <tr>\n",
       "      <th>2242</th>\n",
       "      <td>2015-11-20 02:08:22+00:00</td>\n",
       "      <td>667524857454854144</td>\n",
       "      <td>667524857454854144</td>\n",
       "      <td>Another topnotch dog. His name is Big Jumpy Ra...</td>\n",
       "      <td>False</td>\n",
       "      <td>[0, 136]</td>\n",
       "      <td>{'hashtags': [], 'symbols': [], 'user_mentions...</td>\n",
       "      <td>{'media': [{'id': 667524856297218048, 'id_str'...</td>\n",
       "      <td>&lt;a href=\"http://twitter.com\" rel=\"nofollow\"&gt;Tw...</td>\n",
       "      <td>NaN</td>\n",
       "      <td>...</td>\n",
       "      <td>False</td>\n",
       "      <td>False</td>\n",
       "      <td>0.0</td>\n",
       "      <td>0.0</td>\n",
       "      <td>en</td>\n",
       "      <td>NaN</td>\n",
       "      <td>NaN</td>\n",
       "      <td>NaN</td>\n",
       "      <td>NaN</td>\n",
       "      <td>NaN</td>\n",
       "    </tr>\n",
       "    <tr>\n",
       "      <th>1657</th>\n",
       "      <td>2015-12-29 23:32:35+00:00</td>\n",
       "      <td>681981167097122816</td>\n",
       "      <td>681981167097122816</td>\n",
       "      <td>This is Jimothy. He's a Trinidad Poliwhirl. Fa...</td>\n",
       "      <td>False</td>\n",
       "      <td>[0, 136]</td>\n",
       "      <td>{'hashtags': [], 'symbols': [], 'user_mentions...</td>\n",
       "      <td>{'media': [{'id': 681981160138895360, 'id_str'...</td>\n",
       "      <td>&lt;a href=\"http://twitter.com/download/iphone\" r...</td>\n",
       "      <td>NaN</td>\n",
       "      <td>...</td>\n",
       "      <td>False</td>\n",
       "      <td>False</td>\n",
       "      <td>0.0</td>\n",
       "      <td>0.0</td>\n",
       "      <td>en</td>\n",
       "      <td>NaN</td>\n",
       "      <td>NaN</td>\n",
       "      <td>NaN</td>\n",
       "      <td>NaN</td>\n",
       "      <td>NaN</td>\n",
       "    </tr>\n",
       "    <tr>\n",
       "      <th>344</th>\n",
       "      <td>2017-02-10 16:53:37+00:00</td>\n",
       "      <td>830097400375152640</td>\n",
       "      <td>830097400375152640</td>\n",
       "      <td>Meet Samson. He's absolute fluffy perfection. ...</td>\n",
       "      <td>False</td>\n",
       "      <td>[0, 140]</td>\n",
       "      <td>{'hashtags': [], 'symbols': [], 'user_mentions...</td>\n",
       "      <td>{'media': [{'id': 830097389742673920, 'id_str'...</td>\n",
       "      <td>&lt;a href=\"http://twitter.com/download/iphone\" r...</td>\n",
       "      <td>NaN</td>\n",
       "      <td>...</td>\n",
       "      <td>False</td>\n",
       "      <td>False</td>\n",
       "      <td>0.0</td>\n",
       "      <td>0.0</td>\n",
       "      <td>en</td>\n",
       "      <td>NaN</td>\n",
       "      <td>NaN</td>\n",
       "      <td>NaN</td>\n",
       "      <td>NaN</td>\n",
       "      <td>NaN</td>\n",
       "    </tr>\n",
       "  </tbody>\n",
       "</table>\n",
       "<p>5 rows × 32 columns</p>\n",
       "</div>"
      ],
      "text/plain": [
       "                    created_at                  id              id_str  \\\n",
       "430  2017-01-11 02:57:27+00:00  819015337530290176  819015337530290176   \n",
       "858  2016-08-02 18:14:06+00:00  760539183865880579  760539183865880576   \n",
       "2242 2015-11-20 02:08:22+00:00  667524857454854144  667524857454854144   \n",
       "1657 2015-12-29 23:32:35+00:00  681981167097122816  681981167097122816   \n",
       "344  2017-02-10 16:53:37+00:00  830097400375152640  830097400375152640   \n",
       "\n",
       "                                              full_text  truncated  \\\n",
       "430   RT @dog_rates: This is Bo. He was a very good ...      False   \n",
       "858   This is Atlas. Swinging is his passion. 12/10 ...      False   \n",
       "2242  Another topnotch dog. His name is Big Jumpy Ra...      False   \n",
       "1657  This is Jimothy. He's a Trinidad Poliwhirl. Fa...      False   \n",
       "344   Meet Samson. He's absolute fluffy perfection. ...      False   \n",
       "\n",
       "     display_text_range                                           entities  \\\n",
       "430            [0, 122]  {'hashtags': [], 'symbols': [], 'user_mentions...   \n",
       "858             [0, 64]  {'hashtags': [], 'symbols': [], 'user_mentions...   \n",
       "2242           [0, 136]  {'hashtags': [], 'symbols': [], 'user_mentions...   \n",
       "1657           [0, 136]  {'hashtags': [], 'symbols': [], 'user_mentions...   \n",
       "344            [0, 140]  {'hashtags': [], 'symbols': [], 'user_mentions...   \n",
       "\n",
       "                                      extended_entities  \\\n",
       "430   {'media': [{'id': 819004789207928832, 'id_str'...   \n",
       "858   {'media': [{'id': 760539157622059009, 'id_str'...   \n",
       "2242  {'media': [{'id': 667524856297218048, 'id_str'...   \n",
       "1657  {'media': [{'id': 681981160138895360, 'id_str'...   \n",
       "344   {'media': [{'id': 830097389742673920, 'id_str'...   \n",
       "\n",
       "                                                 source  \\\n",
       "430   <a href=\"http://twitter.com/download/iphone\" r...   \n",
       "858   <a href=\"http://twitter.com/download/iphone\" r...   \n",
       "2242  <a href=\"http://twitter.com\" rel=\"nofollow\">Tw...   \n",
       "1657  <a href=\"http://twitter.com/download/iphone\" r...   \n",
       "344   <a href=\"http://twitter.com/download/iphone\" r...   \n",
       "\n",
       "      in_reply_to_status_id  ...  favorited  retweeted  possibly_sensitive  \\\n",
       "430                     NaN  ...      False      False                 0.0   \n",
       "858                     NaN  ...      False      False                 0.0   \n",
       "2242                    NaN  ...      False      False                 0.0   \n",
       "1657                    NaN  ...      False      False                 0.0   \n",
       "344                     NaN  ...      False      False                 0.0   \n",
       "\n",
       "     possibly_sensitive_appealable lang  \\\n",
       "430                            0.0   en   \n",
       "858                            0.0   en   \n",
       "2242                           0.0   en   \n",
       "1657                           0.0   en   \n",
       "344                            0.0   en   \n",
       "\n",
       "                                       retweeted_status  quoted_status_id  \\\n",
       "430   {'created_at': 'Wed Jan 11 02:15:36 +0000 2017...               NaN   \n",
       "858                                                 NaN               NaN   \n",
       "2242                                                NaN               NaN   \n",
       "1657                                                NaN               NaN   \n",
       "344                                                 NaN               NaN   \n",
       "\n",
       "     quoted_status_id_str  quoted_status_permalink  quoted_status  \n",
       "430                   NaN                      NaN            NaN  \n",
       "858                   NaN                      NaN            NaN  \n",
       "2242                  NaN                      NaN            NaN  \n",
       "1657                  NaN                      NaN            NaN  \n",
       "344                   NaN                      NaN            NaN  \n",
       "\n",
       "[5 rows x 32 columns]"
      ]
     },
     "execution_count": 171,
     "metadata": {},
     "output_type": "execute_result"
    }
   ],
   "source": [
    "json_df.sample(5)"
   ]
  },
  {
   "cell_type": "code",
   "execution_count": 172,
   "metadata": {},
   "outputs": [
    {
     "data": {
      "text/plain": [
       "'favorite count stats'"
      ]
     },
     "metadata": {},
     "output_type": "display_data"
    },
    {
     "data": {
      "text/plain": [
       "count      2331.000000\n",
       "mean       7319.238953\n",
       "std       11367.525636\n",
       "min           0.000000\n",
       "25%        1269.500000\n",
       "50%        3174.000000\n",
       "75%        8947.000000\n",
       "max      150692.000000\n",
       "Name: favorite_count, dtype: float64"
      ]
     },
     "metadata": {},
     "output_type": "display_data"
    },
    {
     "data": {
      "text/plain": [
       "'retweet count stats'"
      ]
     },
     "metadata": {},
     "output_type": "display_data"
    },
    {
     "data": {
      "text/plain": [
       "count     2331.000000\n",
       "mean      2591.102531\n",
       "std       4383.211411\n",
       "min          1.000000\n",
       "25%        525.500000\n",
       "50%       1209.000000\n",
       "75%       3000.000000\n",
       "max      74376.000000\n",
       "Name: retweet_count, dtype: float64"
      ]
     },
     "metadata": {},
     "output_type": "display_data"
    }
   ],
   "source": [
    "#json_df[json_df.retweeted_status_id.isnull() == False]#.sample(3)\n",
    "#json_df[.value_counts() ==]\n",
    "display('favorite count stats')\n",
    "display( json_df.favorite_count.describe())\n",
    "display('retweet count stats')\n",
    "display(json_df.retweet_count.describe())"
   ]
  },
  {
   "cell_type": "code",
   "execution_count": 173,
   "metadata": {},
   "outputs": [
    {
     "data": {
      "text/plain": [
       "False    2331\n",
       "Name: retweeted, dtype: int64"
      ]
     },
     "execution_count": 173,
     "metadata": {},
     "output_type": "execute_result"
    }
   ],
   "source": [
    "json_df.retweeted.value_counts()"
   ]
  },
  {
   "cell_type": "code",
   "execution_count": 174,
   "metadata": {},
   "outputs": [
    {
     "data": {
      "text/html": [
       "<div>\n",
       "<style scoped>\n",
       "    .dataframe tbody tr th:only-of-type {\n",
       "        vertical-align: middle;\n",
       "    }\n",
       "\n",
       "    .dataframe tbody tr th {\n",
       "        vertical-align: top;\n",
       "    }\n",
       "\n",
       "    .dataframe thead th {\n",
       "        text-align: right;\n",
       "    }\n",
       "</style>\n",
       "<table border=\"1\" class=\"dataframe\">\n",
       "  <thead>\n",
       "    <tr style=\"text-align: right;\">\n",
       "      <th></th>\n",
       "      <th>created_at</th>\n",
       "      <th>id</th>\n",
       "    </tr>\n",
       "  </thead>\n",
       "  <tbody>\n",
       "    <tr>\n",
       "      <th>0</th>\n",
       "      <td>2017-08-01 16:23:56+00:00</td>\n",
       "      <td>892420643555336193</td>\n",
       "    </tr>\n",
       "    <tr>\n",
       "      <th>1</th>\n",
       "      <td>2017-08-01 00:17:27+00:00</td>\n",
       "      <td>892177421306343426</td>\n",
       "    </tr>\n",
       "    <tr>\n",
       "      <th>2</th>\n",
       "      <td>2017-07-31 00:18:03+00:00</td>\n",
       "      <td>891815181378084864</td>\n",
       "    </tr>\n",
       "    <tr>\n",
       "      <th>3</th>\n",
       "      <td>2017-07-30 15:58:51+00:00</td>\n",
       "      <td>891689557279858688</td>\n",
       "    </tr>\n",
       "    <tr>\n",
       "      <th>4</th>\n",
       "      <td>2017-07-29 16:00:24+00:00</td>\n",
       "      <td>891327558926688256</td>\n",
       "    </tr>\n",
       "  </tbody>\n",
       "</table>\n",
       "</div>"
      ],
      "text/plain": [
       "                 created_at                  id\n",
       "0 2017-08-01 16:23:56+00:00  892420643555336193\n",
       "1 2017-08-01 00:17:27+00:00  892177421306343426\n",
       "2 2017-07-31 00:18:03+00:00  891815181378084864\n",
       "3 2017-07-30 15:58:51+00:00  891689557279858688\n",
       "4 2017-07-29 16:00:24+00:00  891327558926688256"
      ]
     },
     "execution_count": 174,
     "metadata": {},
     "output_type": "execute_result"
    }
   ],
   "source": [
    "json_df[['created_at', 'id']].head()"
   ]
  },
  {
   "cell_type": "code",
   "execution_count": 175,
   "metadata": {},
   "outputs": [
    {
     "data": {
      "text/html": [
       "<div>\n",
       "<style scoped>\n",
       "    .dataframe tbody tr th:only-of-type {\n",
       "        vertical-align: middle;\n",
       "    }\n",
       "\n",
       "    .dataframe tbody tr th {\n",
       "        vertical-align: top;\n",
       "    }\n",
       "\n",
       "    .dataframe thead th {\n",
       "        text-align: right;\n",
       "    }\n",
       "</style>\n",
       "<table border=\"1\" class=\"dataframe\">\n",
       "  <thead>\n",
       "    <tr style=\"text-align: right;\">\n",
       "      <th></th>\n",
       "      <th>timestamp</th>\n",
       "      <th>tweet_id</th>\n",
       "    </tr>\n",
       "  </thead>\n",
       "  <tbody>\n",
       "    <tr>\n",
       "      <th>0</th>\n",
       "      <td>2017-08-01 16:23:56 +0000</td>\n",
       "      <td>892420643555336193</td>\n",
       "    </tr>\n",
       "    <tr>\n",
       "      <th>1</th>\n",
       "      <td>2017-08-01 00:17:27 +0000</td>\n",
       "      <td>892177421306343426</td>\n",
       "    </tr>\n",
       "    <tr>\n",
       "      <th>2</th>\n",
       "      <td>2017-07-31 00:18:03 +0000</td>\n",
       "      <td>891815181378084864</td>\n",
       "    </tr>\n",
       "    <tr>\n",
       "      <th>3</th>\n",
       "      <td>2017-07-30 15:58:51 +0000</td>\n",
       "      <td>891689557279858688</td>\n",
       "    </tr>\n",
       "    <tr>\n",
       "      <th>4</th>\n",
       "      <td>2017-07-29 16:00:24 +0000</td>\n",
       "      <td>891327558926688256</td>\n",
       "    </tr>\n",
       "  </tbody>\n",
       "</table>\n",
       "</div>"
      ],
      "text/plain": [
       "                   timestamp            tweet_id\n",
       "0  2017-08-01 16:23:56 +0000  892420643555336193\n",
       "1  2017-08-01 00:17:27 +0000  892177421306343426\n",
       "2  2017-07-31 00:18:03 +0000  891815181378084864\n",
       "3  2017-07-30 15:58:51 +0000  891689557279858688\n",
       "4  2017-07-29 16:00:24 +0000  891327558926688256"
      ]
     },
     "execution_count": 175,
     "metadata": {},
     "output_type": "execute_result"
    }
   ],
   "source": [
    "archive_df[['timestamp', 'tweet_id']].head()"
   ]
  },
  {
   "cell_type": "code",
   "execution_count": 176,
   "metadata": {},
   "outputs": [
    {
     "data": {
      "text/plain": [
       "0    This is Phineas. He's a mystical boy. Only eve...\n",
       "1    This is Tilly. She's just checking pup on you....\n",
       "2    This is Archie. He is a rare Norwegian Pouncin...\n",
       "3    This is Darla. She commenced a snooze mid meal...\n",
       "4    This is Franklin. He would like you to stop ca...\n",
       "Name: full_text, dtype: object"
      ]
     },
     "execution_count": 176,
     "metadata": {},
     "output_type": "execute_result"
    }
   ],
   "source": [
    "json_df.full_text.head()"
   ]
  },
  {
   "cell_type": "markdown",
   "metadata": {},
   "source": [
    "### Issues observed ###\n",
    "From the (visual)assesment above, I can observe the following issues:\n",
    "\n",
    "For the **archive dataset**:\n",
    "* the following columns have missing values\n",
    " 1   in_reply_to_status_id       78 non-null     float64\n",
    " 2   in_reply_to_user_id         78 non-null     float64\n",
    " 6   retweeted_status_id         181 non-null    float64\n",
    " 7   retweeted_status_user_id    181 non-null    float64\n",
    " 8   retweeted_status_timestamp  181 non-null    object \n",
    " 9   expanded_urls               2297 non-null   object\n",
    "\n",
    "* the actual rating for the dogs is missing. According to the context of the project, it should be obtained from : rating_numerator / rating_denominator\n",
    "\n",
    "* I interpret records with values in ['retweeted_status_id','retweeted_status_user_id','retweeted_status_timestamp'] as retweets, thus these entries won't be part of this project, as per the context given (sic.\"**You only want original ratings (no retweets) that have images**.\" )\n",
    "\n",
    "* If I understand well, a dog can be either a doggo, a floofer, a pupper, or a puppo. This means the columns `doggo\tfloofer\tpupper\tpuppo` can be melted(?) into a \"stage\" one?\n",
    "\n",
    "For the **image predictions dataset**:\n",
    "\n",
    "* img_predictions_df.jpg_url.value_counts() yields some image URL appear more than once, is this an issue?\n",
    "\n",
    "* what does column img_num mean? Is it relevant to the project?\n",
    "\n",
    "* column 'p1_dog' decides whether the entry can be regarded as a dog, yes or no. If columns p1* is the algorithm's #1 prediction for the image in the tweet, what I observe is that the image cannot be correctly predicted since there might be a dog in the image, but often is not the main subject in the image. Therefore I would remove those entries where 'p1_dog' is set to False*, being the rationale that as per the documentation\n",
    "\n",
    "For the **json dataset**:\n",
    "\n",
    "* the tweet id column is called `id` only. I prefer to rename it to `tweet_id` for consistency with other dataframes\n",
    "\n",
    "* the following columns have missing values\n",
    "\n",
    " 9   in_reply_to_status_id          77 non-null     float64            \n",
    " 10  in_reply_to_status_id_str      77 non-null     float64            \n",
    " 11  in_reply_to_user_id            77 non-null     float64            \n",
    " 12  in_reply_to_user_id_str        77 non-null     float64            \n",
    " 13  in_reply_to_screen_name        77 non-null     object    \n",
    " 15  geo                            0 non-null      float64            \n",
    " 16  coordinates                    0 non-null      float64            \n",
    " 17  place                          1 non-null      object             \n",
    " 18  contributors                   0 non-null      float64 \n",
    " 24  possibly_sensitive             2197 non-null   float64            \n",
    " 25  possibly_sensitive_appealable  2197 non-null   float64 \n",
    " 27  retweeted_status               163 non-null    object             \n",
    " 28  quoted_status_id               26 non-null     float64            \n",
    " 29  quoted_status_id_str           26 non-null     float64            \n",
    " 30  quoted_status_permalink        26 non-null     object             \n",
    " 31  quoted_status                  24 non-null     object \n",
    " \n",
    "   Moreover, since the requested columns from this data source are just three, the dataset needs to be pruned to keep only the incumbent columns (i.e. `tweet ID, retweet count, and favorite count`)"
   ]
  },
  {
   "cell_type": "markdown",
   "metadata": {},
   "source": [
    "## Cleaning ##\n",
    "\n",
    "Once identified the issues with the sources above, I start off this cleaning section, doing a backup of the \"original\" dataframes:"
   ]
  },
  {
   "cell_type": "markdown",
   "metadata": {},
   "source": [
    "> Cleaning includes merging individual pieces of data according to the rules of tidy data."
   ]
  },
  {
   "cell_type": "code",
   "execution_count": 177,
   "metadata": {},
   "outputs": [],
   "source": [
    "archive_clean_df = archive_df\n",
    "images_clean_df  = img_predictions_df\n",
    "json_clean_df = json_df"
   ]
  },
  {
   "cell_type": "code",
   "execution_count": null,
   "metadata": {},
   "outputs": [],
   "source": [
    "remove non interesting columns from json dataframe"
   ]
  },
  {
   "cell_type": "code",
   "execution_count": 179,
   "metadata": {},
   "outputs": [],
   "source": [
    "json_clean_df.drop(labels= ['created_at', 'id_str', 'truncated', 'display_text_range', 'entities',\n",
    "       'extended_entities', 'source', 'in_reply_to_status_id',\n",
    "       'in_reply_to_status_id_str', 'in_reply_to_user_id',\n",
    "       'in_reply_to_user_id_str', 'in_reply_to_screen_name', 'user', 'geo',\n",
    "       'coordinates', 'place', 'contributors', 'is_quote_status', 'favorited',\n",
    "       'retweeted', 'possibly_sensitive', 'possibly_sensitive_appealable',\n",
    "       'lang', 'retweeted_status', 'quoted_status_id', 'quoted_status_id_str',\n",
    "       'quoted_status_permalink', 'quoted_status'], inplace= True, axis=1)"
   ]
  },
  {
   "cell_type": "markdown",
   "metadata": {},
   "source": [
    "test:"
   ]
  },
  {
   "cell_type": "code",
   "execution_count": 181,
   "metadata": {},
   "outputs": [
    {
     "name": "stdout",
     "output_type": "stream",
     "text": [
      "<class 'pandas.core.frame.DataFrame'>\n",
      "RangeIndex: 2331 entries, 0 to 2330\n",
      "Data columns (total 4 columns):\n",
      " #   Column          Non-Null Count  Dtype \n",
      "---  ------          --------------  ----- \n",
      " 0   id              2331 non-null   int64 \n",
      " 1   full_text       2331 non-null   object\n",
      " 2   retweet_count   2331 non-null   int64 \n",
      " 3   favorite_count  2331 non-null   int64 \n",
      "dtypes: int64(3), object(1)\n",
      "memory usage: 73.0+ KB\n"
     ]
    }
   ],
   "source": [
    "json_clean_df.info()"
   ]
  },
  {
   "cell_type": "markdown",
   "metadata": {},
   "source": [
    "rename id for tweet_id"
   ]
  },
  {
   "cell_type": "code",
   "execution_count": 189,
   "metadata": {},
   "outputs": [],
   "source": [
    "json_clean_df.rename(columns={\"id\": \"tweet_id\"}, inplace=True)"
   ]
  },
  {
   "cell_type": "markdown",
   "metadata": {},
   "source": [
    "test:"
   ]
  },
  {
   "cell_type": "code",
   "execution_count": 190,
   "metadata": {},
   "outputs": [
    {
     "name": "stdout",
     "output_type": "stream",
     "text": [
      "<class 'pandas.core.frame.DataFrame'>\n",
      "RangeIndex: 2331 entries, 0 to 2330\n",
      "Data columns (total 4 columns):\n",
      " #   Column          Non-Null Count  Dtype \n",
      "---  ------          --------------  ----- \n",
      " 0   tweet_id        2331 non-null   int64 \n",
      " 1   full_text       2331 non-null   object\n",
      " 2   retweet_count   2331 non-null   int64 \n",
      " 3   favorite_count  2331 non-null   int64 \n",
      "dtypes: int64(3), object(1)\n",
      "memory usage: 73.0+ KB\n"
     ]
    }
   ],
   "source": [
    "json_clean_df.info()"
   ]
  },
  {
   "cell_type": "markdown",
   "metadata": {},
   "source": [
    "## Storing ##\n",
    "> the clean files have to be joined and eventually save to a twitter_archive_master.csv"
   ]
  },
  {
   "cell_type": "code",
   "execution_count": 194,
   "metadata": {},
   "outputs": [],
   "source": [
    "#merge  archive_clean_df with json_clean_d\n",
    "master_df = archive_clean_df.merge(json_clean_df, how = 'left', right_on='tweet_id', left_on= 'tweet_id')\n",
    "    \n",
    "#join images_clean_df to archive_clean_df\n"
   ]
  },
  {
   "cell_type": "markdown",
   "metadata": {},
   "source": [
    "test"
   ]
  },
  {
   "cell_type": "code",
   "execution_count": 197,
   "metadata": {},
   "outputs": [
    {
     "data": {
      "text/html": [
       "<div>\n",
       "<style scoped>\n",
       "    .dataframe tbody tr th:only-of-type {\n",
       "        vertical-align: middle;\n",
       "    }\n",
       "\n",
       "    .dataframe tbody tr th {\n",
       "        vertical-align: top;\n",
       "    }\n",
       "\n",
       "    .dataframe thead th {\n",
       "        text-align: right;\n",
       "    }\n",
       "</style>\n",
       "<table border=\"1\" class=\"dataframe\">\n",
       "  <thead>\n",
       "    <tr style=\"text-align: right;\">\n",
       "      <th></th>\n",
       "      <th>tweet_id</th>\n",
       "      <th>in_reply_to_status_id</th>\n",
       "      <th>in_reply_to_user_id</th>\n",
       "      <th>timestamp</th>\n",
       "      <th>source</th>\n",
       "      <th>text</th>\n",
       "      <th>retweeted_status_id</th>\n",
       "      <th>retweeted_status_user_id</th>\n",
       "      <th>retweeted_status_timestamp</th>\n",
       "      <th>expanded_urls</th>\n",
       "      <th>rating_numerator</th>\n",
       "      <th>rating_denominator</th>\n",
       "      <th>name</th>\n",
       "      <th>doggo</th>\n",
       "      <th>floofer</th>\n",
       "      <th>pupper</th>\n",
       "      <th>puppo</th>\n",
       "      <th>full_text</th>\n",
       "      <th>retweet_count</th>\n",
       "      <th>favorite_count</th>\n",
       "    </tr>\n",
       "  </thead>\n",
       "  <tbody>\n",
       "    <tr>\n",
       "      <th>0</th>\n",
       "      <td>892420643555336193</td>\n",
       "      <td>NaN</td>\n",
       "      <td>NaN</td>\n",
       "      <td>2017-08-01 16:23:56 +0000</td>\n",
       "      <td>&lt;a href=\"http://twitter.com/download/iphone\" r...</td>\n",
       "      <td>This is Phineas. He's a mystical boy. Only eve...</td>\n",
       "      <td>NaN</td>\n",
       "      <td>NaN</td>\n",
       "      <td>NaN</td>\n",
       "      <td>https://twitter.com/dog_rates/status/892420643...</td>\n",
       "      <td>13</td>\n",
       "      <td>10</td>\n",
       "      <td>Phineas</td>\n",
       "      <td>None</td>\n",
       "      <td>None</td>\n",
       "      <td>None</td>\n",
       "      <td>None</td>\n",
       "      <td>This is Phineas. He's a mystical boy. Only eve...</td>\n",
       "      <td>7369.0</td>\n",
       "      <td>35042.0</td>\n",
       "    </tr>\n",
       "    <tr>\n",
       "      <th>1</th>\n",
       "      <td>892177421306343426</td>\n",
       "      <td>NaN</td>\n",
       "      <td>NaN</td>\n",
       "      <td>2017-08-01 00:17:27 +0000</td>\n",
       "      <td>&lt;a href=\"http://twitter.com/download/iphone\" r...</td>\n",
       "      <td>This is Tilly. She's just checking pup on you....</td>\n",
       "      <td>NaN</td>\n",
       "      <td>NaN</td>\n",
       "      <td>NaN</td>\n",
       "      <td>https://twitter.com/dog_rates/status/892177421...</td>\n",
       "      <td>13</td>\n",
       "      <td>10</td>\n",
       "      <td>Tilly</td>\n",
       "      <td>None</td>\n",
       "      <td>None</td>\n",
       "      <td>None</td>\n",
       "      <td>None</td>\n",
       "      <td>This is Tilly. She's just checking pup on you....</td>\n",
       "      <td>5492.0</td>\n",
       "      <td>30349.0</td>\n",
       "    </tr>\n",
       "  </tbody>\n",
       "</table>\n",
       "</div>"
      ],
      "text/plain": [
       "             tweet_id  in_reply_to_status_id  in_reply_to_user_id  \\\n",
       "0  892420643555336193                    NaN                  NaN   \n",
       "1  892177421306343426                    NaN                  NaN   \n",
       "\n",
       "                   timestamp  \\\n",
       "0  2017-08-01 16:23:56 +0000   \n",
       "1  2017-08-01 00:17:27 +0000   \n",
       "\n",
       "                                              source  \\\n",
       "0  <a href=\"http://twitter.com/download/iphone\" r...   \n",
       "1  <a href=\"http://twitter.com/download/iphone\" r...   \n",
       "\n",
       "                                                text  retweeted_status_id  \\\n",
       "0  This is Phineas. He's a mystical boy. Only eve...                  NaN   \n",
       "1  This is Tilly. She's just checking pup on you....                  NaN   \n",
       "\n",
       "   retweeted_status_user_id retweeted_status_timestamp  \\\n",
       "0                       NaN                        NaN   \n",
       "1                       NaN                        NaN   \n",
       "\n",
       "                                       expanded_urls  rating_numerator  \\\n",
       "0  https://twitter.com/dog_rates/status/892420643...                13   \n",
       "1  https://twitter.com/dog_rates/status/892177421...                13   \n",
       "\n",
       "   rating_denominator     name doggo floofer pupper puppo  \\\n",
       "0                  10  Phineas  None    None   None  None   \n",
       "1                  10    Tilly  None    None   None  None   \n",
       "\n",
       "                                           full_text  retweet_count  \\\n",
       "0  This is Phineas. He's a mystical boy. Only eve...         7369.0   \n",
       "1  This is Tilly. She's just checking pup on you....         5492.0   \n",
       "\n",
       "   favorite_count  \n",
       "0         35042.0  \n",
       "1         30349.0  "
      ]
     },
     "execution_count": 197,
     "metadata": {},
     "output_type": "execute_result"
    }
   ],
   "source": [
    "master_df.head(2)"
   ]
  },
  {
   "cell_type": "markdown",
   "metadata": {},
   "source": [
    "and then we save it to the requested filename>"
   ]
  },
  {
   "cell_type": "code",
   "execution_count": 196,
   "metadata": {},
   "outputs": [],
   "source": [
    "master_df.to_csv( 'twitter_archive_master.csv', index=False)"
   ]
  },
  {
   "cell_type": "markdown",
   "metadata": {},
   "source": [
    "## Analyzing ##\n",
    ">  At least three (3) insights . Some insights to obtain are:\n",
    "\n",
    " 1) what's the dog best rated in the dataset. IN case of a tie, what;s the most recent?\n",
    " \n",
    " 2) what's the dog worst rated in the dataset. IN case of a tie, what;s the most recent?\n",
    " \n",
    " 3) what's the dog with more favorite tweets counts?"
   ]
  },
  {
   "cell_type": "markdown",
   "metadata": {},
   "source": [
    "## Visualizing ##"
   ]
  },
  {
   "cell_type": "code",
   "execution_count": null,
   "metadata": {},
   "outputs": [],
   "source": [
    "# At least one (1) visualization must be produced.\n"
   ]
  }
 ],
 "metadata": {
  "kernelspec": {
   "display_name": "Python 3",
   "language": "python",
   "name": "python3"
  },
  "language_info": {
   "codemirror_mode": {
    "name": "ipython",
    "version": 3
   },
   "file_extension": ".py",
   "mimetype": "text/x-python",
   "name": "python",
   "nbconvert_exporter": "python",
   "pygments_lexer": "ipython3",
   "version": "3.8.5"
  }
 },
 "nbformat": 4,
 "nbformat_minor": 4
}
