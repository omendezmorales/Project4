{
 "cells": [
  {
   "cell_type": "code",
   "execution_count": 124,
   "metadata": {},
   "outputs": [],
   "source": [
    "import requests as rq\n",
    "import pandas as pd\n",
    "import linecache \n",
    "import matplotlib.pyplot as plot\n"
   ]
  },
  {
   "cell_type": "markdown",
   "metadata": {},
   "source": [
    "<a id='toc'></a>\n",
    "## Table of Contents\n",
    "<ul>\n",
    "<li><a href=\"#gather\">Gathering</a></li>\n",
    "<li><a href=\"#assess\">Assessing</a></li>\n",
    "<li><a href=\"#clean\">Cleaning</a></li>\n",
    "<li><a href=\"#store\">Storing</a></li>   \n",
    "<li><a href=\"#eda\">Analysis</a></li>\n",
    "<li><a href=\"#plot\">Visualizing</a></li>\n",
    "</ul>"
   ]
  },
  {
   "cell_type": "markdown",
   "metadata": {},
   "source": [
    "<a id='gather'></a>\n",
    "## Gathering ##\n",
    "\n",
    "<a href=\"#toc\">go above</a>\n",
    "\n",
    "As requested in the project details, I get the data from the following sources:"
   ]
  },
  {
   "cell_type": "markdown",
   "metadata": {},
   "source": [
    "### csv source: WeRateDogs Twitter archive  ### "
   ]
  },
  {
   "cell_type": "code",
   "execution_count": 125,
   "metadata": {},
   "outputs": [],
   "source": [
    "archive_df = pd.read_csv('twitter-archive-enhanced.csv')"
   ]
  },
  {
   "cell_type": "markdown",
   "metadata": {},
   "source": [
    "### tsv source: image predictions ###"
   ]
  },
  {
   "cell_type": "code",
   "execution_count": 126,
   "metadata": {},
   "outputs": [],
   "source": [
    "img_predictions = 'https://d17h27t6h515a5.cloudfront.net/topher/2017/August/599fd2ad_image-predictions/image-predictions.tsv'\n",
    "r = rq.get(img_predictions)"
   ]
  },
  {
   "cell_type": "code",
   "execution_count": 127,
   "metadata": {},
   "outputs": [
    {
     "data": {
      "text/plain": [
       "200"
      ]
     },
     "execution_count": 127,
     "metadata": {},
     "output_type": "execute_result"
    }
   ],
   "source": [
    "r.status_code"
   ]
  },
  {
   "cell_type": "code",
   "execution_count": 128,
   "metadata": {},
   "outputs": [],
   "source": [
    "with open('image-predictions.tsv', 'wb') as f:\n",
    "        f.write(r.content)"
   ]
  },
  {
   "cell_type": "code",
   "execution_count": 129,
   "metadata": {},
   "outputs": [],
   "source": [
    "img_predictions_df  = pd.read_csv('image-predictions.tsv', sep= '\\t')"
   ]
  },
  {
   "cell_type": "markdown",
   "metadata": {},
   "source": [
    "### json source: querying the Twitter API ###\n",
    "\n",
    "Using the code facilitated for this project (`twitter_api.py`), I downloaded json data for the tweet IDs contained in source one above. Once in the text file, I used the read_json function of Pandas:"
   ]
  },
  {
   "cell_type": "code",
   "execution_count": 130,
   "metadata": {},
   "outputs": [],
   "source": [
    "json_df = pd.read_json('tweet_json.txt', lines = True )"
   ]
  },
  {
   "cell_type": "markdown",
   "metadata": {},
   "source": [
    "<a id='assess'></a>\n",
    "\n",
    "## Assesing ##\n",
    "<a href=\"#toc\">go above</a>\n",
    "\n",
    "> Detect and document at least eight (8) quality issues \n",
    " and two (2) tidiness issues in your wrangle_act.ipynb Jupyter Notebook.\n",
    " To meet specifications, the issues that satisfy the Project Motivation (see the Key Points header on the previous page) must be assessed.\n",
    "\n",
    "First, I proceed to look at the essential information concerning the three dataframes I just created. I do this, by invoking `info()` and `shape` for each df."
   ]
  },
  {
   "cell_type": "code",
   "execution_count": 131,
   "metadata": {},
   "outputs": [
    {
     "name": "stdout",
     "output_type": "stream",
     "text": [
      "<class 'pandas.core.frame.DataFrame'>\n",
      "RangeIndex: 2356 entries, 0 to 2355\n",
      "Data columns (total 17 columns):\n",
      " #   Column                      Non-Null Count  Dtype  \n",
      "---  ------                      --------------  -----  \n",
      " 0   tweet_id                    2356 non-null   int64  \n",
      " 1   in_reply_to_status_id       78 non-null     float64\n",
      " 2   in_reply_to_user_id         78 non-null     float64\n",
      " 3   timestamp                   2356 non-null   object \n",
      " 4   source                      2356 non-null   object \n",
      " 5   text                        2356 non-null   object \n",
      " 6   retweeted_status_id         181 non-null    float64\n",
      " 7   retweeted_status_user_id    181 non-null    float64\n",
      " 8   retweeted_status_timestamp  181 non-null    object \n",
      " 9   expanded_urls               2297 non-null   object \n",
      " 10  rating_numerator            2356 non-null   int64  \n",
      " 11  rating_denominator          2356 non-null   int64  \n",
      " 12  name                        2356 non-null   object \n",
      " 13  doggo                       2356 non-null   object \n",
      " 14  floofer                     2356 non-null   object \n",
      " 15  pupper                      2356 non-null   object \n",
      " 16  puppo                       2356 non-null   object \n",
      "dtypes: float64(4), int64(3), object(10)\n",
      "memory usage: 313.0+ KB\n"
     ]
    }
   ],
   "source": [
    "archive_df.info()"
   ]
  },
  {
   "cell_type": "code",
   "execution_count": 132,
   "metadata": {},
   "outputs": [
    {
     "data": {
      "text/plain": [
       "0    This is Phineas. He's a mystical boy. Only eve...\n",
       "1    This is Tilly. She's just checking pup on you....\n",
       "2    This is Archie. He is a rare Norwegian Pouncin...\n",
       "3    This is Darla. She commenced a snooze mid meal...\n",
       "4    This is Franklin. He would like you to stop ca...\n",
       "Name: text, dtype: object"
      ]
     },
     "execution_count": 132,
     "metadata": {},
     "output_type": "execute_result"
    }
   ],
   "source": [
    "archive_df.text.head()"
   ]
  },
  {
   "cell_type": "code",
   "execution_count": 133,
   "metadata": {},
   "outputs": [
    {
     "data": {
      "text/plain": [
       "(2356, 17)"
      ]
     },
     "execution_count": 133,
     "metadata": {},
     "output_type": "execute_result"
    }
   ],
   "source": [
    "archive_df.shape"
   ]
  },
  {
   "cell_type": "code",
   "execution_count": 134,
   "metadata": {},
   "outputs": [
    {
     "name": "stdout",
     "output_type": "stream",
     "text": [
      "<class 'pandas.core.frame.DataFrame'>\n",
      "RangeIndex: 2075 entries, 0 to 2074\n",
      "Data columns (total 12 columns):\n",
      " #   Column    Non-Null Count  Dtype  \n",
      "---  ------    --------------  -----  \n",
      " 0   tweet_id  2075 non-null   int64  \n",
      " 1   jpg_url   2075 non-null   object \n",
      " 2   img_num   2075 non-null   int64  \n",
      " 3   p1        2075 non-null   object \n",
      " 4   p1_conf   2075 non-null   float64\n",
      " 5   p1_dog    2075 non-null   bool   \n",
      " 6   p2        2075 non-null   object \n",
      " 7   p2_conf   2075 non-null   float64\n",
      " 8   p2_dog    2075 non-null   bool   \n",
      " 9   p3        2075 non-null   object \n",
      " 10  p3_conf   2075 non-null   float64\n",
      " 11  p3_dog    2075 non-null   bool   \n",
      "dtypes: bool(3), float64(3), int64(2), object(4)\n",
      "memory usage: 152.1+ KB\n"
     ]
    }
   ],
   "source": [
    "img_predictions_df.info()"
   ]
  },
  {
   "cell_type": "code",
   "execution_count": 135,
   "metadata": {},
   "outputs": [
    {
     "data": {
      "text/plain": [
       "(2075, 12)"
      ]
     },
     "execution_count": 135,
     "metadata": {},
     "output_type": "execute_result"
    }
   ],
   "source": [
    "img_predictions_df.shape"
   ]
  },
  {
   "cell_type": "markdown",
   "metadata": {},
   "source": [
    "We see all entries in the predictions data frame has a valid URL \n",
    "#TODO find a proper URL regex and pass it to count()"
   ]
  },
  {
   "cell_type": "code",
   "execution_count": 136,
   "metadata": {},
   "outputs": [
    {
     "data": {
      "text/plain": [
       "2075"
      ]
     },
     "execution_count": 136,
     "metadata": {},
     "output_type": "execute_result"
    }
   ],
   "source": [
    "img_predictions_df.jpg_url.str.count('http').size"
   ]
  },
  {
   "cell_type": "code",
   "execution_count": 137,
   "metadata": {},
   "outputs": [
    {
     "name": "stdout",
     "output_type": "stream",
     "text": [
      "<class 'pandas.core.frame.DataFrame'>\n",
      "RangeIndex: 2331 entries, 0 to 2330\n",
      "Data columns (total 32 columns):\n",
      " #   Column                         Non-Null Count  Dtype              \n",
      "---  ------                         --------------  -----              \n",
      " 0   created_at                     2331 non-null   datetime64[ns, UTC]\n",
      " 1   id                             2331 non-null   int64              \n",
      " 2   id_str                         2331 non-null   int64              \n",
      " 3   full_text                      2331 non-null   object             \n",
      " 4   truncated                      2331 non-null   bool               \n",
      " 5   display_text_range             2331 non-null   object             \n",
      " 6   entities                       2331 non-null   object             \n",
      " 7   extended_entities              2059 non-null   object             \n",
      " 8   source                         2331 non-null   object             \n",
      " 9   in_reply_to_status_id          77 non-null     float64            \n",
      " 10  in_reply_to_status_id_str      77 non-null     float64            \n",
      " 11  in_reply_to_user_id            77 non-null     float64            \n",
      " 12  in_reply_to_user_id_str        77 non-null     float64            \n",
      " 13  in_reply_to_screen_name        77 non-null     object             \n",
      " 14  user                           2331 non-null   object             \n",
      " 15  geo                            0 non-null      float64            \n",
      " 16  coordinates                    0 non-null      float64            \n",
      " 17  place                          1 non-null      object             \n",
      " 18  contributors                   0 non-null      float64            \n",
      " 19  is_quote_status                2331 non-null   bool               \n",
      " 20  retweet_count                  2331 non-null   int64              \n",
      " 21  favorite_count                 2331 non-null   int64              \n",
      " 22  favorited                      2331 non-null   bool               \n",
      " 23  retweeted                      2331 non-null   bool               \n",
      " 24  possibly_sensitive             2197 non-null   float64            \n",
      " 25  possibly_sensitive_appealable  2197 non-null   float64            \n",
      " 26  lang                           2331 non-null   object             \n",
      " 27  retweeted_status               163 non-null    object             \n",
      " 28  quoted_status_id               26 non-null     float64            \n",
      " 29  quoted_status_id_str           26 non-null     float64            \n",
      " 30  quoted_status_permalink        26 non-null     object             \n",
      " 31  quoted_status                  24 non-null     object             \n",
      "dtypes: bool(4), datetime64[ns, UTC](1), float64(11), int64(4), object(12)\n",
      "memory usage: 519.1+ KB\n"
     ]
    }
   ],
   "source": [
    "json_df.info()"
   ]
  },
  {
   "cell_type": "code",
   "execution_count": 138,
   "metadata": {},
   "outputs": [
    {
     "data": {
      "text/plain": [
       "(2331, 32)"
      ]
     },
     "execution_count": 138,
     "metadata": {},
     "output_type": "execute_result"
    }
   ],
   "source": [
    "json_df.shape"
   ]
  },
  {
   "cell_type": "markdown",
   "metadata": {},
   "source": [
    "The information above leaves us that the image predictions data frame has the least information with 2075 rows, next we have the json one with 2351, and finally the archive with 2356."
   ]
  },
  {
   "cell_type": "markdown",
   "metadata": {},
   "source": [
    "### Visual assessment ####\n",
    "With our dataframes loaded, we can do a visual assessment, to get familiar with the data:"
   ]
  },
  {
   "cell_type": "code",
   "execution_count": 139,
   "metadata": {},
   "outputs": [
    {
     "data": {
      "text/html": [
       "<div>\n",
       "<style scoped>\n",
       "    .dataframe tbody tr th:only-of-type {\n",
       "        vertical-align: middle;\n",
       "    }\n",
       "\n",
       "    .dataframe tbody tr th {\n",
       "        vertical-align: top;\n",
       "    }\n",
       "\n",
       "    .dataframe thead th {\n",
       "        text-align: right;\n",
       "    }\n",
       "</style>\n",
       "<table border=\"1\" class=\"dataframe\">\n",
       "  <thead>\n",
       "    <tr style=\"text-align: right;\">\n",
       "      <th></th>\n",
       "      <th>tweet_id</th>\n",
       "      <th>in_reply_to_status_id</th>\n",
       "      <th>in_reply_to_user_id</th>\n",
       "      <th>timestamp</th>\n",
       "      <th>source</th>\n",
       "      <th>text</th>\n",
       "      <th>retweeted_status_id</th>\n",
       "      <th>retweeted_status_user_id</th>\n",
       "      <th>retweeted_status_timestamp</th>\n",
       "      <th>expanded_urls</th>\n",
       "      <th>rating_numerator</th>\n",
       "      <th>rating_denominator</th>\n",
       "      <th>name</th>\n",
       "      <th>doggo</th>\n",
       "      <th>floofer</th>\n",
       "      <th>pupper</th>\n",
       "      <th>puppo</th>\n",
       "    </tr>\n",
       "  </thead>\n",
       "  <tbody>\n",
       "    <tr>\n",
       "      <th>964</th>\n",
       "      <td>750506206503038976</td>\n",
       "      <td>NaN</td>\n",
       "      <td>NaN</td>\n",
       "      <td>2016-07-06 01:46:38 +0000</td>\n",
       "      <td>&lt;a href=\"http://twitter.com/download/iphone\" r...</td>\n",
       "      <td>This is Malcolm. He's absolutely terrified of ...</td>\n",
       "      <td>NaN</td>\n",
       "      <td>NaN</td>\n",
       "      <td>NaN</td>\n",
       "      <td>https://twitter.com/dog_rates/status/750506206...</td>\n",
       "      <td>8</td>\n",
       "      <td>10</td>\n",
       "      <td>Malcolm</td>\n",
       "      <td>None</td>\n",
       "      <td>None</td>\n",
       "      <td>pupper</td>\n",
       "      <td>None</td>\n",
       "    </tr>\n",
       "    <tr>\n",
       "      <th>960</th>\n",
       "      <td>751205363882532864</td>\n",
       "      <td>NaN</td>\n",
       "      <td>NaN</td>\n",
       "      <td>2016-07-08 00:04:50 +0000</td>\n",
       "      <td>&lt;a href=\"http://twitter.com/download/iphone\" r...</td>\n",
       "      <td>\"This photographer took pics of her best frien...</td>\n",
       "      <td>NaN</td>\n",
       "      <td>NaN</td>\n",
       "      <td>NaN</td>\n",
       "      <td>https://twitter.com/dog_rates/status/751205363...</td>\n",
       "      <td>12</td>\n",
       "      <td>10</td>\n",
       "      <td>None</td>\n",
       "      <td>None</td>\n",
       "      <td>None</td>\n",
       "      <td>None</td>\n",
       "      <td>None</td>\n",
       "    </tr>\n",
       "    <tr>\n",
       "      <th>373</th>\n",
       "      <td>828376505180889089</td>\n",
       "      <td>NaN</td>\n",
       "      <td>NaN</td>\n",
       "      <td>2017-02-05 22:55:23 +0000</td>\n",
       "      <td>&lt;a href=\"http://twitter.com/download/iphone\" r...</td>\n",
       "      <td>This is Beebop. Her name means \"Good Dog\" in r...</td>\n",
       "      <td>NaN</td>\n",
       "      <td>NaN</td>\n",
       "      <td>NaN</td>\n",
       "      <td>https://twitter.com/dog_rates/status/828376505...</td>\n",
       "      <td>13</td>\n",
       "      <td>10</td>\n",
       "      <td>Beebop</td>\n",
       "      <td>None</td>\n",
       "      <td>None</td>\n",
       "      <td>None</td>\n",
       "      <td>None</td>\n",
       "    </tr>\n",
       "    <tr>\n",
       "      <th>9</th>\n",
       "      <td>890240255349198849</td>\n",
       "      <td>NaN</td>\n",
       "      <td>NaN</td>\n",
       "      <td>2017-07-26 15:59:51 +0000</td>\n",
       "      <td>&lt;a href=\"http://twitter.com/download/iphone\" r...</td>\n",
       "      <td>This is Cassie. She is a college pup. Studying...</td>\n",
       "      <td>NaN</td>\n",
       "      <td>NaN</td>\n",
       "      <td>NaN</td>\n",
       "      <td>https://twitter.com/dog_rates/status/890240255...</td>\n",
       "      <td>14</td>\n",
       "      <td>10</td>\n",
       "      <td>Cassie</td>\n",
       "      <td>doggo</td>\n",
       "      <td>None</td>\n",
       "      <td>None</td>\n",
       "      <td>None</td>\n",
       "    </tr>\n",
       "    <tr>\n",
       "      <th>2092</th>\n",
       "      <td>670782429121134593</td>\n",
       "      <td>NaN</td>\n",
       "      <td>NaN</td>\n",
       "      <td>2015-11-29 01:52:48 +0000</td>\n",
       "      <td>&lt;a href=\"http://twitter.com/download/iphone\" r...</td>\n",
       "      <td>This dude slaps your girl's ass what do you do...</td>\n",
       "      <td>NaN</td>\n",
       "      <td>NaN</td>\n",
       "      <td>NaN</td>\n",
       "      <td>https://twitter.com/dog_rates/status/670782429...</td>\n",
       "      <td>5</td>\n",
       "      <td>10</td>\n",
       "      <td>None</td>\n",
       "      <td>None</td>\n",
       "      <td>None</td>\n",
       "      <td>None</td>\n",
       "      <td>None</td>\n",
       "    </tr>\n",
       "  </tbody>\n",
       "</table>\n",
       "</div>"
      ],
      "text/plain": [
       "                tweet_id  in_reply_to_status_id  in_reply_to_user_id  \\\n",
       "964   750506206503038976                    NaN                  NaN   \n",
       "960   751205363882532864                    NaN                  NaN   \n",
       "373   828376505180889089                    NaN                  NaN   \n",
       "9     890240255349198849                    NaN                  NaN   \n",
       "2092  670782429121134593                    NaN                  NaN   \n",
       "\n",
       "                      timestamp  \\\n",
       "964   2016-07-06 01:46:38 +0000   \n",
       "960   2016-07-08 00:04:50 +0000   \n",
       "373   2017-02-05 22:55:23 +0000   \n",
       "9     2017-07-26 15:59:51 +0000   \n",
       "2092  2015-11-29 01:52:48 +0000   \n",
       "\n",
       "                                                 source  \\\n",
       "964   <a href=\"http://twitter.com/download/iphone\" r...   \n",
       "960   <a href=\"http://twitter.com/download/iphone\" r...   \n",
       "373   <a href=\"http://twitter.com/download/iphone\" r...   \n",
       "9     <a href=\"http://twitter.com/download/iphone\" r...   \n",
       "2092  <a href=\"http://twitter.com/download/iphone\" r...   \n",
       "\n",
       "                                                   text  retweeted_status_id  \\\n",
       "964   This is Malcolm. He's absolutely terrified of ...                  NaN   \n",
       "960   \"This photographer took pics of her best frien...                  NaN   \n",
       "373   This is Beebop. Her name means \"Good Dog\" in r...                  NaN   \n",
       "9     This is Cassie. She is a college pup. Studying...                  NaN   \n",
       "2092  This dude slaps your girl's ass what do you do...                  NaN   \n",
       "\n",
       "      retweeted_status_user_id retweeted_status_timestamp  \\\n",
       "964                        NaN                        NaN   \n",
       "960                        NaN                        NaN   \n",
       "373                        NaN                        NaN   \n",
       "9                          NaN                        NaN   \n",
       "2092                       NaN                        NaN   \n",
       "\n",
       "                                          expanded_urls  rating_numerator  \\\n",
       "964   https://twitter.com/dog_rates/status/750506206...                 8   \n",
       "960   https://twitter.com/dog_rates/status/751205363...                12   \n",
       "373   https://twitter.com/dog_rates/status/828376505...                13   \n",
       "9     https://twitter.com/dog_rates/status/890240255...                14   \n",
       "2092  https://twitter.com/dog_rates/status/670782429...                 5   \n",
       "\n",
       "      rating_denominator     name  doggo floofer  pupper puppo  \n",
       "964                   10  Malcolm   None    None  pupper  None  \n",
       "960                   10     None   None    None    None  None  \n",
       "373                   10   Beebop   None    None    None  None  \n",
       "9                     10   Cassie  doggo    None    None  None  \n",
       "2092                  10     None   None    None    None  None  "
      ]
     },
     "execution_count": 139,
     "metadata": {},
     "output_type": "execute_result"
    }
   ],
   "source": [
    "archive_df.sample(5)"
   ]
  },
  {
   "cell_type": "code",
   "execution_count": 140,
   "metadata": {},
   "outputs": [
    {
     "data": {
      "text/plain": [
       "12      558\n",
       "11      464\n",
       "10      461\n",
       "13      351\n",
       "9       158\n",
       "8       102\n",
       "7        55\n",
       "14       54\n",
       "5        37\n",
       "6        32\n",
       "3        19\n",
       "4        17\n",
       "1         9\n",
       "2         9\n",
       "0         2\n",
       "15        2\n",
       "75        2\n",
       "420       2\n",
       "182       1\n",
       "204       1\n",
       "143       1\n",
       "121       1\n",
       "99        1\n",
       "20        1\n",
       "45        1\n",
       "27        1\n",
       "17        1\n",
       "24        1\n",
       "26        1\n",
       "44        1\n",
       "50        1\n",
       "60        1\n",
       "80        1\n",
       "84        1\n",
       "88        1\n",
       "1776      1\n",
       "960       1\n",
       "666       1\n",
       "144       1\n",
       "165       1\n",
       "Name: rating_numerator, dtype: int64"
      ]
     },
     "metadata": {},
     "output_type": "display_data"
    },
    {
     "data": {
      "text/plain": [
       "10     2333\n",
       "11        3\n",
       "50        3\n",
       "20        2\n",
       "80        2\n",
       "0         1\n",
       "120       1\n",
       "7         1\n",
       "170       1\n",
       "150       1\n",
       "130       1\n",
       "90        1\n",
       "110       1\n",
       "2         1\n",
       "70        1\n",
       "40        1\n",
       "16        1\n",
       "15        1\n",
       "Name: rating_denominator, dtype: int64"
      ]
     },
     "metadata": {},
     "output_type": "display_data"
    }
   ],
   "source": [
    "display(archive_df.rating_numerator.value_counts(ascending=False))\n",
    "display(archive_df.rating_denominator.value_counts(ascending=False))"
   ]
  },
  {
   "cell_type": "code",
   "execution_count": 141,
   "metadata": {},
   "outputs": [
    {
     "data": {
      "text/plain": [
       "None     2259\n",
       "doggo      97\n",
       "Name: doggo, dtype: int64"
      ]
     },
     "metadata": {},
     "output_type": "display_data"
    },
    {
     "data": {
      "text/plain": [
       "None       2346\n",
       "floofer      10\n",
       "Name: floofer, dtype: int64"
      ]
     },
     "metadata": {},
     "output_type": "display_data"
    }
   ],
   "source": [
    "display(archive_df.doggo.value_counts(),  archive_df.floofer.value_counts())"
   ]
  },
  {
   "cell_type": "code",
   "execution_count": 142,
   "metadata": {},
   "outputs": [
    {
     "data": {
      "text/plain": [
       "None      2099\n",
       "pupper     257\n",
       "Name: pupper, dtype: int64"
      ]
     },
     "metadata": {},
     "output_type": "display_data"
    },
    {
     "data": {
      "text/plain": [
       "None     2326\n",
       "puppo      30\n",
       "Name: puppo, dtype: int64"
      ]
     },
     "metadata": {},
     "output_type": "display_data"
    }
   ],
   "source": [
    "display(archive_df.pupper.value_counts(), archive_df.puppo.value_counts())"
   ]
  },
  {
   "cell_type": "code",
   "execution_count": 143,
   "metadata": {},
   "outputs": [
    {
     "data": {
      "text/html": [
       "<div>\n",
       "<style scoped>\n",
       "    .dataframe tbody tr th:only-of-type {\n",
       "        vertical-align: middle;\n",
       "    }\n",
       "\n",
       "    .dataframe tbody tr th {\n",
       "        vertical-align: top;\n",
       "    }\n",
       "\n",
       "    .dataframe thead th {\n",
       "        text-align: right;\n",
       "    }\n",
       "</style>\n",
       "<table border=\"1\" class=\"dataframe\">\n",
       "  <thead>\n",
       "    <tr style=\"text-align: right;\">\n",
       "      <th></th>\n",
       "      <th>retweeted_status_id</th>\n",
       "      <th>retweeted_status_user_id</th>\n",
       "      <th>timestamp</th>\n",
       "      <th>retweeted_status_timestamp</th>\n",
       "    </tr>\n",
       "  </thead>\n",
       "  <tbody>\n",
       "    <tr>\n",
       "      <th>19</th>\n",
       "      <td>8.874740e+17</td>\n",
       "      <td>4.196984e+09</td>\n",
       "      <td>2017-07-21 01:02:36 +0000</td>\n",
       "      <td>2017-07-19 00:47:34 +0000</td>\n",
       "    </tr>\n",
       "    <tr>\n",
       "      <th>32</th>\n",
       "      <td>8.860537e+17</td>\n",
       "      <td>1.960740e+07</td>\n",
       "      <td>2017-07-15 02:45:48 +0000</td>\n",
       "      <td>2017-07-15 02:44:07 +0000</td>\n",
       "    </tr>\n",
       "    <tr>\n",
       "      <th>36</th>\n",
       "      <td>8.305833e+17</td>\n",
       "      <td>4.196984e+09</td>\n",
       "      <td>2017-07-13 01:35:06 +0000</td>\n",
       "      <td>2017-02-12 01:04:29 +0000</td>\n",
       "    </tr>\n",
       "    <tr>\n",
       "      <th>68</th>\n",
       "      <td>8.780576e+17</td>\n",
       "      <td>4.196984e+09</td>\n",
       "      <td>2017-06-26 00:13:58 +0000</td>\n",
       "      <td>2017-06-23 01:10:23 +0000</td>\n",
       "    </tr>\n",
       "    <tr>\n",
       "      <th>73</th>\n",
       "      <td>8.782815e+17</td>\n",
       "      <td>4.196984e+09</td>\n",
       "      <td>2017-06-24 00:09:53 +0000</td>\n",
       "      <td>2017-06-23 16:00:04 +0000</td>\n",
       "    </tr>\n",
       "    <tr>\n",
       "      <th>...</th>\n",
       "      <td>...</td>\n",
       "      <td>...</td>\n",
       "      <td>...</td>\n",
       "      <td>...</td>\n",
       "    </tr>\n",
       "    <tr>\n",
       "      <th>1023</th>\n",
       "      <td>6.678667e+17</td>\n",
       "      <td>4.196984e+09</td>\n",
       "      <td>2016-06-25 01:52:36 +0000</td>\n",
       "      <td>2015-11-21 00:46:50 +0000</td>\n",
       "    </tr>\n",
       "    <tr>\n",
       "      <th>1043</th>\n",
       "      <td>6.671383e+17</td>\n",
       "      <td>4.196984e+09</td>\n",
       "      <td>2016-06-17 16:01:16 +0000</td>\n",
       "      <td>2015-11-19 00:32:12 +0000</td>\n",
       "    </tr>\n",
       "    <tr>\n",
       "      <th>1242</th>\n",
       "      <td>7.119983e+17</td>\n",
       "      <td>7.832140e+05</td>\n",
       "      <td>2016-03-21 19:31:59 +0000</td>\n",
       "      <td>2016-03-21 19:29:52 +0000</td>\n",
       "    </tr>\n",
       "    <tr>\n",
       "      <th>2259</th>\n",
       "      <td>6.675487e+17</td>\n",
       "      <td>4.296832e+09</td>\n",
       "      <td>2015-11-20 03:51:52 +0000</td>\n",
       "      <td>2015-11-20 03:43:06 +0000</td>\n",
       "    </tr>\n",
       "    <tr>\n",
       "      <th>2260</th>\n",
       "      <td>6.675484e+17</td>\n",
       "      <td>4.296832e+09</td>\n",
       "      <td>2015-11-20 03:51:47 +0000</td>\n",
       "      <td>2015-11-20 03:41:59 +0000</td>\n",
       "    </tr>\n",
       "  </tbody>\n",
       "</table>\n",
       "<p>181 rows × 4 columns</p>\n",
       "</div>"
      ],
      "text/plain": [
       "      retweeted_status_id  retweeted_status_user_id  \\\n",
       "19           8.874740e+17              4.196984e+09   \n",
       "32           8.860537e+17              1.960740e+07   \n",
       "36           8.305833e+17              4.196984e+09   \n",
       "68           8.780576e+17              4.196984e+09   \n",
       "73           8.782815e+17              4.196984e+09   \n",
       "...                   ...                       ...   \n",
       "1023         6.678667e+17              4.196984e+09   \n",
       "1043         6.671383e+17              4.196984e+09   \n",
       "1242         7.119983e+17              7.832140e+05   \n",
       "2259         6.675487e+17              4.296832e+09   \n",
       "2260         6.675484e+17              4.296832e+09   \n",
       "\n",
       "                      timestamp retweeted_status_timestamp  \n",
       "19    2017-07-21 01:02:36 +0000  2017-07-19 00:47:34 +0000  \n",
       "32    2017-07-15 02:45:48 +0000  2017-07-15 02:44:07 +0000  \n",
       "36    2017-07-13 01:35:06 +0000  2017-02-12 01:04:29 +0000  \n",
       "68    2017-06-26 00:13:58 +0000  2017-06-23 01:10:23 +0000  \n",
       "73    2017-06-24 00:09:53 +0000  2017-06-23 16:00:04 +0000  \n",
       "...                         ...                        ...  \n",
       "1023  2016-06-25 01:52:36 +0000  2015-11-21 00:46:50 +0000  \n",
       "1043  2016-06-17 16:01:16 +0000  2015-11-19 00:32:12 +0000  \n",
       "1242  2016-03-21 19:31:59 +0000  2016-03-21 19:29:52 +0000  \n",
       "2259  2015-11-20 03:51:52 +0000  2015-11-20 03:43:06 +0000  \n",
       "2260  2015-11-20 03:51:47 +0000  2015-11-20 03:41:59 +0000  \n",
       "\n",
       "[181 rows x 4 columns]"
      ]
     },
     "execution_count": 143,
     "metadata": {},
     "output_type": "execute_result"
    }
   ],
   "source": [
    "predicate = archive_df.retweeted_status_id.isnull() == False\n",
    "archive_df[predicate][['retweeted_status_id','retweeted_status_user_id','timestamp','retweeted_status_timestamp']]"
   ]
  },
  {
   "cell_type": "code",
   "execution_count": 144,
   "metadata": {},
   "outputs": [
    {
     "data": {
      "text/html": [
       "<div>\n",
       "<style scoped>\n",
       "    .dataframe tbody tr th:only-of-type {\n",
       "        vertical-align: middle;\n",
       "    }\n",
       "\n",
       "    .dataframe tbody tr th {\n",
       "        vertical-align: top;\n",
       "    }\n",
       "\n",
       "    .dataframe thead th {\n",
       "        text-align: right;\n",
       "    }\n",
       "</style>\n",
       "<table border=\"1\" class=\"dataframe\">\n",
       "  <thead>\n",
       "    <tr style=\"text-align: right;\">\n",
       "      <th></th>\n",
       "      <th>tweet_id</th>\n",
       "      <th>in_reply_to_status_id</th>\n",
       "      <th>in_reply_to_user_id</th>\n",
       "      <th>timestamp</th>\n",
       "      <th>source</th>\n",
       "      <th>text</th>\n",
       "      <th>retweeted_status_id</th>\n",
       "      <th>retweeted_status_user_id</th>\n",
       "      <th>retweeted_status_timestamp</th>\n",
       "      <th>expanded_urls</th>\n",
       "      <th>rating_numerator</th>\n",
       "      <th>rating_denominator</th>\n",
       "      <th>name</th>\n",
       "      <th>doggo</th>\n",
       "      <th>floofer</th>\n",
       "      <th>pupper</th>\n",
       "      <th>puppo</th>\n",
       "    </tr>\n",
       "  </thead>\n",
       "  <tbody>\n",
       "    <tr>\n",
       "      <th>313</th>\n",
       "      <td>835246439529840640</td>\n",
       "      <td>8.352460e+17</td>\n",
       "      <td>26259576.0</td>\n",
       "      <td>2017-02-24 21:54:03 +0000</td>\n",
       "      <td>&lt;a href=\"http://twitter.com/download/iphone\" r...</td>\n",
       "      <td>@jonnysun @Lin_Manuel ok jomny I know you're e...</td>\n",
       "      <td>NaN</td>\n",
       "      <td>NaN</td>\n",
       "      <td>NaN</td>\n",
       "      <td>NaN</td>\n",
       "      <td>960</td>\n",
       "      <td>0</td>\n",
       "      <td>None</td>\n",
       "      <td>None</td>\n",
       "      <td>None</td>\n",
       "      <td>None</td>\n",
       "      <td>None</td>\n",
       "    </tr>\n",
       "  </tbody>\n",
       "</table>\n",
       "</div>"
      ],
      "text/plain": [
       "               tweet_id  in_reply_to_status_id  in_reply_to_user_id  \\\n",
       "313  835246439529840640           8.352460e+17           26259576.0   \n",
       "\n",
       "                     timestamp  \\\n",
       "313  2017-02-24 21:54:03 +0000   \n",
       "\n",
       "                                                source  \\\n",
       "313  <a href=\"http://twitter.com/download/iphone\" r...   \n",
       "\n",
       "                                                  text  retweeted_status_id  \\\n",
       "313  @jonnysun @Lin_Manuel ok jomny I know you're e...                  NaN   \n",
       "\n",
       "     retweeted_status_user_id retweeted_status_timestamp expanded_urls  \\\n",
       "313                       NaN                        NaN           NaN   \n",
       "\n",
       "     rating_numerator  rating_denominator  name doggo floofer pupper puppo  \n",
       "313               960                   0  None  None    None   None  None  "
      ]
     },
     "metadata": {},
     "output_type": "display_data"
    }
   ],
   "source": [
    "display(archive_df[archive_df.rating_denominator == 0])"
   ]
  },
  {
   "cell_type": "code",
   "execution_count": 145,
   "metadata": {},
   "outputs": [
    {
     "data": {
      "text/html": [
       "<div>\n",
       "<style scoped>\n",
       "    .dataframe tbody tr th:only-of-type {\n",
       "        vertical-align: middle;\n",
       "    }\n",
       "\n",
       "    .dataframe tbody tr th {\n",
       "        vertical-align: top;\n",
       "    }\n",
       "\n",
       "    .dataframe thead th {\n",
       "        text-align: right;\n",
       "    }\n",
       "</style>\n",
       "<table border=\"1\" class=\"dataframe\">\n",
       "  <thead>\n",
       "    <tr style=\"text-align: right;\">\n",
       "      <th></th>\n",
       "      <th>timestamp</th>\n",
       "      <th>tweet_id</th>\n",
       "    </tr>\n",
       "  </thead>\n",
       "  <tbody>\n",
       "    <tr>\n",
       "      <th>0</th>\n",
       "      <td>2017-08-01 16:23:56 +0000</td>\n",
       "      <td>892420643555336193</td>\n",
       "    </tr>\n",
       "    <tr>\n",
       "      <th>1</th>\n",
       "      <td>2017-08-01 00:17:27 +0000</td>\n",
       "      <td>892177421306343426</td>\n",
       "    </tr>\n",
       "    <tr>\n",
       "      <th>2</th>\n",
       "      <td>2017-07-31 00:18:03 +0000</td>\n",
       "      <td>891815181378084864</td>\n",
       "    </tr>\n",
       "    <tr>\n",
       "      <th>3</th>\n",
       "      <td>2017-07-30 15:58:51 +0000</td>\n",
       "      <td>891689557279858688</td>\n",
       "    </tr>\n",
       "    <tr>\n",
       "      <th>4</th>\n",
       "      <td>2017-07-29 16:00:24 +0000</td>\n",
       "      <td>891327558926688256</td>\n",
       "    </tr>\n",
       "  </tbody>\n",
       "</table>\n",
       "</div>"
      ],
      "text/plain": [
       "                   timestamp            tweet_id\n",
       "0  2017-08-01 16:23:56 +0000  892420643555336193\n",
       "1  2017-08-01 00:17:27 +0000  892177421306343426\n",
       "2  2017-07-31 00:18:03 +0000  891815181378084864\n",
       "3  2017-07-30 15:58:51 +0000  891689557279858688\n",
       "4  2017-07-29 16:00:24 +0000  891327558926688256"
      ]
     },
     "execution_count": 145,
     "metadata": {},
     "output_type": "execute_result"
    }
   ],
   "source": [
    "archive_df[['timestamp', 'tweet_id']].head()"
   ]
  },
  {
   "cell_type": "code",
   "execution_count": 146,
   "metadata": {},
   "outputs": [
    {
     "data": {
      "text/html": [
       "<div>\n",
       "<style scoped>\n",
       "    .dataframe tbody tr th:only-of-type {\n",
       "        vertical-align: middle;\n",
       "    }\n",
       "\n",
       "    .dataframe tbody tr th {\n",
       "        vertical-align: top;\n",
       "    }\n",
       "\n",
       "    .dataframe thead th {\n",
       "        text-align: right;\n",
       "    }\n",
       "</style>\n",
       "<table border=\"1\" class=\"dataframe\">\n",
       "  <thead>\n",
       "    <tr style=\"text-align: right;\">\n",
       "      <th></th>\n",
       "      <th>tweet_id</th>\n",
       "      <th>jpg_url</th>\n",
       "      <th>img_num</th>\n",
       "      <th>p1</th>\n",
       "      <th>p1_conf</th>\n",
       "      <th>p1_dog</th>\n",
       "      <th>p2</th>\n",
       "      <th>p2_conf</th>\n",
       "      <th>p2_dog</th>\n",
       "      <th>p3</th>\n",
       "      <th>p3_conf</th>\n",
       "      <th>p3_dog</th>\n",
       "    </tr>\n",
       "  </thead>\n",
       "  <tbody>\n",
       "    <tr>\n",
       "      <th>805</th>\n",
       "      <td>691756958957883396</td>\n",
       "      <td>https://pbs.twimg.com/media/CZmdSD8UcAAnY5R.jpg</td>\n",
       "      <td>1</td>\n",
       "      <td>Saint_Bernard</td>\n",
       "      <td>0.342571</td>\n",
       "      <td>True</td>\n",
       "      <td>boxer</td>\n",
       "      <td>0.289096</td>\n",
       "      <td>True</td>\n",
       "      <td>Pembroke</td>\n",
       "      <td>0.076463</td>\n",
       "      <td>True</td>\n",
       "    </tr>\n",
       "    <tr>\n",
       "      <th>1070</th>\n",
       "      <td>716285507865542656</td>\n",
       "      <td>https://pbs.twimg.com/media/CfDB3aJXEAAEZNv.jpg</td>\n",
       "      <td>1</td>\n",
       "      <td>Yorkshire_terrier</td>\n",
       "      <td>0.430420</td>\n",
       "      <td>True</td>\n",
       "      <td>silky_terrier</td>\n",
       "      <td>0.196769</td>\n",
       "      <td>True</td>\n",
       "      <td>cairn</td>\n",
       "      <td>0.072676</td>\n",
       "      <td>True</td>\n",
       "    </tr>\n",
       "    <tr>\n",
       "      <th>694</th>\n",
       "      <td>684241637099323392</td>\n",
       "      <td>https://pbs.twimg.com/media/CX7qIcdWcAELJ7N.jpg</td>\n",
       "      <td>1</td>\n",
       "      <td>Pembroke</td>\n",
       "      <td>0.508498</td>\n",
       "      <td>True</td>\n",
       "      <td>black-footed_ferret</td>\n",
       "      <td>0.115532</td>\n",
       "      <td>False</td>\n",
       "      <td>weasel</td>\n",
       "      <td>0.051280</td>\n",
       "      <td>False</td>\n",
       "    </tr>\n",
       "    <tr>\n",
       "      <th>1014</th>\n",
       "      <td>709566166965075968</td>\n",
       "      <td>https://pbs.twimg.com/media/Cdjiqi6XIAIUOg-.jpg</td>\n",
       "      <td>1</td>\n",
       "      <td>chow</td>\n",
       "      <td>0.999837</td>\n",
       "      <td>True</td>\n",
       "      <td>Tibetan_mastiff</td>\n",
       "      <td>0.000117</td>\n",
       "      <td>True</td>\n",
       "      <td>Australian_terrier</td>\n",
       "      <td>0.000011</td>\n",
       "      <td>True</td>\n",
       "    </tr>\n",
       "    <tr>\n",
       "      <th>1338</th>\n",
       "      <td>758467244762497024</td>\n",
       "      <td>https://pbs.twimg.com/ext_tw_video_thumb/75846...</td>\n",
       "      <td>1</td>\n",
       "      <td>Labrador_retriever</td>\n",
       "      <td>0.436377</td>\n",
       "      <td>True</td>\n",
       "      <td>Chihuahua</td>\n",
       "      <td>0.113956</td>\n",
       "      <td>True</td>\n",
       "      <td>American_Staffordshire_terrier</td>\n",
       "      <td>0.099689</td>\n",
       "      <td>True</td>\n",
       "    </tr>\n",
       "  </tbody>\n",
       "</table>\n",
       "</div>"
      ],
      "text/plain": [
       "                tweet_id                                            jpg_url  \\\n",
       "805   691756958957883396    https://pbs.twimg.com/media/CZmdSD8UcAAnY5R.jpg   \n",
       "1070  716285507865542656    https://pbs.twimg.com/media/CfDB3aJXEAAEZNv.jpg   \n",
       "694   684241637099323392    https://pbs.twimg.com/media/CX7qIcdWcAELJ7N.jpg   \n",
       "1014  709566166965075968    https://pbs.twimg.com/media/Cdjiqi6XIAIUOg-.jpg   \n",
       "1338  758467244762497024  https://pbs.twimg.com/ext_tw_video_thumb/75846...   \n",
       "\n",
       "      img_num                  p1   p1_conf  p1_dog                   p2  \\\n",
       "805         1       Saint_Bernard  0.342571    True                boxer   \n",
       "1070        1   Yorkshire_terrier  0.430420    True        silky_terrier   \n",
       "694         1            Pembroke  0.508498    True  black-footed_ferret   \n",
       "1014        1                chow  0.999837    True      Tibetan_mastiff   \n",
       "1338        1  Labrador_retriever  0.436377    True            Chihuahua   \n",
       "\n",
       "       p2_conf  p2_dog                              p3   p3_conf  p3_dog  \n",
       "805   0.289096    True                        Pembroke  0.076463    True  \n",
       "1070  0.196769    True                           cairn  0.072676    True  \n",
       "694   0.115532   False                          weasel  0.051280   False  \n",
       "1014  0.000117    True              Australian_terrier  0.000011    True  \n",
       "1338  0.113956    True  American_Staffordshire_terrier  0.099689    True  "
      ]
     },
     "execution_count": 146,
     "metadata": {},
     "output_type": "execute_result"
    }
   ],
   "source": [
    "img_predictions_df.sample(5)"
   ]
  },
  {
   "cell_type": "code",
   "execution_count": 147,
   "metadata": {},
   "outputs": [
    {
     "data": {
      "text/plain": [
       "golden_retriever      150\n",
       "Labrador_retriever    100\n",
       "Pembroke               89\n",
       "Chihuahua              83\n",
       "pug                    57\n",
       "                     ... \n",
       "radio_telescope         1\n",
       "standard_schnauzer      1\n",
       "trombone                1\n",
       "china_cabinet           1\n",
       "wooden_spoon            1\n",
       "Name: p1, Length: 378, dtype: int64"
      ]
     },
     "execution_count": 147,
     "metadata": {},
     "output_type": "execute_result"
    }
   ],
   "source": [
    "img_predictions_df['p1'].value_counts()"
   ]
  },
  {
   "cell_type": "code",
   "execution_count": 148,
   "metadata": {},
   "outputs": [
    {
     "data": {
      "text/html": [
       "<div>\n",
       "<style scoped>\n",
       "    .dataframe tbody tr th:only-of-type {\n",
       "        vertical-align: middle;\n",
       "    }\n",
       "\n",
       "    .dataframe tbody tr th {\n",
       "        vertical-align: top;\n",
       "    }\n",
       "\n",
       "    .dataframe thead th {\n",
       "        text-align: right;\n",
       "    }\n",
       "</style>\n",
       "<table border=\"1\" class=\"dataframe\">\n",
       "  <thead>\n",
       "    <tr style=\"text-align: right;\">\n",
       "      <th></th>\n",
       "      <th>tweet_id</th>\n",
       "      <th>jpg_url</th>\n",
       "      <th>img_num</th>\n",
       "      <th>p1</th>\n",
       "      <th>p1_conf</th>\n",
       "      <th>p1_dog</th>\n",
       "      <th>p2</th>\n",
       "      <th>p2_conf</th>\n",
       "      <th>p2_dog</th>\n",
       "      <th>p3</th>\n",
       "      <th>p3_conf</th>\n",
       "      <th>p3_dog</th>\n",
       "    </tr>\n",
       "  </thead>\n",
       "  <tbody>\n",
       "    <tr>\n",
       "      <th>867</th>\n",
       "      <td>697575480820686848</td>\n",
       "      <td>https://pbs.twimg.com/media/Ca5JMvMUsAAGMll.jpg</td>\n",
       "      <td>1</td>\n",
       "      <td>Siamese_cat</td>\n",
       "      <td>0.256698</td>\n",
       "      <td>False</td>\n",
       "      <td>whippet</td>\n",
       "      <td>0.119805</td>\n",
       "      <td>True</td>\n",
       "      <td>bull_mastiff</td>\n",
       "      <td>0.102595</td>\n",
       "      <td>True</td>\n",
       "    </tr>\n",
       "    <tr>\n",
       "      <th>1931</th>\n",
       "      <td>859074603037188101</td>\n",
       "      <td>https://pbs.twimg.com/media/C-wLyufW0AA546I.jpg</td>\n",
       "      <td>1</td>\n",
       "      <td>revolver</td>\n",
       "      <td>0.190292</td>\n",
       "      <td>False</td>\n",
       "      <td>projectile</td>\n",
       "      <td>0.149064</td>\n",
       "      <td>False</td>\n",
       "      <td>fountain</td>\n",
       "      <td>0.066047</td>\n",
       "      <td>False</td>\n",
       "    </tr>\n",
       "    <tr>\n",
       "      <th>596</th>\n",
       "      <td>679527802031484928</td>\n",
       "      <td>https://pbs.twimg.com/media/CW4q7jDWkAA2y8g.jpg</td>\n",
       "      <td>1</td>\n",
       "      <td>mailbox</td>\n",
       "      <td>0.336393</td>\n",
       "      <td>False</td>\n",
       "      <td>cannon</td>\n",
       "      <td>0.158936</td>\n",
       "      <td>False</td>\n",
       "      <td>cuirass</td>\n",
       "      <td>0.052647</td>\n",
       "      <td>False</td>\n",
       "    </tr>\n",
       "    <tr>\n",
       "      <th>821</th>\n",
       "      <td>693095443459342336</td>\n",
       "      <td>https://pbs.twimg.com/media/CZ5entwWYAAocEg.jpg</td>\n",
       "      <td>1</td>\n",
       "      <td>ice_lolly</td>\n",
       "      <td>0.660099</td>\n",
       "      <td>False</td>\n",
       "      <td>neck_brace</td>\n",
       "      <td>0.039563</td>\n",
       "      <td>False</td>\n",
       "      <td>Yorkshire_terrier</td>\n",
       "      <td>0.033488</td>\n",
       "      <td>True</td>\n",
       "    </tr>\n",
       "    <tr>\n",
       "      <th>835</th>\n",
       "      <td>694183373896572928</td>\n",
       "      <td>https://pbs.twimg.com/media/CaI8Fn0WAAIrFJN.jpg</td>\n",
       "      <td>1</td>\n",
       "      <td>teddy</td>\n",
       "      <td>0.441499</td>\n",
       "      <td>False</td>\n",
       "      <td>Pekinese</td>\n",
       "      <td>0.080870</td>\n",
       "      <td>True</td>\n",
       "      <td>Shih-Tzu</td>\n",
       "      <td>0.072099</td>\n",
       "      <td>True</td>\n",
       "    </tr>\n",
       "  </tbody>\n",
       "</table>\n",
       "</div>"
      ],
      "text/plain": [
       "                tweet_id                                          jpg_url  \\\n",
       "867   697575480820686848  https://pbs.twimg.com/media/Ca5JMvMUsAAGMll.jpg   \n",
       "1931  859074603037188101  https://pbs.twimg.com/media/C-wLyufW0AA546I.jpg   \n",
       "596   679527802031484928  https://pbs.twimg.com/media/CW4q7jDWkAA2y8g.jpg   \n",
       "821   693095443459342336  https://pbs.twimg.com/media/CZ5entwWYAAocEg.jpg   \n",
       "835   694183373896572928  https://pbs.twimg.com/media/CaI8Fn0WAAIrFJN.jpg   \n",
       "\n",
       "      img_num           p1   p1_conf  p1_dog          p2   p2_conf  p2_dog  \\\n",
       "867         1  Siamese_cat  0.256698   False     whippet  0.119805    True   \n",
       "1931        1     revolver  0.190292   False  projectile  0.149064   False   \n",
       "596         1      mailbox  0.336393   False      cannon  0.158936   False   \n",
       "821         1    ice_lolly  0.660099   False  neck_brace  0.039563   False   \n",
       "835         1        teddy  0.441499   False    Pekinese  0.080870    True   \n",
       "\n",
       "                     p3   p3_conf  p3_dog  \n",
       "867        bull_mastiff  0.102595    True  \n",
       "1931           fountain  0.066047   False  \n",
       "596             cuirass  0.052647   False  \n",
       "821   Yorkshire_terrier  0.033488    True  \n",
       "835            Shih-Tzu  0.072099    True  "
      ]
     },
     "execution_count": 148,
     "metadata": {},
     "output_type": "execute_result"
    }
   ],
   "source": [
    "img_predictions_df[img_predictions_df['p1_dog'] == False].sample(5)"
   ]
  },
  {
   "cell_type": "code",
   "execution_count": 149,
   "metadata": {},
   "outputs": [
    {
     "data": {
      "text/plain": [
       "count    543.000000\n",
       "mean       0.540167\n",
       "std        0.294639\n",
       "min        0.059033\n",
       "25%        0.280340\n",
       "50%        0.493257\n",
       "75%        0.821904\n",
       "max        1.000000\n",
       "Name: p1_conf, dtype: float64"
      ]
     },
     "execution_count": 149,
     "metadata": {},
     "output_type": "execute_result"
    }
   ],
   "source": [
    "img_predictions_df.p1_conf[img_predictions_df['p1_dog'] == False].describe() #value_counts(ascending=False)\n"
   ]
  },
  {
   "cell_type": "code",
   "execution_count": 150,
   "metadata": {},
   "outputs": [
    {
     "data": {
      "text/plain": [
       "1    1780\n",
       "2     198\n",
       "3      66\n",
       "4      31\n",
       "Name: img_num, dtype: int64"
      ]
     },
     "execution_count": 150,
     "metadata": {},
     "output_type": "execute_result"
    }
   ],
   "source": [
    "img_predictions_df.img_num.value_counts()"
   ]
  },
  {
   "cell_type": "code",
   "execution_count": 151,
   "metadata": {},
   "outputs": [
    {
     "data": {
      "text/html": [
       "<div>\n",
       "<style scoped>\n",
       "    .dataframe tbody tr th:only-of-type {\n",
       "        vertical-align: middle;\n",
       "    }\n",
       "\n",
       "    .dataframe tbody tr th {\n",
       "        vertical-align: top;\n",
       "    }\n",
       "\n",
       "    .dataframe thead th {\n",
       "        text-align: right;\n",
       "    }\n",
       "</style>\n",
       "<table border=\"1\" class=\"dataframe\">\n",
       "  <thead>\n",
       "    <tr style=\"text-align: right;\">\n",
       "      <th></th>\n",
       "      <th>created_at</th>\n",
       "      <th>id</th>\n",
       "      <th>id_str</th>\n",
       "      <th>full_text</th>\n",
       "      <th>truncated</th>\n",
       "      <th>display_text_range</th>\n",
       "      <th>entities</th>\n",
       "      <th>extended_entities</th>\n",
       "      <th>source</th>\n",
       "      <th>in_reply_to_status_id</th>\n",
       "      <th>...</th>\n",
       "      <th>favorited</th>\n",
       "      <th>retweeted</th>\n",
       "      <th>possibly_sensitive</th>\n",
       "      <th>possibly_sensitive_appealable</th>\n",
       "      <th>lang</th>\n",
       "      <th>retweeted_status</th>\n",
       "      <th>quoted_status_id</th>\n",
       "      <th>quoted_status_id_str</th>\n",
       "      <th>quoted_status_permalink</th>\n",
       "      <th>quoted_status</th>\n",
       "    </tr>\n",
       "  </thead>\n",
       "  <tbody>\n",
       "    <tr>\n",
       "      <th>1183</th>\n",
       "      <td>2016-04-01 02:51:22+00:00</td>\n",
       "      <td>715733265223708672</td>\n",
       "      <td>715733265223708672</td>\n",
       "      <td>This is a taco. We only rate dogs. Please only...</td>\n",
       "      <td>False</td>\n",
       "      <td>[0, 137]</td>\n",
       "      <td>{'hashtags': [], 'symbols': [], 'user_mentions...</td>\n",
       "      <td>{'media': [{'id': 715733232809955329, 'id_str'...</td>\n",
       "      <td>&lt;a href=\"http://twitter.com/download/iphone\" r...</td>\n",
       "      <td>NaN</td>\n",
       "      <td>...</td>\n",
       "      <td>False</td>\n",
       "      <td>False</td>\n",
       "      <td>0.0</td>\n",
       "      <td>0.0</td>\n",
       "      <td>en</td>\n",
       "      <td>NaN</td>\n",
       "      <td>NaN</td>\n",
       "      <td>NaN</td>\n",
       "      <td>NaN</td>\n",
       "      <td>NaN</td>\n",
       "    </tr>\n",
       "    <tr>\n",
       "      <th>215</th>\n",
       "      <td>2017-04-04 19:03:06+00:00</td>\n",
       "      <td>849336543269576704</td>\n",
       "      <td>849336543269576704</td>\n",
       "      <td>At first I thought this was a dog because of t...</td>\n",
       "      <td>False</td>\n",
       "      <td>[0, 136]</td>\n",
       "      <td>{'hashtags': [], 'symbols': [], 'user_mentions...</td>\n",
       "      <td>{'media': [{'id': 849336535245877248, 'id_str'...</td>\n",
       "      <td>&lt;a href=\"http://twitter.com/download/iphone\" r...</td>\n",
       "      <td>NaN</td>\n",
       "      <td>...</td>\n",
       "      <td>False</td>\n",
       "      <td>False</td>\n",
       "      <td>0.0</td>\n",
       "      <td>0.0</td>\n",
       "      <td>en</td>\n",
       "      <td>NaN</td>\n",
       "      <td>NaN</td>\n",
       "      <td>NaN</td>\n",
       "      <td>NaN</td>\n",
       "      <td>NaN</td>\n",
       "    </tr>\n",
       "    <tr>\n",
       "      <th>1999</th>\n",
       "      <td>2015-12-02 03:20:45+00:00</td>\n",
       "      <td>671891728106971137</td>\n",
       "      <td>671891728106971136</td>\n",
       "      <td>This is Mojo. Apparently he's too cute for a s...</td>\n",
       "      <td>False</td>\n",
       "      <td>[0, 138]</td>\n",
       "      <td>{'hashtags': [], 'symbols': [], 'user_mentions...</td>\n",
       "      <td>{'media': [{'id': 671891721769385984, 'id_str'...</td>\n",
       "      <td>&lt;a href=\"http://twitter.com/download/iphone\" r...</td>\n",
       "      <td>NaN</td>\n",
       "      <td>...</td>\n",
       "      <td>False</td>\n",
       "      <td>False</td>\n",
       "      <td>0.0</td>\n",
       "      <td>0.0</td>\n",
       "      <td>en</td>\n",
       "      <td>NaN</td>\n",
       "      <td>NaN</td>\n",
       "      <td>NaN</td>\n",
       "      <td>NaN</td>\n",
       "      <td>NaN</td>\n",
       "    </tr>\n",
       "    <tr>\n",
       "      <th>2184</th>\n",
       "      <td>2015-11-23 02:52:48+00:00</td>\n",
       "      <td>668623201287675904</td>\n",
       "      <td>668623201287675904</td>\n",
       "      <td>This is Jomathan. He is not thrilled about the...</td>\n",
       "      <td>False</td>\n",
       "      <td>[0, 97]</td>\n",
       "      <td>{'hashtags': [], 'symbols': [], 'user_mentions...</td>\n",
       "      <td>{'media': [{'id': 668623188582989824, 'id_str'...</td>\n",
       "      <td>&lt;a href=\"http://twitter.com/download/iphone\" r...</td>\n",
       "      <td>NaN</td>\n",
       "      <td>...</td>\n",
       "      <td>False</td>\n",
       "      <td>False</td>\n",
       "      <td>0.0</td>\n",
       "      <td>0.0</td>\n",
       "      <td>en</td>\n",
       "      <td>NaN</td>\n",
       "      <td>NaN</td>\n",
       "      <td>NaN</td>\n",
       "      <td>NaN</td>\n",
       "      <td>NaN</td>\n",
       "    </tr>\n",
       "    <tr>\n",
       "      <th>2050</th>\n",
       "      <td>2015-11-29 05:43:44+00:00</td>\n",
       "      <td>670840546554966016</td>\n",
       "      <td>670840546554966016</td>\n",
       "      <td>Meet Colby. He's that one cool friend that get...</td>\n",
       "      <td>False</td>\n",
       "      <td>[0, 139]</td>\n",
       "      <td>{'hashtags': [], 'symbols': [], 'user_mentions...</td>\n",
       "      <td>{'media': [{'id': 670840540850749440, 'id_str'...</td>\n",
       "      <td>&lt;a href=\"http://twitter.com/download/iphone\" r...</td>\n",
       "      <td>NaN</td>\n",
       "      <td>...</td>\n",
       "      <td>False</td>\n",
       "      <td>False</td>\n",
       "      <td>0.0</td>\n",
       "      <td>0.0</td>\n",
       "      <td>en</td>\n",
       "      <td>NaN</td>\n",
       "      <td>NaN</td>\n",
       "      <td>NaN</td>\n",
       "      <td>NaN</td>\n",
       "      <td>NaN</td>\n",
       "    </tr>\n",
       "  </tbody>\n",
       "</table>\n",
       "<p>5 rows × 32 columns</p>\n",
       "</div>"
      ],
      "text/plain": [
       "                    created_at                  id              id_str  \\\n",
       "1183 2016-04-01 02:51:22+00:00  715733265223708672  715733265223708672   \n",
       "215  2017-04-04 19:03:06+00:00  849336543269576704  849336543269576704   \n",
       "1999 2015-12-02 03:20:45+00:00  671891728106971137  671891728106971136   \n",
       "2184 2015-11-23 02:52:48+00:00  668623201287675904  668623201287675904   \n",
       "2050 2015-11-29 05:43:44+00:00  670840546554966016  670840546554966016   \n",
       "\n",
       "                                              full_text  truncated  \\\n",
       "1183  This is a taco. We only rate dogs. Please only...      False   \n",
       "215   At first I thought this was a dog because of t...      False   \n",
       "1999  This is Mojo. Apparently he's too cute for a s...      False   \n",
       "2184  This is Jomathan. He is not thrilled about the...      False   \n",
       "2050  Meet Colby. He's that one cool friend that get...      False   \n",
       "\n",
       "     display_text_range                                           entities  \\\n",
       "1183           [0, 137]  {'hashtags': [], 'symbols': [], 'user_mentions...   \n",
       "215            [0, 136]  {'hashtags': [], 'symbols': [], 'user_mentions...   \n",
       "1999           [0, 138]  {'hashtags': [], 'symbols': [], 'user_mentions...   \n",
       "2184            [0, 97]  {'hashtags': [], 'symbols': [], 'user_mentions...   \n",
       "2050           [0, 139]  {'hashtags': [], 'symbols': [], 'user_mentions...   \n",
       "\n",
       "                                      extended_entities  \\\n",
       "1183  {'media': [{'id': 715733232809955329, 'id_str'...   \n",
       "215   {'media': [{'id': 849336535245877248, 'id_str'...   \n",
       "1999  {'media': [{'id': 671891721769385984, 'id_str'...   \n",
       "2184  {'media': [{'id': 668623188582989824, 'id_str'...   \n",
       "2050  {'media': [{'id': 670840540850749440, 'id_str'...   \n",
       "\n",
       "                                                 source  \\\n",
       "1183  <a href=\"http://twitter.com/download/iphone\" r...   \n",
       "215   <a href=\"http://twitter.com/download/iphone\" r...   \n",
       "1999  <a href=\"http://twitter.com/download/iphone\" r...   \n",
       "2184  <a href=\"http://twitter.com/download/iphone\" r...   \n",
       "2050  <a href=\"http://twitter.com/download/iphone\" r...   \n",
       "\n",
       "      in_reply_to_status_id  ...  favorited  retweeted  possibly_sensitive  \\\n",
       "1183                    NaN  ...      False      False                 0.0   \n",
       "215                     NaN  ...      False      False                 0.0   \n",
       "1999                    NaN  ...      False      False                 0.0   \n",
       "2184                    NaN  ...      False      False                 0.0   \n",
       "2050                    NaN  ...      False      False                 0.0   \n",
       "\n",
       "     possibly_sensitive_appealable lang  retweeted_status  quoted_status_id  \\\n",
       "1183                           0.0   en               NaN               NaN   \n",
       "215                            0.0   en               NaN               NaN   \n",
       "1999                           0.0   en               NaN               NaN   \n",
       "2184                           0.0   en               NaN               NaN   \n",
       "2050                           0.0   en               NaN               NaN   \n",
       "\n",
       "     quoted_status_id_str  quoted_status_permalink  quoted_status  \n",
       "1183                  NaN                      NaN            NaN  \n",
       "215                   NaN                      NaN            NaN  \n",
       "1999                  NaN                      NaN            NaN  \n",
       "2184                  NaN                      NaN            NaN  \n",
       "2050                  NaN                      NaN            NaN  \n",
       "\n",
       "[5 rows x 32 columns]"
      ]
     },
     "execution_count": 151,
     "metadata": {},
     "output_type": "execute_result"
    }
   ],
   "source": [
    "json_df.sample(5)"
   ]
  },
  {
   "cell_type": "code",
   "execution_count": 152,
   "metadata": {},
   "outputs": [
    {
     "data": {
      "text/plain": [
       "'favorite count stats'"
      ]
     },
     "metadata": {},
     "output_type": "display_data"
    },
    {
     "data": {
      "text/plain": [
       "count      2331.000000\n",
       "mean       7319.238953\n",
       "std       11367.525636\n",
       "min           0.000000\n",
       "25%        1269.500000\n",
       "50%        3174.000000\n",
       "75%        8947.000000\n",
       "max      150692.000000\n",
       "Name: favorite_count, dtype: float64"
      ]
     },
     "metadata": {},
     "output_type": "display_data"
    },
    {
     "data": {
      "text/plain": [
       "'retweet count stats'"
      ]
     },
     "metadata": {},
     "output_type": "display_data"
    },
    {
     "data": {
      "text/plain": [
       "count     2331.000000\n",
       "mean      2591.102531\n",
       "std       4383.211411\n",
       "min          1.000000\n",
       "25%        525.500000\n",
       "50%       1209.000000\n",
       "75%       3000.000000\n",
       "max      74376.000000\n",
       "Name: retweet_count, dtype: float64"
      ]
     },
     "metadata": {},
     "output_type": "display_data"
    }
   ],
   "source": [
    "#json_df[json_df.retweeted_status_id.isnull() == False]#.sample(3)\n",
    "#json_df[.value_counts() ==]\n",
    "display('favorite count stats')\n",
    "display( json_df.favorite_count.describe())\n",
    "display('retweet count stats')\n",
    "display(json_df.retweet_count.describe())"
   ]
  },
  {
   "cell_type": "code",
   "execution_count": 153,
   "metadata": {},
   "outputs": [
    {
     "data": {
      "text/plain": [
       "False    2331\n",
       "Name: retweeted, dtype: int64"
      ]
     },
     "execution_count": 153,
     "metadata": {},
     "output_type": "execute_result"
    }
   ],
   "source": [
    "json_df.retweeted.value_counts()"
   ]
  },
  {
   "cell_type": "code",
   "execution_count": 154,
   "metadata": {},
   "outputs": [
    {
     "data": {
      "text/html": [
       "<div>\n",
       "<style scoped>\n",
       "    .dataframe tbody tr th:only-of-type {\n",
       "        vertical-align: middle;\n",
       "    }\n",
       "\n",
       "    .dataframe tbody tr th {\n",
       "        vertical-align: top;\n",
       "    }\n",
       "\n",
       "    .dataframe thead th {\n",
       "        text-align: right;\n",
       "    }\n",
       "</style>\n",
       "<table border=\"1\" class=\"dataframe\">\n",
       "  <thead>\n",
       "    <tr style=\"text-align: right;\">\n",
       "      <th></th>\n",
       "      <th>created_at</th>\n",
       "      <th>id</th>\n",
       "    </tr>\n",
       "  </thead>\n",
       "  <tbody>\n",
       "    <tr>\n",
       "      <th>0</th>\n",
       "      <td>2017-08-01 16:23:56+00:00</td>\n",
       "      <td>892420643555336193</td>\n",
       "    </tr>\n",
       "    <tr>\n",
       "      <th>1</th>\n",
       "      <td>2017-08-01 00:17:27+00:00</td>\n",
       "      <td>892177421306343426</td>\n",
       "    </tr>\n",
       "    <tr>\n",
       "      <th>2</th>\n",
       "      <td>2017-07-31 00:18:03+00:00</td>\n",
       "      <td>891815181378084864</td>\n",
       "    </tr>\n",
       "    <tr>\n",
       "      <th>3</th>\n",
       "      <td>2017-07-30 15:58:51+00:00</td>\n",
       "      <td>891689557279858688</td>\n",
       "    </tr>\n",
       "    <tr>\n",
       "      <th>4</th>\n",
       "      <td>2017-07-29 16:00:24+00:00</td>\n",
       "      <td>891327558926688256</td>\n",
       "    </tr>\n",
       "  </tbody>\n",
       "</table>\n",
       "</div>"
      ],
      "text/plain": [
       "                 created_at                  id\n",
       "0 2017-08-01 16:23:56+00:00  892420643555336193\n",
       "1 2017-08-01 00:17:27+00:00  892177421306343426\n",
       "2 2017-07-31 00:18:03+00:00  891815181378084864\n",
       "3 2017-07-30 15:58:51+00:00  891689557279858688\n",
       "4 2017-07-29 16:00:24+00:00  891327558926688256"
      ]
     },
     "execution_count": 154,
     "metadata": {},
     "output_type": "execute_result"
    }
   ],
   "source": [
    "json_df[['created_at', 'id']].head()"
   ]
  },
  {
   "cell_type": "code",
   "execution_count": 155,
   "metadata": {},
   "outputs": [
    {
     "data": {
      "text/plain": [
       "\"This is Tilly. She's just checking pup on you. Hopes you're doing ok. If not, she's available for pats, snugs, boops, the whole bit. 13/10 https://t.co/0Xxu71qeIV\""
      ]
     },
     "metadata": {},
     "output_type": "display_data"
    },
    {
     "data": {
      "text/plain": [
       "\"This is Tilly. She's just checking pup on you. Hopes you're doing ok. If not, she's available for pats, snugs, boops, the whole bit. 13/10 https://t.co/0Xxu71qeIV\""
      ]
     },
     "metadata": {},
     "output_type": "display_data"
    }
   ],
   "source": [
    "display(archive_df.text[1], json_df.full_text[1])"
   ]
  },
  {
   "cell_type": "code",
   "execution_count": 156,
   "metadata": {},
   "outputs": [
    {
     "data": {
      "text/plain": [
       "(2356,)"
      ]
     },
     "execution_count": 156,
     "metadata": {},
     "output_type": "execute_result"
    }
   ],
   "source": [
    "archive_df.text.str.count('http').shape"
   ]
  },
  {
   "cell_type": "markdown",
   "metadata": {},
   "source": [
    "### Issues observed ###\n",
    "From the (visual) assesment above, I can observe the following issues:\n",
    "\n",
    "For the **archive dataset**:\n",
    "* the following columns have missing values\n",
    "\n",
    " `1   in_reply_to_status_id       78 non-null     float64\n",
    " 2   in_reply_to_user_id         78 non-null     float64\n",
    " 6   retweeted_status_id         181 non-null    float64\n",
    " 7   retweeted_status_user_id    181 non-null    float64\n",
    " 8   retweeted_status_timestamp  181 non-null    object \n",
    " 9   expanded_urls               2297 non-null   object`\n",
    "\n",
    "* I interpret records with values in `['retweeted_status_id','retweeted_status_user_id','retweeted_status_timestamp']` as retweets, thus these entries won't be part of this project, as per the context given (sic.\"**You only want original ratings (no retweets) that have images**.\" )\n",
    "\n",
    "* The actual rating for the dogs is missing. According to the context of the project, it should be obtained from : rating_numerator / rating_denominator; prior to calculating the rating, the the rating denominator must be fixed to **prevent a division by 0.** when calculating. \n",
    "\n",
    "* `text` column contains also numerator and denominator for the rating, plus the tweet url \n",
    "\n",
    "* The `source` column does not seem to add much, since only four possible values appear, and they refer to the device type(?) used to send the tweet.\n",
    "\n",
    "* If I understand well, a dog can be either a doggo, a floofer, a pupper, or a puppo. This means the columns `doggo\tfloofer\tpupper\tpuppo` can be converted(?) into a \"stage\" one?\n",
    "\n"
   ]
  },
  {
   "cell_type": "markdown",
   "metadata": {},
   "source": [
    "For the **image predictions dataset**:\n",
    "\n",
    "* img_predictions_df.jpg_url.value_counts() yields some image URL appear more than once, is this an issue?\n",
    "\n",
    "* column `p1_dog` decides whether the entry can be regarded as a dog, yes or no. If columns `p1_*` is the algorithm's #1 prediction for the image in the tweet, what I observe is that the image cannot be correctly predicted since there might be a dog in the image, but often is not the main subject in the image. Therefore, I would remove those entries where 'p1_dog' is set to False, since the confidence level(s) will be *low* (i.e. 75% of samples are 0.82 of confidence level p1)."
   ]
  },
  {
   "cell_type": "markdown",
   "metadata": {},
   "source": [
    "For the **json dataset**:\n",
    "\n",
    "* the tweet id column is called `id` only. I prefer to rename it to `tweet_id` for consistency with other dataframes for further manipulation.\n",
    "* the following columns have missing values\n",
    "\n",
    " `9   in_reply_to_status_id          77 non-null     float64            \n",
    " 10  in_reply_to_status_id_str      77 non-null     float64            \n",
    " 11  in_reply_to_user_id            77 non-null     float64            \n",
    " 12  in_reply_to_user_id_str        77 non-null     float64            \n",
    " 13  in_reply_to_screen_name        77 non-null     object    \n",
    " 15  geo                            0 non-null      float64            \n",
    " 16  coordinates                    0 non-null      float64            \n",
    " 17  place                          1 non-null      object             \n",
    " 18  contributors                   0 non-null      float64 \n",
    " 24  possibly_sensitive             2197 non-null   float64            \n",
    " 25  possibly_sensitive_appealable  2197 non-null   float64 \n",
    " 27  retweeted_status               163 non-null    object             \n",
    " 28  quoted_status_id               26 non-null     float64            \n",
    " 29  quoted_status_id_str           26 non-null     float64            \n",
    " 30  quoted_status_permalink        26 non-null     object             \n",
    " 31  quoted_status                  24 non-null     object `\n",
    " \n",
    "   Moreover, since the requested columns from this data source are just three, the dataset needs to be pruned to keep only the incumbent columns (i.e. `tweet ID, retweet count, and favorite count`)"
   ]
  },
  {
   "cell_type": "markdown",
   "metadata": {},
   "source": [
    "<a id='clean'></id>\n",
    "\n",
    "## Cleaning ##\n",
    "\n",
    "<a href=\"#toc\">go above</a>\n",
    "\n",
    "Once identified the issues with the sources above, I start off this cleaning section doing a backup of the \"original\" dataframes:"
   ]
  },
  {
   "cell_type": "markdown",
   "metadata": {},
   "source": [
    "> Cleaning includes merging individual pieces of data according to the rules of tidy data."
   ]
  },
  {
   "cell_type": "code",
   "execution_count": 157,
   "metadata": {},
   "outputs": [],
   "source": [
    "archive_clean_df = archive_df\n",
    "images_clean_df  = img_predictions_df\n",
    "json_clean_df = json_df"
   ]
  },
  {
   "cell_type": "markdown",
   "metadata": {},
   "source": [
    "### Cleaning Twitter archive dataframe ##"
   ]
  },
  {
   "cell_type": "markdown",
   "metadata": {},
   "source": [
    "**Define** : Extract the URL of the text,  and remove them from the text field. I could not stablish `expanded_urls` direct to the same URLs in the `text` field, so I decided to create a new field, called `url_in_text`."
   ]
  },
  {
   "cell_type": "code",
   "execution_count": 158,
   "metadata": {},
   "outputs": [],
   "source": [
    "pattern = r'(https?:\\/\\/(www\\.)?[-a-zA-Z0-9@:%._\\+~#=]{1,256}\\.[a-zA-Z0-9()]{1,6}\\b([-a-zA-Z0-9()@:%_\\+.~#?&//=]*))'"
   ]
  },
  {
   "cell_type": "code",
   "execution_count": 159,
   "metadata": {},
   "outputs": [],
   "source": [
    "archive_clean_df['url_in_text'] = archive_clean_df.text.str.extract(pattern, expand=True)[0]"
   ]
  },
  {
   "cell_type": "code",
   "execution_count": 160,
   "metadata": {},
   "outputs": [
    {
     "data": {
      "text/plain": [
       "2353    https://t.co/y671yMhoiR\n",
       "2354    https://t.co/r7mOb2m0UI\n",
       "2355    https://t.co/BLDqew2Ijj\n",
       "Name: url_in_text, dtype: object"
      ]
     },
     "metadata": {},
     "output_type": "display_data"
    },
    {
     "data": {
      "text/plain": [
       "2353    https://twitter.com/dog_rates/status/666033412...\n",
       "2354    https://twitter.com/dog_rates/status/666029285...\n",
       "2355    https://twitter.com/dog_rates/status/666020888...\n",
       "Name: expanded_urls, dtype: object"
      ]
     },
     "metadata": {},
     "output_type": "display_data"
    }
   ],
   "source": [
    "display(archive_clean_df.url_in_text.tail(3), archive_clean_df.expanded_urls.tail(3))"
   ]
  },
  {
   "cell_type": "code",
   "execution_count": 181,
   "metadata": {},
   "outputs": [],
   "source": [
    "archive_clean_df.text = archive_clean_df.text.str.replace(pattern, '', regex=True)"
   ]
  },
  {
   "cell_type": "markdown",
   "metadata": {},
   "source": [
    "**Test**: Looking for occurrences URL pattern should return 0"
   ]
  },
  {
   "cell_type": "code",
   "execution_count": 162,
   "metadata": {},
   "outputs": [
    {
     "data": {
      "text/plain": [
       "0"
      ]
     },
     "execution_count": 162,
     "metadata": {},
     "output_type": "execute_result"
    }
   ],
   "source": [
    "archive_clean_df.text.str.count(pattern).sum()"
   ]
  },
  {
   "cell_type": "markdown",
   "metadata": {},
   "source": [
    "**Define** : calculate the actual rating of each tweet entry. Having both numerator and denominator for each tweet, we are missing the actual numerical value of the rating.\n",
    "\n",
    "Prior to do that, we must avoid a division by zero, so I will replace those denominators = 0 with the value of the numerator."
   ]
  },
  {
   "cell_type": "code",
   "execution_count": 163,
   "metadata": {},
   "outputs": [
    {
     "name": "stderr",
     "output_type": "stream",
     "text": [
      "<ipython-input-163-f6f092e08a19>:1: SettingWithCopyWarning: \n",
      "A value is trying to be set on a copy of a slice from a DataFrame\n",
      "\n",
      "See the caveats in the documentation: https://pandas.pydata.org/pandas-docs/stable/user_guide/indexing.html#returning-a-view-versus-a-copy\n",
      "  archive_clean_df['rating_denominator'][archive_clean_df.rating_denominator == 0] = archive_clean_df.rating_numerator\n"
     ]
    }
   ],
   "source": [
    "archive_clean_df['rating_denominator'][archive_clean_df.rating_denominator == 0] = archive_clean_df.rating_numerator"
   ]
  },
  {
   "cell_type": "markdown",
   "metadata": {},
   "source": [
    "**Test**. Querying the dataframe for an entry with denominator = 0 should give an empty result"
   ]
  },
  {
   "cell_type": "code",
   "execution_count": 164,
   "metadata": {},
   "outputs": [
    {
     "data": {
      "text/html": [
       "<div>\n",
       "<style scoped>\n",
       "    .dataframe tbody tr th:only-of-type {\n",
       "        vertical-align: middle;\n",
       "    }\n",
       "\n",
       "    .dataframe tbody tr th {\n",
       "        vertical-align: top;\n",
       "    }\n",
       "\n",
       "    .dataframe thead th {\n",
       "        text-align: right;\n",
       "    }\n",
       "</style>\n",
       "<table border=\"1\" class=\"dataframe\">\n",
       "  <thead>\n",
       "    <tr style=\"text-align: right;\">\n",
       "      <th></th>\n",
       "      <th>tweet_id</th>\n",
       "      <th>in_reply_to_status_id</th>\n",
       "      <th>in_reply_to_user_id</th>\n",
       "      <th>timestamp</th>\n",
       "      <th>source</th>\n",
       "      <th>text</th>\n",
       "      <th>retweeted_status_id</th>\n",
       "      <th>retweeted_status_user_id</th>\n",
       "      <th>retweeted_status_timestamp</th>\n",
       "      <th>expanded_urls</th>\n",
       "      <th>rating_numerator</th>\n",
       "      <th>rating_denominator</th>\n",
       "      <th>name</th>\n",
       "      <th>doggo</th>\n",
       "      <th>floofer</th>\n",
       "      <th>pupper</th>\n",
       "      <th>puppo</th>\n",
       "      <th>url_in_text</th>\n",
       "    </tr>\n",
       "  </thead>\n",
       "  <tbody>\n",
       "  </tbody>\n",
       "</table>\n",
       "</div>"
      ],
      "text/plain": [
       "Empty DataFrame\n",
       "Columns: [tweet_id, in_reply_to_status_id, in_reply_to_user_id, timestamp, source, text, retweeted_status_id, retweeted_status_user_id, retweeted_status_timestamp, expanded_urls, rating_numerator, rating_denominator, name, doggo, floofer, pupper, puppo, url_in_text]\n",
       "Index: []"
      ]
     },
     "execution_count": 164,
     "metadata": {},
     "output_type": "execute_result"
    }
   ],
   "source": [
    "#archive_clean_df.iloc[313,:]\n",
    "archive_clean_df[archive_clean_df.rating_denominator == 0]"
   ]
  },
  {
   "cell_type": "markdown",
   "metadata": {},
   "source": [
    "Next, we proceed to create the actual `rating` column in the dataframe:"
   ]
  },
  {
   "cell_type": "code",
   "execution_count": 165,
   "metadata": {},
   "outputs": [
    {
     "name": "stdout",
     "output_type": "stream",
     "text": [
      "<class 'pandas.core.frame.DataFrame'>\n",
      "RangeIndex: 2356 entries, 0 to 2355\n",
      "Data columns (total 19 columns):\n",
      " #   Column                      Non-Null Count  Dtype  \n",
      "---  ------                      --------------  -----  \n",
      " 0   tweet_id                    2356 non-null   int64  \n",
      " 1   in_reply_to_status_id       78 non-null     float64\n",
      " 2   in_reply_to_user_id         78 non-null     float64\n",
      " 3   timestamp                   2356 non-null   object \n",
      " 4   source                      2356 non-null   object \n",
      " 5   text                        2356 non-null   object \n",
      " 6   retweeted_status_id         181 non-null    float64\n",
      " 7   retweeted_status_user_id    181 non-null    float64\n",
      " 8   retweeted_status_timestamp  181 non-null    object \n",
      " 9   expanded_urls               2297 non-null   object \n",
      " 10  rating_numerator            2356 non-null   int64  \n",
      " 11  rating_denominator          2356 non-null   int64  \n",
      " 12  name                        2356 non-null   object \n",
      " 13  doggo                       2356 non-null   object \n",
      " 14  floofer                     2356 non-null   object \n",
      " 15  pupper                      2356 non-null   object \n",
      " 16  puppo                       2356 non-null   object \n",
      " 17  url_in_text                 2239 non-null   object \n",
      " 18  rating                      2356 non-null   float64\n",
      "dtypes: float64(5), int64(3), object(11)\n",
      "memory usage: 349.8+ KB\n"
     ]
    },
    {
     "data": {
      "text/plain": [
       "None"
      ]
     },
     "metadata": {},
     "output_type": "display_data"
    }
   ],
   "source": [
    "archive_clean_df['rating'] = archive_clean_df.rating_numerator / archive_clean_df.rating_denominator\n",
    "display(archive_clean_df.info())"
   ]
  },
  {
   "cell_type": "code",
   "execution_count": 166,
   "metadata": {},
   "outputs": [
    {
     "data": {
      "text/html": [
       "<div>\n",
       "<style scoped>\n",
       "    .dataframe tbody tr th:only-of-type {\n",
       "        vertical-align: middle;\n",
       "    }\n",
       "\n",
       "    .dataframe tbody tr th {\n",
       "        vertical-align: top;\n",
       "    }\n",
       "\n",
       "    .dataframe thead th {\n",
       "        text-align: right;\n",
       "    }\n",
       "</style>\n",
       "<table border=\"1\" class=\"dataframe\">\n",
       "  <thead>\n",
       "    <tr style=\"text-align: right;\">\n",
       "      <th></th>\n",
       "      <th>text</th>\n",
       "      <th>rating</th>\n",
       "      <th>url_in_text</th>\n",
       "      <th>doggo</th>\n",
       "      <th>floofer</th>\n",
       "      <th>pupper</th>\n",
       "      <th>puppo</th>\n",
       "    </tr>\n",
       "  </thead>\n",
       "  <tbody>\n",
       "    <tr>\n",
       "      <th>0</th>\n",
       "      <td>This is Phineas. He's a mystical boy. Only eve...</td>\n",
       "      <td>1.3</td>\n",
       "      <td>https://t.co/MgUWQ76dJU</td>\n",
       "      <td>None</td>\n",
       "      <td>None</td>\n",
       "      <td>None</td>\n",
       "      <td>None</td>\n",
       "    </tr>\n",
       "    <tr>\n",
       "      <th>1</th>\n",
       "      <td>This is Tilly. She's just checking pup on you....</td>\n",
       "      <td>1.3</td>\n",
       "      <td>https://t.co/0Xxu71qeIV</td>\n",
       "      <td>None</td>\n",
       "      <td>None</td>\n",
       "      <td>None</td>\n",
       "      <td>None</td>\n",
       "    </tr>\n",
       "    <tr>\n",
       "      <th>2</th>\n",
       "      <td>This is Archie. He is a rare Norwegian Pouncin...</td>\n",
       "      <td>1.2</td>\n",
       "      <td>https://t.co/wUnZnhtVJB</td>\n",
       "      <td>None</td>\n",
       "      <td>None</td>\n",
       "      <td>None</td>\n",
       "      <td>None</td>\n",
       "    </tr>\n",
       "    <tr>\n",
       "      <th>3</th>\n",
       "      <td>This is Darla. She commenced a snooze mid meal...</td>\n",
       "      <td>1.3</td>\n",
       "      <td>https://t.co/tD36da7qLQ</td>\n",
       "      <td>None</td>\n",
       "      <td>None</td>\n",
       "      <td>None</td>\n",
       "      <td>None</td>\n",
       "    </tr>\n",
       "    <tr>\n",
       "      <th>4</th>\n",
       "      <td>This is Franklin. He would like you to stop ca...</td>\n",
       "      <td>1.2</td>\n",
       "      <td>https://t.co/AtUZn91f7f</td>\n",
       "      <td>None</td>\n",
       "      <td>None</td>\n",
       "      <td>None</td>\n",
       "      <td>None</td>\n",
       "    </tr>\n",
       "  </tbody>\n",
       "</table>\n",
       "</div>"
      ],
      "text/plain": [
       "                                                text  rating  \\\n",
       "0  This is Phineas. He's a mystical boy. Only eve...     1.3   \n",
       "1  This is Tilly. She's just checking pup on you....     1.3   \n",
       "2  This is Archie. He is a rare Norwegian Pouncin...     1.2   \n",
       "3  This is Darla. She commenced a snooze mid meal...     1.3   \n",
       "4  This is Franklin. He would like you to stop ca...     1.2   \n",
       "\n",
       "               url_in_text doggo floofer pupper puppo  \n",
       "0  https://t.co/MgUWQ76dJU  None    None   None  None  \n",
       "1  https://t.co/0Xxu71qeIV  None    None   None  None  \n",
       "2  https://t.co/wUnZnhtVJB  None    None   None  None  \n",
       "3  https://t.co/tD36da7qLQ  None    None   None  None  \n",
       "4  https://t.co/AtUZn91f7f  None    None   None  None  "
      ]
     },
     "execution_count": 166,
     "metadata": {},
     "output_type": "execute_result"
    }
   ],
   "source": [
    "archive_clean_df[['text', 'rating', 'url_in_text','doggo', 'floofer', 'pupper', 'puppo' ]].head()"
   ]
  },
  {
   "cell_type": "markdown",
   "metadata": {},
   "source": [
    "**Define**: Remove retweet-related rows, since the [project's keypoints] (https://bit.ly/3rdSXFj) state retweets are not to be considered"
   ]
  },
  {
   "cell_type": "code",
   "execution_count": 167,
   "metadata": {},
   "outputs": [],
   "source": [
    "list_of_rows = archive_clean_df[archive_clean_df.retweeted_status_id.isnull() == False].index\n",
    "archive_clean_df.drop(list_of_rows, inplace=True)"
   ]
  },
  {
   "cell_type": "markdown",
   "metadata": {},
   "source": [
    "**Test**: looking for rows with retweet_status.isnull() should retrieve an empty result"
   ]
  },
  {
   "cell_type": "code",
   "execution_count": 168,
   "metadata": {},
   "outputs": [
    {
     "data": {
      "text/html": [
       "<div>\n",
       "<style scoped>\n",
       "    .dataframe tbody tr th:only-of-type {\n",
       "        vertical-align: middle;\n",
       "    }\n",
       "\n",
       "    .dataframe tbody tr th {\n",
       "        vertical-align: top;\n",
       "    }\n",
       "\n",
       "    .dataframe thead th {\n",
       "        text-align: right;\n",
       "    }\n",
       "</style>\n",
       "<table border=\"1\" class=\"dataframe\">\n",
       "  <thead>\n",
       "    <tr style=\"text-align: right;\">\n",
       "      <th></th>\n",
       "      <th>tweet_id</th>\n",
       "      <th>in_reply_to_status_id</th>\n",
       "      <th>in_reply_to_user_id</th>\n",
       "      <th>timestamp</th>\n",
       "      <th>source</th>\n",
       "      <th>text</th>\n",
       "      <th>retweeted_status_id</th>\n",
       "      <th>retweeted_status_user_id</th>\n",
       "      <th>retweeted_status_timestamp</th>\n",
       "      <th>expanded_urls</th>\n",
       "      <th>rating_numerator</th>\n",
       "      <th>rating_denominator</th>\n",
       "      <th>name</th>\n",
       "      <th>doggo</th>\n",
       "      <th>floofer</th>\n",
       "      <th>pupper</th>\n",
       "      <th>puppo</th>\n",
       "      <th>url_in_text</th>\n",
       "      <th>rating</th>\n",
       "    </tr>\n",
       "  </thead>\n",
       "  <tbody>\n",
       "  </tbody>\n",
       "</table>\n",
       "</div>"
      ],
      "text/plain": [
       "Empty DataFrame\n",
       "Columns: [tweet_id, in_reply_to_status_id, in_reply_to_user_id, timestamp, source, text, retweeted_status_id, retweeted_status_user_id, retweeted_status_timestamp, expanded_urls, rating_numerator, rating_denominator, name, doggo, floofer, pupper, puppo, url_in_text, rating]\n",
       "Index: []"
      ]
     },
     "execution_count": 168,
     "metadata": {},
     "output_type": "execute_result"
    }
   ],
   "source": [
    "archive_clean_df[archive_clean_df.retweeted_status_id.isnull() == False]"
   ]
  },
  {
   "cell_type": "markdown",
   "metadata": {},
   "source": [
    "**Define**: Tidy up the [`doggo    floofer    pupper    puppo `] columns to have these categories into a `stage` column. Once `stage` is created, remove the other four columns."
   ]
  },
  {
   "cell_type": "code",
   "execution_count": 169,
   "metadata": {},
   "outputs": [
    {
     "data": {
      "text/plain": [
       "None, None, None, None        1831\n",
       "None, None, pupper, None       224\n",
       "doggo, None, None, None         75\n",
       "None, None, None, puppo         24\n",
       "doggo, None, pupper, None       10\n",
       "None, floofer, None, None        9\n",
       "doggo, floofer, None, None       1\n",
       "doggo, None, None, puppo         1\n",
       "Name: stage, dtype: int64"
      ]
     },
     "metadata": {},
     "output_type": "display_data"
    }
   ],
   "source": [
    "archive_clean_df['stage'] = archive_clean_df.doggo +  ', ' + archive_clean_df.floofer +  ', ' + archive_clean_df.pupper +  ', ' + archive_clean_df.puppo\n",
    "display(archive_clean_df['stage'].value_counts())"
   ]
  },
  {
   "cell_type": "markdown",
   "metadata": {},
   "source": [
    "Now, I get rid of the ocurrences of `None` and `, `"
   ]
  },
  {
   "cell_type": "code",
   "execution_count": 174,
   "metadata": {},
   "outputs": [],
   "source": [
    "pattern = r\"None(\\,\\s)?\"\n",
    "farchive_clean_df.stage = archive_clean_df.stage.str.replace(pattern, '',  regex=True).str.strip()\n",
    "#get rid of trailing ','\n",
    "archive_clean_df.stage = archive_clean_df.stage.str.replace(r\"\\,$\", '',  regex=True)"
   ]
  },
  {
   "cell_type": "markdown",
   "metadata": {},
   "source": [
    "Now that we have the `stage` column, we get the value counts of the columns being replaced, prior to getting rif of them:"
   ]
  },
  {
   "cell_type": "code",
   "execution_count": 177,
   "metadata": {},
   "outputs": [
    {
     "data": {
      "text/plain": [
       "None       2165\n",
       "floofer      10\n",
       "Name: floofer, dtype: int64"
      ]
     },
     "metadata": {},
     "output_type": "display_data"
    },
    {
     "data": {
      "text/plain": [
       "None     2088\n",
       "doggo      87\n",
       "Name: doggo, dtype: int64"
      ]
     },
     "metadata": {},
     "output_type": "display_data"
    },
    {
     "data": {
      "text/plain": [
       "None      1941\n",
       "pupper     234\n",
       "Name: pupper, dtype: int64"
      ]
     },
     "metadata": {},
     "output_type": "display_data"
    },
    {
     "data": {
      "text/plain": [
       "None     2150\n",
       "puppo      25\n",
       "Name: puppo, dtype: int64"
      ]
     },
     "metadata": {},
     "output_type": "display_data"
    }
   ],
   "source": [
    "display (archive_clean_df.floofer.value_counts() , archive_clean_df.doggo.value_counts(),\\\n",
    "         archive_clean_df.pupper.value_counts(), archive_clean_df.puppo.value_counts())"
   ]
  },
  {
   "cell_type": "code",
   "execution_count": 179,
   "metadata": {},
   "outputs": [],
   "source": [
    "archive_clean_df.drop(labels= ['floofer', 'doggo', 'pupper', 'puppo'], inplace= True, axis=1)"
   ]
  },
  {
   "cell_type": "markdown",
   "metadata": {},
   "source": [
    "**Test**: the value counts for each  of the `doggo  floofer  pupper  puppo`  columns should match those in the new 'stage'. The actual count turned out to be more however, due to the \"combined\" stages of doggo and either of {floofer | pupper | puppo}"
   ]
  },
  {
   "cell_type": "code",
   "execution_count": 180,
   "metadata": {},
   "outputs": [
    {
     "data": {
      "text/plain": [
       "                  1831\n",
       "pupper             224\n",
       "doggo               75\n",
       "puppo               24\n",
       "doggo, pupper       10\n",
       "floofer              9\n",
       "doggo, puppo         1\n",
       "doggo, floofer       1\n",
       "Name: stage, dtype: int64"
      ]
     },
     "metadata": {},
     "output_type": "display_data"
    },
    {
     "name": "stdout",
     "output_type": "stream",
     "text": [
      "<class 'pandas.core.frame.DataFrame'>\n",
      "Int64Index: 2175 entries, 0 to 2355\n",
      "Data columns (total 16 columns):\n",
      " #   Column                      Non-Null Count  Dtype  \n",
      "---  ------                      --------------  -----  \n",
      " 0   tweet_id                    2175 non-null   int64  \n",
      " 1   in_reply_to_status_id       78 non-null     float64\n",
      " 2   in_reply_to_user_id         78 non-null     float64\n",
      " 3   timestamp                   2175 non-null   object \n",
      " 4   source                      2175 non-null   object \n",
      " 5   text                        2175 non-null   object \n",
      " 6   retweeted_status_id         0 non-null      float64\n",
      " 7   retweeted_status_user_id    0 non-null      float64\n",
      " 8   retweeted_status_timestamp  0 non-null      object \n",
      " 9   expanded_urls               2117 non-null   object \n",
      " 10  rating_numerator            2175 non-null   int64  \n",
      " 11  rating_denominator          2175 non-null   int64  \n",
      " 12  name                        2175 non-null   object \n",
      " 13  url_in_text                 2117 non-null   object \n",
      " 14  rating                      2175 non-null   float64\n",
      " 15  stage                       2175 non-null   object \n",
      "dtypes: float64(5), int64(3), object(8)\n",
      "memory usage: 288.9+ KB\n"
     ]
    },
    {
     "data": {
      "text/plain": [
       "None"
      ]
     },
     "metadata": {},
     "output_type": "display_data"
    }
   ],
   "source": [
    "#.shape\n",
    "#drop_me.str.findall(pattern, flags=re.IGNORECASE)\n",
    "display(archive_clean_df.stage.value_counts())\n",
    "display(archive_clean_df.info())"
   ]
  },
  {
   "cell_type": "markdown",
   "metadata": {},
   "source": [
    "**Define**: Remove `source` column, as the values store do not seem to add much insight into the dogs analysis. In the datasource provided, we obvserve four different values for this column:"
   ]
  },
  {
   "cell_type": "code",
   "execution_count": 183,
   "metadata": {},
   "outputs": [
    {
     "data": {
      "text/plain": [
       "<a href=\"http://twitter.com/download/iphone\" rel=\"nofollow\">Twitter for iPhone</a>     2042\n",
       "<a href=\"http://vine.co\" rel=\"nofollow\">Vine - Make a Scene</a>                          91\n",
       "<a href=\"http://twitter.com\" rel=\"nofollow\">Twitter Web Client</a>                       31\n",
       "<a href=\"https://about.twitter.com/products/tweetdeck\" rel=\"nofollow\">TweetDeck</a>      11\n",
       "Name: source, dtype: int64"
      ]
     },
     "execution_count": 183,
     "metadata": {},
     "output_type": "execute_result"
    }
   ],
   "source": [
    "archive_clean_df.source.value_counts()"
   ]
  },
  {
   "cell_type": "markdown",
   "metadata": {},
   "source": [
    "Which all seem to indicate the device or mode used to tweet the data. Those options do not provide (in my opinion) further aid to do an analysis of the dog-related information. Therefore, I proceed to remove it:"
   ]
  },
  {
   "cell_type": "code",
   "execution_count": 186,
   "metadata": {},
   "outputs": [],
   "source": [
    "archive_clean_df.drop(labels=['source'], axis=1, inplace=True)"
   ]
  },
  {
   "cell_type": "markdown",
   "metadata": {},
   "source": [
    "**Test**: now the column must be removed"
   ]
  },
  {
   "cell_type": "code",
   "execution_count": 187,
   "metadata": {},
   "outputs": [
    {
     "name": "stdout",
     "output_type": "stream",
     "text": [
      "<class 'pandas.core.frame.DataFrame'>\n",
      "Int64Index: 2175 entries, 0 to 2355\n",
      "Data columns (total 15 columns):\n",
      " #   Column                      Non-Null Count  Dtype  \n",
      "---  ------                      --------------  -----  \n",
      " 0   tweet_id                    2175 non-null   int64  \n",
      " 1   in_reply_to_status_id       78 non-null     float64\n",
      " 2   in_reply_to_user_id         78 non-null     float64\n",
      " 3   timestamp                   2175 non-null   object \n",
      " 4   text                        2175 non-null   object \n",
      " 5   retweeted_status_id         0 non-null      float64\n",
      " 6   retweeted_status_user_id    0 non-null      float64\n",
      " 7   retweeted_status_timestamp  0 non-null      object \n",
      " 8   expanded_urls               2117 non-null   object \n",
      " 9   rating_numerator            2175 non-null   int64  \n",
      " 10  rating_denominator          2175 non-null   int64  \n",
      " 11  name                        2175 non-null   object \n",
      " 12  url_in_text                 2117 non-null   object \n",
      " 13  rating                      2175 non-null   float64\n",
      " 14  stage                       2175 non-null   object \n",
      "dtypes: float64(5), int64(3), object(7)\n",
      "memory usage: 271.9+ KB\n"
     ]
    }
   ],
   "source": [
    "archive_clean_df.info()"
   ]
  },
  {
   "cell_type": "markdown",
   "metadata": {},
   "source": [
    "### Cleaning images dataframe ##"
   ]
  },
  {
   "cell_type": "markdown",
   "metadata": {},
   "source": [
    "**Define**: Remove those entries where `p1_dog` is set to `False` being the rationale as follows: column 'p1_dog' decides whether the entry can be regarded as a dog, yes or no. If columns p1* is the algorithm's #1 prediction for the image in the tweet, what I observe is that 'p1_dog' = False, the image cannot be correctly predicted since there might be a dog in the image, but often is not the main subject in the image. "
   ]
  },
  {
   "cell_type": "code",
   "execution_count": 81,
   "metadata": {},
   "outputs": [
    {
     "data": {
      "text/plain": [
       "(543, 12)"
      ]
     },
     "execution_count": 81,
     "metadata": {},
     "output_type": "execute_result"
    }
   ],
   "source": [
    "#**TODO**: When merging into the master dataset, store the rows excluded, and see how well do they score (i.e. see the tweet's rating to see if there's an insight there)\n",
    "false_predict_df = images_clean_df[images_clean_df.p1_dog == False]\n",
    "false_predict_df.shape"
   ]
  },
  {
   "cell_type": "code",
   "execution_count": 82,
   "metadata": {},
   "outputs": [],
   "source": [
    "#display(false_predict_df.index, false_predict_df.head())\n",
    "images_clean_df.drop( false_predict_df.index, inplace=True)"
   ]
  },
  {
   "cell_type": "markdown",
   "metadata": {},
   "source": [
    "**Test**: The following selection should return 0 rows in the images_clean dataframe"
   ]
  },
  {
   "cell_type": "code",
   "execution_count": 83,
   "metadata": {},
   "outputs": [
    {
     "data": {
      "text/html": [
       "<div>\n",
       "<style scoped>\n",
       "    .dataframe tbody tr th:only-of-type {\n",
       "        vertical-align: middle;\n",
       "    }\n",
       "\n",
       "    .dataframe tbody tr th {\n",
       "        vertical-align: top;\n",
       "    }\n",
       "\n",
       "    .dataframe thead th {\n",
       "        text-align: right;\n",
       "    }\n",
       "</style>\n",
       "<table border=\"1\" class=\"dataframe\">\n",
       "  <thead>\n",
       "    <tr style=\"text-align: right;\">\n",
       "      <th></th>\n",
       "      <th>tweet_id</th>\n",
       "      <th>jpg_url</th>\n",
       "      <th>img_num</th>\n",
       "      <th>p1</th>\n",
       "      <th>p1_conf</th>\n",
       "      <th>p1_dog</th>\n",
       "      <th>p2</th>\n",
       "      <th>p2_conf</th>\n",
       "      <th>p2_dog</th>\n",
       "      <th>p3</th>\n",
       "      <th>p3_conf</th>\n",
       "      <th>p3_dog</th>\n",
       "    </tr>\n",
       "  </thead>\n",
       "  <tbody>\n",
       "  </tbody>\n",
       "</table>\n",
       "</div>"
      ],
      "text/plain": [
       "Empty DataFrame\n",
       "Columns: [tweet_id, jpg_url, img_num, p1, p1_conf, p1_dog, p2, p2_conf, p2_dog, p3, p3_conf, p3_dog]\n",
       "Index: []"
      ]
     },
     "execution_count": 83,
     "metadata": {},
     "output_type": "execute_result"
    }
   ],
   "source": [
    "images_clean_df[images_clean_df.p1_dog == False]"
   ]
  },
  {
   "cell_type": "markdown",
   "metadata": {},
   "source": [
    "### Cleaning json dataframe ##"
   ]
  },
  {
   "cell_type": "markdown",
   "metadata": {},
   "source": [
    "**Define**: Remove non interesting columns from json dataframe, i.e. those not required by the rubric and with missing values."
   ]
  },
  {
   "cell_type": "code",
   "execution_count": 190,
   "metadata": {},
   "outputs": [],
   "source": [
    "json_clean_df.drop(labels= ['created_at', 'full_text', 'id_str', 'truncated', 'display_text_range', 'entities',\n",
    "       'extended_entities', 'source', 'in_reply_to_status_id',\n",
    "       'in_reply_to_status_id_str', 'in_reply_to_user_id',\n",
    "       'in_reply_to_user_id_str', 'in_reply_to_screen_name', 'user', 'geo',\n",
    "       'coordinates', 'place', 'contributors', 'is_quote_status', 'favorited',\n",
    "       'retweeted', 'possibly_sensitive', 'possibly_sensitive_appealable',\n",
    "       'lang', 'retweeted_status', 'quoted_status_id', 'quoted_status_id_str',\n",
    "       'quoted_status_permalink', 'quoted_status'], inplace= True, axis=1)"
   ]
  },
  {
   "cell_type": "markdown",
   "metadata": {},
   "source": [
    "**Test**: there should only be three columns left in the dataframe"
   ]
  },
  {
   "cell_type": "code",
   "execution_count": 191,
   "metadata": {},
   "outputs": [
    {
     "name": "stdout",
     "output_type": "stream",
     "text": [
      "<class 'pandas.core.frame.DataFrame'>\n",
      "RangeIndex: 2331 entries, 0 to 2330\n",
      "Data columns (total 3 columns):\n",
      " #   Column          Non-Null Count  Dtype\n",
      "---  ------          --------------  -----\n",
      " 0   id              2331 non-null   int64\n",
      " 1   retweet_count   2331 non-null   int64\n",
      " 2   favorite_count  2331 non-null   int64\n",
      "dtypes: int64(3)\n",
      "memory usage: 54.8 KB\n"
     ]
    }
   ],
   "source": [
    "json_clean_df.info()"
   ]
  },
  {
   "cell_type": "markdown",
   "metadata": {},
   "source": [
    "**Define**: Rename column `id` for `tweet_id`"
   ]
  },
  {
   "cell_type": "code",
   "execution_count": 192,
   "metadata": {},
   "outputs": [],
   "source": [
    "json_clean_df.rename(columns={\"id\": \"tweet_id\"}, inplace=True)"
   ]
  },
  {
   "cell_type": "markdown",
   "metadata": {},
   "source": [
    "Test:"
   ]
  },
  {
   "cell_type": "code",
   "execution_count": 193,
   "metadata": {},
   "outputs": [
    {
     "name": "stdout",
     "output_type": "stream",
     "text": [
      "<class 'pandas.core.frame.DataFrame'>\n",
      "RangeIndex: 2331 entries, 0 to 2330\n",
      "Data columns (total 3 columns):\n",
      " #   Column          Non-Null Count  Dtype\n",
      "---  ------          --------------  -----\n",
      " 0   tweet_id        2331 non-null   int64\n",
      " 1   retweet_count   2331 non-null   int64\n",
      " 2   favorite_count  2331 non-null   int64\n",
      "dtypes: int64(3)\n",
      "memory usage: 54.8 KB\n"
     ]
    }
   ],
   "source": [
    "json_clean_df.info()"
   ]
  },
  {
   "cell_type": "markdown",
   "metadata": {},
   "source": [
    "<a id='store'></id>\n",
    "## Storing ##\n",
    "<a href=\"#toc\">go above</a>\n",
    "\n",
    "> the clean files have to be joined and eventually save to a twitter_archive_master.csv"
   ]
  },
  {
   "cell_type": "code",
   "execution_count": 202,
   "metadata": {},
   "outputs": [],
   "source": [
    "#merge  archive_clean_df with json_clean_d\n",
    "master_df = archive_clean_df.merge(json_clean_df, how = 'left', right_on='tweet_id', left_on= 'tweet_id')\n",
    "    \n",
    "#join images_clean_df to archive_clean_df\n",
    "master_df = master_df.merge(images_clean_df, how= 'left', left_on='tweet_id', right_on='tweet_id')"
   ]
  },
  {
   "cell_type": "markdown",
   "metadata": {},
   "source": [
    "**Test** : The total number of colums should be  = to the sum of columns of all three dataframes, `i.e., len(archive_clean_df.columns) + len(images_clean_df.columns)  + len(json_clean_df.columns)` , minus two (the tweet_id in each of the merged datasets)"
   ]
  },
  {
   "cell_type": "code",
   "execution_count": 206,
   "metadata": {},
   "outputs": [
    {
     "data": {
      "text/plain": [
       "30"
      ]
     },
     "execution_count": 206,
     "metadata": {},
     "output_type": "execute_result"
    }
   ],
   "source": [
    "len(archive_clean_df.columns) + len(images_clean_df.columns)  + len(json_clean_df.columns)"
   ]
  },
  {
   "cell_type": "code",
   "execution_count": 203,
   "metadata": {},
   "outputs": [
    {
     "name": "stdout",
     "output_type": "stream",
     "text": [
      "<class 'pandas.core.frame.DataFrame'>\n",
      "Int64Index: 2175 entries, 0 to 2174\n",
      "Data columns (total 28 columns):\n",
      " #   Column                      Non-Null Count  Dtype  \n",
      "---  ------                      --------------  -----  \n",
      " 0   tweet_id                    2175 non-null   int64  \n",
      " 1   in_reply_to_status_id       78 non-null     float64\n",
      " 2   in_reply_to_user_id         78 non-null     float64\n",
      " 3   timestamp                   2175 non-null   object \n",
      " 4   text                        2175 non-null   object \n",
      " 5   retweeted_status_id         0 non-null      float64\n",
      " 6   retweeted_status_user_id    0 non-null      float64\n",
      " 7   retweeted_status_timestamp  0 non-null      object \n",
      " 8   expanded_urls               2117 non-null   object \n",
      " 9   rating_numerator            2175 non-null   int64  \n",
      " 10  rating_denominator          2175 non-null   int64  \n",
      " 11  name                        2175 non-null   object \n",
      " 12  url_in_text                 2117 non-null   object \n",
      " 13  rating                      2175 non-null   float64\n",
      " 14  stage                       2175 non-null   object \n",
      " 15  retweet_count               2168 non-null   float64\n",
      " 16  favorite_count              2168 non-null   float64\n",
      " 17  jpg_url                     1994 non-null   object \n",
      " 18  img_num                     1994 non-null   float64\n",
      " 19  p1                          1994 non-null   object \n",
      " 20  p1_conf                     1994 non-null   float64\n",
      " 21  p1_dog                      1994 non-null   object \n",
      " 22  p2                          1994 non-null   object \n",
      " 23  p2_conf                     1994 non-null   float64\n",
      " 24  p2_dog                      1994 non-null   object \n",
      " 25  p3                          1994 non-null   object \n",
      " 26  p3_conf                     1994 non-null   float64\n",
      " 27  p3_dog                      1994 non-null   object \n",
      "dtypes: float64(11), int64(3), object(14)\n",
      "memory usage: 492.8+ KB\n"
     ]
    }
   ],
   "source": [
    "master_df.info()"
   ]
  },
  {
   "cell_type": "markdown",
   "metadata": {},
   "source": [
    "#TODO convert  img_num  , favorite_count  and retweet_count to integer as in the original DF, before saving to master DF"
   ]
  },
  {
   "cell_type": "code",
   "execution_count": 207,
   "metadata": {},
   "outputs": [
    {
     "data": {
      "text/html": [
       "<div>\n",
       "<style scoped>\n",
       "    .dataframe tbody tr th:only-of-type {\n",
       "        vertical-align: middle;\n",
       "    }\n",
       "\n",
       "    .dataframe tbody tr th {\n",
       "        vertical-align: top;\n",
       "    }\n",
       "\n",
       "    .dataframe thead th {\n",
       "        text-align: right;\n",
       "    }\n",
       "</style>\n",
       "<table border=\"1\" class=\"dataframe\">\n",
       "  <thead>\n",
       "    <tr style=\"text-align: right;\">\n",
       "      <th></th>\n",
       "      <th>tweet_id</th>\n",
       "      <th>in_reply_to_status_id</th>\n",
       "      <th>in_reply_to_user_id</th>\n",
       "      <th>timestamp</th>\n",
       "      <th>text</th>\n",
       "      <th>retweeted_status_id</th>\n",
       "      <th>retweeted_status_user_id</th>\n",
       "      <th>retweeted_status_timestamp</th>\n",
       "      <th>expanded_urls</th>\n",
       "      <th>rating_numerator</th>\n",
       "      <th>...</th>\n",
       "      <th>img_num</th>\n",
       "      <th>p1</th>\n",
       "      <th>p1_conf</th>\n",
       "      <th>p1_dog</th>\n",
       "      <th>p2</th>\n",
       "      <th>p2_conf</th>\n",
       "      <th>p2_dog</th>\n",
       "      <th>p3</th>\n",
       "      <th>p3_conf</th>\n",
       "      <th>p3_dog</th>\n",
       "    </tr>\n",
       "  </thead>\n",
       "  <tbody>\n",
       "    <tr>\n",
       "      <th>0</th>\n",
       "      <td>892420643555336193</td>\n",
       "      <td>NaN</td>\n",
       "      <td>NaN</td>\n",
       "      <td>2017-08-01 16:23:56 +0000</td>\n",
       "      <td>This is Phineas. He's a mystical boy. Only eve...</td>\n",
       "      <td>NaN</td>\n",
       "      <td>NaN</td>\n",
       "      <td>NaN</td>\n",
       "      <td>https://twitter.com/dog_rates/status/892420643...</td>\n",
       "      <td>13</td>\n",
       "      <td>...</td>\n",
       "      <td>1.0</td>\n",
       "      <td>orange</td>\n",
       "      <td>0.097049</td>\n",
       "      <td>False</td>\n",
       "      <td>bagel</td>\n",
       "      <td>0.085851</td>\n",
       "      <td>False</td>\n",
       "      <td>banana</td>\n",
       "      <td>0.076110</td>\n",
       "      <td>False</td>\n",
       "    </tr>\n",
       "    <tr>\n",
       "      <th>1</th>\n",
       "      <td>892177421306343426</td>\n",
       "      <td>NaN</td>\n",
       "      <td>NaN</td>\n",
       "      <td>2017-08-01 00:17:27 +0000</td>\n",
       "      <td>This is Tilly. She's just checking pup on you....</td>\n",
       "      <td>NaN</td>\n",
       "      <td>NaN</td>\n",
       "      <td>NaN</td>\n",
       "      <td>https://twitter.com/dog_rates/status/892177421...</td>\n",
       "      <td>13</td>\n",
       "      <td>...</td>\n",
       "      <td>1.0</td>\n",
       "      <td>Chihuahua</td>\n",
       "      <td>0.323581</td>\n",
       "      <td>True</td>\n",
       "      <td>Pekinese</td>\n",
       "      <td>0.090647</td>\n",
       "      <td>True</td>\n",
       "      <td>papillon</td>\n",
       "      <td>0.068957</td>\n",
       "      <td>True</td>\n",
       "    </tr>\n",
       "  </tbody>\n",
       "</table>\n",
       "<p>2 rows × 28 columns</p>\n",
       "</div>"
      ],
      "text/plain": [
       "             tweet_id  in_reply_to_status_id  in_reply_to_user_id  \\\n",
       "0  892420643555336193                    NaN                  NaN   \n",
       "1  892177421306343426                    NaN                  NaN   \n",
       "\n",
       "                   timestamp  \\\n",
       "0  2017-08-01 16:23:56 +0000   \n",
       "1  2017-08-01 00:17:27 +0000   \n",
       "\n",
       "                                                text  retweeted_status_id  \\\n",
       "0  This is Phineas. He's a mystical boy. Only eve...                  NaN   \n",
       "1  This is Tilly. She's just checking pup on you....                  NaN   \n",
       "\n",
       "   retweeted_status_user_id retweeted_status_timestamp  \\\n",
       "0                       NaN                        NaN   \n",
       "1                       NaN                        NaN   \n",
       "\n",
       "                                       expanded_urls  rating_numerator  ...  \\\n",
       "0  https://twitter.com/dog_rates/status/892420643...                13  ...   \n",
       "1  https://twitter.com/dog_rates/status/892177421...                13  ...   \n",
       "\n",
       "   img_num         p1   p1_conf  p1_dog        p2   p2_conf  p2_dog        p3  \\\n",
       "0      1.0     orange  0.097049   False     bagel  0.085851   False    banana   \n",
       "1      1.0  Chihuahua  0.323581    True  Pekinese  0.090647    True  papillon   \n",
       "\n",
       "    p3_conf p3_dog  \n",
       "0  0.076110  False  \n",
       "1  0.068957   True  \n",
       "\n",
       "[2 rows x 28 columns]"
      ]
     },
     "execution_count": 207,
     "metadata": {},
     "output_type": "execute_result"
    }
   ],
   "source": [
    "master_df.head(2)"
   ]
  },
  {
   "cell_type": "markdown",
   "metadata": {},
   "source": [
    "And then we save it to the requested filename:"
   ]
  },
  {
   "cell_type": "code",
   "execution_count": 196,
   "metadata": {},
   "outputs": [],
   "source": [
    "master_df.to_csv( 'twitter_archive_master.csv', index=False)"
   ]
  },
  {
   "cell_type": "markdown",
   "metadata": {},
   "source": [
    "<a id='eda'></id>\n",
    "## Analyzing ##\n",
    "\n",
    "\n",
    "\n",
    "I want to answer the three following questions:\n",
    "\n",
    " 1) what's the dog best rated in the dataset. IN case of a tie, what;s the most recent?\n",
    " \n",
    " 2) what's the dog worst rated in the dataset. IN case of a tie, what;s the most recent?\n",
    " \n",
    " 3) what's the dog with more favorite tweets counts?"
   ]
  },
  {
   "cell_type": "markdown",
   "metadata": {},
   "source": [
    "In order to anwer the three questions above, first I get an impression of the ratings in the dataset:"
   ]
  },
  {
   "cell_type": "code",
   "execution_count": 316,
   "metadata": {},
   "outputs": [
    {
     "data": {
      "text/html": [
       "<div>\n",
       "<style scoped>\n",
       "    .dataframe tbody tr th:only-of-type {\n",
       "        vertical-align: middle;\n",
       "    }\n",
       "\n",
       "    .dataframe tbody tr th {\n",
       "        vertical-align: top;\n",
       "    }\n",
       "\n",
       "    .dataframe thead th {\n",
       "        text-align: right;\n",
       "    }\n",
       "</style>\n",
       "<table border=\"1\" class=\"dataframe\">\n",
       "  <thead>\n",
       "    <tr style=\"text-align: right;\">\n",
       "      <th></th>\n",
       "      <th>rating_numerator</th>\n",
       "      <th>rating_denominator</th>\n",
       "      <th>rating</th>\n",
       "    </tr>\n",
       "  </thead>\n",
       "  <tbody>\n",
       "    <tr>\n",
       "      <th>0</th>\n",
       "      <td>13</td>\n",
       "      <td>10</td>\n",
       "      <td>1.3</td>\n",
       "    </tr>\n",
       "    <tr>\n",
       "      <th>1</th>\n",
       "      <td>13</td>\n",
       "      <td>10</td>\n",
       "      <td>1.3</td>\n",
       "    </tr>\n",
       "    <tr>\n",
       "      <th>2</th>\n",
       "      <td>12</td>\n",
       "      <td>10</td>\n",
       "      <td>1.2</td>\n",
       "    </tr>\n",
       "    <tr>\n",
       "      <th>3</th>\n",
       "      <td>13</td>\n",
       "      <td>10</td>\n",
       "      <td>1.3</td>\n",
       "    </tr>\n",
       "    <tr>\n",
       "      <th>4</th>\n",
       "      <td>12</td>\n",
       "      <td>10</td>\n",
       "      <td>1.2</td>\n",
       "    </tr>\n",
       "  </tbody>\n",
       "</table>\n",
       "</div>"
      ],
      "text/plain": [
       "   rating_numerator  rating_denominator  rating\n",
       "0                13                  10     1.3\n",
       "1                13                  10     1.3\n",
       "2                12                  10     1.2\n",
       "3                13                  10     1.3\n",
       "4                12                  10     1.2"
      ]
     },
     "execution_count": 316,
     "metadata": {},
     "output_type": "execute_result"
    }
   ],
   "source": [
    "archive_clean_df[['rating_numerator', 'rating_denominator', 'rating']].head()"
   ]
  },
  {
   "cell_type": "code",
   "execution_count": 318,
   "metadata": {},
   "outputs": [
    {
     "data": {
      "text/plain": [
       "count    2356.000000\n",
       "mean        1.221937\n",
       "std         4.082620\n",
       "min         0.000000\n",
       "25%         1.000000\n",
       "50%         1.100000\n",
       "75%         1.200000\n",
       "max       177.600000\n",
       "Name: rating, dtype: float64"
      ]
     },
     "metadata": {},
     "output_type": "display_data"
    },
    {
     "data": {
      "text/plain": [
       "1.200000      562\n",
       "1.100000      469\n",
       "1.000000      464\n",
       "1.300000      351\n",
       "0.900000      157\n",
       "0.800000      102\n",
       "0.700000       54\n",
       "1.400000       54\n",
       "0.500000       38\n",
       "0.600000       32\n",
       "0.300000       19\n",
       "0.400000       15\n",
       "0.200000       11\n",
       "0.100000        8\n",
       "0.818182        2\n",
       "42.000000       2\n",
       "0.000000        2\n",
       "1.500000        2\n",
       "7.500000        2\n",
       "2.700000        1\n",
       "18.200000       1\n",
       "2.600000        1\n",
       "66.600000       1\n",
       "1.700000        1\n",
       "3.428571        1\n",
       "177.600000      1\n",
       "0.733333        1\n",
       "1.250000        1\n",
       "0.636364        1\n",
       "Name: rating, dtype: int64"
      ]
     },
     "metadata": {},
     "output_type": "display_data"
    }
   ],
   "source": [
    "display(archive_clean_df.rating.describe(),archive_clean_df.rating.value_counts())"
   ]
  },
  {
   "cell_type": "markdown",
   "metadata": {},
   "source": [
    "and we have a winner! Below the data of the tweet with the max rating value of 177.600000:"
   ]
  },
  {
   "cell_type": "code",
   "execution_count": 220,
   "metadata": {},
   "outputs": [
    {
     "data": {
      "text/html": [
       "<div>\n",
       "<style scoped>\n",
       "    .dataframe tbody tr th:only-of-type {\n",
       "        vertical-align: middle;\n",
       "    }\n",
       "\n",
       "    .dataframe tbody tr th {\n",
       "        vertical-align: top;\n",
       "    }\n",
       "\n",
       "    .dataframe thead th {\n",
       "        text-align: right;\n",
       "    }\n",
       "</style>\n",
       "<table border=\"1\" class=\"dataframe\">\n",
       "  <thead>\n",
       "    <tr style=\"text-align: right;\">\n",
       "      <th></th>\n",
       "      <th>tweet_id</th>\n",
       "      <th>in_reply_to_status_id</th>\n",
       "      <th>in_reply_to_user_id</th>\n",
       "      <th>timestamp</th>\n",
       "      <th>text</th>\n",
       "      <th>retweeted_status_id</th>\n",
       "      <th>retweeted_status_user_id</th>\n",
       "      <th>retweeted_status_timestamp</th>\n",
       "      <th>expanded_urls</th>\n",
       "      <th>rating_numerator</th>\n",
       "      <th>...</th>\n",
       "      <th>img_num</th>\n",
       "      <th>p1</th>\n",
       "      <th>p1_conf</th>\n",
       "      <th>p1_dog</th>\n",
       "      <th>p2</th>\n",
       "      <th>p2_conf</th>\n",
       "      <th>p2_dog</th>\n",
       "      <th>p3</th>\n",
       "      <th>p3_conf</th>\n",
       "      <th>p3_dog</th>\n",
       "    </tr>\n",
       "  </thead>\n",
       "  <tbody>\n",
       "    <tr>\n",
       "      <th>804</th>\n",
       "      <td>749981277374128128</td>\n",
       "      <td>NaN</td>\n",
       "      <td>NaN</td>\n",
       "      <td>2016-07-04 15:00:45 +0000</td>\n",
       "      <td>This is Atticus. He's quite simply America af....</td>\n",
       "      <td>NaN</td>\n",
       "      <td>NaN</td>\n",
       "      <td>NaN</td>\n",
       "      <td>https://twitter.com/dog_rates/status/749981277...</td>\n",
       "      <td>1776</td>\n",
       "      <td>...</td>\n",
       "      <td>1.0</td>\n",
       "      <td>bow_tie</td>\n",
       "      <td>0.533941</td>\n",
       "      <td>False</td>\n",
       "      <td>sunglasses</td>\n",
       "      <td>0.080822</td>\n",
       "      <td>False</td>\n",
       "      <td>sunglass</td>\n",
       "      <td>0.050776</td>\n",
       "      <td>False</td>\n",
       "    </tr>\n",
       "  </tbody>\n",
       "</table>\n",
       "<p>1 rows × 28 columns</p>\n",
       "</div>"
      ],
      "text/plain": [
       "               tweet_id  in_reply_to_status_id  in_reply_to_user_id  \\\n",
       "804  749981277374128128                    NaN                  NaN   \n",
       "\n",
       "                     timestamp  \\\n",
       "804  2016-07-04 15:00:45 +0000   \n",
       "\n",
       "                                                  text  retweeted_status_id  \\\n",
       "804  This is Atticus. He's quite simply America af....                  NaN   \n",
       "\n",
       "     retweeted_status_user_id retweeted_status_timestamp  \\\n",
       "804                       NaN                        NaN   \n",
       "\n",
       "                                         expanded_urls  rating_numerator  ...  \\\n",
       "804  https://twitter.com/dog_rates/status/749981277...              1776  ...   \n",
       "\n",
       "     img_num       p1   p1_conf  p1_dog          p2   p2_conf  p2_dog  \\\n",
       "804      1.0  bow_tie  0.533941   False  sunglasses  0.080822   False   \n",
       "\n",
       "           p3   p3_conf p3_dog  \n",
       "804  sunglass  0.050776  False  \n",
       "\n",
       "[1 rows x 28 columns]"
      ]
     },
     "execution_count": 220,
     "metadata": {},
     "output_type": "execute_result"
    }
   ],
   "source": [
    "master_df[master_df.rating == master_df.rating.max()]"
   ]
  },
  {
   "cell_type": "code",
   "execution_count": 212,
   "metadata": {},
   "outputs": [
    {
     "data": {
      "text/plain": [
       "'2015-11-15 22:32:08 +0000'"
      ]
     },
     "metadata": {},
     "output_type": "display_data"
    },
    {
     "data": {
      "text/plain": [
       "'2017-08-01 16:23:56 +0000'"
      ]
     },
     "metadata": {},
     "output_type": "display_data"
    }
   ],
   "source": [
    "display(master_df.timestamp.min(), master_df.timestamp.max())"
   ]
  },
  {
   "cell_type": "raw",
   "metadata": {},
   "source": [
    "From the tweet's text, we can see Atticus is the name of the highest rated dog. \n",
    "\n",
    "Likewise, we have two candidates for the worst rated dogs:"
   ]
  },
  {
   "cell_type": "code",
   "execution_count": 224,
   "metadata": {},
   "outputs": [
    {
     "data": {
      "text/html": [
       "<div>\n",
       "<style scoped>\n",
       "    .dataframe tbody tr th:only-of-type {\n",
       "        vertical-align: middle;\n",
       "    }\n",
       "\n",
       "    .dataframe tbody tr th {\n",
       "        vertical-align: top;\n",
       "    }\n",
       "\n",
       "    .dataframe thead th {\n",
       "        text-align: right;\n",
       "    }\n",
       "</style>\n",
       "<table border=\"1\" class=\"dataframe\">\n",
       "  <thead>\n",
       "    <tr style=\"text-align: right;\">\n",
       "      <th></th>\n",
       "      <th>tweet_id</th>\n",
       "      <th>in_reply_to_status_id</th>\n",
       "      <th>in_reply_to_user_id</th>\n",
       "      <th>timestamp</th>\n",
       "      <th>text</th>\n",
       "      <th>retweeted_status_id</th>\n",
       "      <th>retweeted_status_user_id</th>\n",
       "      <th>retweeted_status_timestamp</th>\n",
       "      <th>expanded_urls</th>\n",
       "      <th>rating_numerator</th>\n",
       "      <th>...</th>\n",
       "      <th>img_num</th>\n",
       "      <th>p1</th>\n",
       "      <th>p1_conf</th>\n",
       "      <th>p1_dog</th>\n",
       "      <th>p2</th>\n",
       "      <th>p2_conf</th>\n",
       "      <th>p2_dog</th>\n",
       "      <th>p3</th>\n",
       "      <th>p3_conf</th>\n",
       "      <th>p3_dog</th>\n",
       "    </tr>\n",
       "  </thead>\n",
       "  <tbody>\n",
       "    <tr>\n",
       "      <th>265</th>\n",
       "      <td>835152434251116546</td>\n",
       "      <td>NaN</td>\n",
       "      <td>NaN</td>\n",
       "      <td>2017-02-24 15:40:31 +0000</td>\n",
       "      <td>When you're so blinded by your systematic plag...</td>\n",
       "      <td>NaN</td>\n",
       "      <td>NaN</td>\n",
       "      <td>NaN</td>\n",
       "      <td>https://twitter.com/dog_rates/status/835152434...</td>\n",
       "      <td>0</td>\n",
       "      <td>...</td>\n",
       "      <td>3.0</td>\n",
       "      <td>swing</td>\n",
       "      <td>0.967066</td>\n",
       "      <td>False</td>\n",
       "      <td>American_Staffordshire_terrier</td>\n",
       "      <td>0.012731</td>\n",
       "      <td>True</td>\n",
       "      <td>Staffordshire_bullterrier</td>\n",
       "      <td>0.007039</td>\n",
       "      <td>True</td>\n",
       "    </tr>\n",
       "    <tr>\n",
       "      <th>840</th>\n",
       "      <td>746906459439529985</td>\n",
       "      <td>7.468859e+17</td>\n",
       "      <td>4.196984e+09</td>\n",
       "      <td>2016-06-26 03:22:31 +0000</td>\n",
       "      <td>PUPDATE: can't see any. Even if I could, I cou...</td>\n",
       "      <td>NaN</td>\n",
       "      <td>NaN</td>\n",
       "      <td>NaN</td>\n",
       "      <td>https://twitter.com/dog_rates/status/746906459...</td>\n",
       "      <td>0</td>\n",
       "      <td>...</td>\n",
       "      <td>1.0</td>\n",
       "      <td>traffic_light</td>\n",
       "      <td>0.470708</td>\n",
       "      <td>False</td>\n",
       "      <td>fountain</td>\n",
       "      <td>0.199776</td>\n",
       "      <td>False</td>\n",
       "      <td>space_shuttle</td>\n",
       "      <td>0.064807</td>\n",
       "      <td>False</td>\n",
       "    </tr>\n",
       "  </tbody>\n",
       "</table>\n",
       "<p>2 rows × 28 columns</p>\n",
       "</div>"
      ],
      "text/plain": [
       "               tweet_id  in_reply_to_status_id  in_reply_to_user_id  \\\n",
       "265  835152434251116546                    NaN                  NaN   \n",
       "840  746906459439529985           7.468859e+17         4.196984e+09   \n",
       "\n",
       "                     timestamp  \\\n",
       "265  2017-02-24 15:40:31 +0000   \n",
       "840  2016-06-26 03:22:31 +0000   \n",
       "\n",
       "                                                  text  retweeted_status_id  \\\n",
       "265  When you're so blinded by your systematic plag...                  NaN   \n",
       "840  PUPDATE: can't see any. Even if I could, I cou...                  NaN   \n",
       "\n",
       "     retweeted_status_user_id retweeted_status_timestamp  \\\n",
       "265                       NaN                        NaN   \n",
       "840                       NaN                        NaN   \n",
       "\n",
       "                                         expanded_urls  rating_numerator  ...  \\\n",
       "265  https://twitter.com/dog_rates/status/835152434...                 0  ...   \n",
       "840  https://twitter.com/dog_rates/status/746906459...                 0  ...   \n",
       "\n",
       "     img_num             p1   p1_conf  p1_dog                              p2  \\\n",
       "265      3.0          swing  0.967066   False  American_Staffordshire_terrier   \n",
       "840      1.0  traffic_light  0.470708   False                        fountain   \n",
       "\n",
       "      p2_conf  p2_dog                         p3   p3_conf p3_dog  \n",
       "265  0.012731    True  Staffordshire_bullterrier  0.007039   True  \n",
       "840  0.199776   False              space_shuttle  0.064807  False  \n",
       "\n",
       "[2 rows x 28 columns]"
      ]
     },
     "execution_count": 224,
     "metadata": {},
     "output_type": "execute_result"
    }
   ],
   "source": [
    "master_df[master_df.rating == master_df.rating.min()]"
   ]
  },
  {
   "cell_type": "markdown",
   "metadata": {},
   "source": [
    "Sticking to my criteria previously defined of choosing the most recent tweet based on the timestamp, the row with index 265 abovef has the upper hand. \n",
    "When I visited the tweet's url, a number of surprising insights appeared:\n",
    "\n",
    "1. The @dog_rates tweet critisizes a twee plagiarized by another user (a bot maybe). \n",
    "2. The plagiarized tweet is very innacurate about the weekday: *feb. 24th, 2017 was Friday instead of Monday* ( that explains @dog_rates comment 😃)"
   ]
  },
  {
   "cell_type": "markdown",
   "metadata": {},
   "source": [
    "And for the last question above, here's the tweet with the most favorite_count:"
   ]
  },
  {
   "cell_type": "code",
   "execution_count": 231,
   "metadata": {},
   "outputs": [
    {
     "data": {
      "text/html": [
       "<div>\n",
       "<style scoped>\n",
       "    .dataframe tbody tr th:only-of-type {\n",
       "        vertical-align: middle;\n",
       "    }\n",
       "\n",
       "    .dataframe tbody tr th {\n",
       "        vertical-align: top;\n",
       "    }\n",
       "\n",
       "    .dataframe thead th {\n",
       "        text-align: right;\n",
       "    }\n",
       "</style>\n",
       "<table border=\"1\" class=\"dataframe\">\n",
       "  <thead>\n",
       "    <tr style=\"text-align: right;\">\n",
       "      <th></th>\n",
       "      <th>tweet_id</th>\n",
       "      <th>in_reply_to_status_id</th>\n",
       "      <th>in_reply_to_user_id</th>\n",
       "      <th>timestamp</th>\n",
       "      <th>text</th>\n",
       "      <th>retweeted_status_id</th>\n",
       "      <th>retweeted_status_user_id</th>\n",
       "      <th>retweeted_status_timestamp</th>\n",
       "      <th>expanded_urls</th>\n",
       "      <th>rating_numerator</th>\n",
       "      <th>...</th>\n",
       "      <th>img_num</th>\n",
       "      <th>p1</th>\n",
       "      <th>p1_conf</th>\n",
       "      <th>p1_dog</th>\n",
       "      <th>p2</th>\n",
       "      <th>p2_conf</th>\n",
       "      <th>p2_dog</th>\n",
       "      <th>p3</th>\n",
       "      <th>p3_conf</th>\n",
       "      <th>p3_dog</th>\n",
       "    </tr>\n",
       "  </thead>\n",
       "  <tbody>\n",
       "    <tr>\n",
       "      <th>862</th>\n",
       "      <td>744234799360020481</td>\n",
       "      <td>NaN</td>\n",
       "      <td>NaN</td>\n",
       "      <td>2016-06-18 18:26:18 +0000</td>\n",
       "      <td>Here's a doggo realizing you can stand in a po...</td>\n",
       "      <td>NaN</td>\n",
       "      <td>NaN</td>\n",
       "      <td>NaN</td>\n",
       "      <td>https://twitter.com/dog_rates/status/744234799...</td>\n",
       "      <td>13</td>\n",
       "      <td>...</td>\n",
       "      <td>1.0</td>\n",
       "      <td>Labrador_retriever</td>\n",
       "      <td>0.825333</td>\n",
       "      <td>True</td>\n",
       "      <td>ice_bear</td>\n",
       "      <td>0.044681</td>\n",
       "      <td>False</td>\n",
       "      <td>whippet</td>\n",
       "      <td>0.018442</td>\n",
       "      <td>True</td>\n",
       "    </tr>\n",
       "  </tbody>\n",
       "</table>\n",
       "<p>1 rows × 28 columns</p>\n",
       "</div>"
      ],
      "text/plain": [
       "               tweet_id  in_reply_to_status_id  in_reply_to_user_id  \\\n",
       "862  744234799360020481                    NaN                  NaN   \n",
       "\n",
       "                     timestamp  \\\n",
       "862  2016-06-18 18:26:18 +0000   \n",
       "\n",
       "                                                  text  retweeted_status_id  \\\n",
       "862  Here's a doggo realizing you can stand in a po...                  NaN   \n",
       "\n",
       "     retweeted_status_user_id retweeted_status_timestamp  \\\n",
       "862                       NaN                        NaN   \n",
       "\n",
       "                                         expanded_urls  rating_numerator  ...  \\\n",
       "862  https://twitter.com/dog_rates/status/744234799...                13  ...   \n",
       "\n",
       "     img_num                  p1   p1_conf  p1_dog        p2   p2_conf  \\\n",
       "862      1.0  Labrador_retriever  0.825333    True  ice_bear  0.044681   \n",
       "\n",
       "     p2_dog       p3   p3_conf p3_dog  \n",
       "862   False  whippet  0.018442   True  \n",
       "\n",
       "[1 rows x 28 columns]"
      ]
     },
     "execution_count": 231,
     "metadata": {},
     "output_type": "execute_result"
    }
   ],
   "source": [
    "master_df[master_df.favorite_count == master_df.favorite_count.max()]"
   ]
  },
  {
   "cell_type": "markdown",
   "metadata": {},
   "source": [
    "With over 150+ thousand hearts, if you watch the video in the tweet, you will understand why that *doggo* is a record breaker..."
   ]
  },
  {
   "cell_type": "markdown",
   "metadata": {},
   "source": [
    "<a id='plot'></id>\n",
    "## Visualizing ##\n",
    "<a href=\"#toc\">go above</a>\n",
    "\n",
    "There are many dog breeds in the dataset being treated. However, to get a feeling of the most popular ones, below I plot distribution of tweets for the top 10 breeds:"
   ]
  },
  {
   "cell_type": "code",
   "execution_count": 215,
   "metadata": {},
   "outputs": [
    {
     "data": {
      "image/png": "[encoded data removed]",
      "text/plain": [
       "<Figure size 432x288 with 1 Axes>"
      ]
     },
     "metadata": {},
     "output_type": "display_data"
    }
   ],
   "source": [
    "# At least one (1) visualization must be produced.\n",
    "%matplotlib inline\n",
    "images_clean_df.p1.value_counts()[:10].plot(kind='pie');"
   ]
  },
  {
   "cell_type": "code",
   "execution_count": null,
   "metadata": {},
   "outputs": [],
   "source": []
  }
 ],
 "metadata": {
  "kernelspec": {
   "display_name": "Python 3",
   "language": "python",
   "name": "python3"
  },
  "language_info": {
   "codemirror_mode": {
    "name": "ipython",
    "version": 3
   },
   "file_extension": ".py",
   "mimetype": "text/x-python",
   "name": "python",
   "nbconvert_exporter": "python",
   "pygments_lexer": "ipython3",
   "version": "3.8.5"
  }
 },
 "nbformat": 4,
 "nbformat_minor": 4
}
